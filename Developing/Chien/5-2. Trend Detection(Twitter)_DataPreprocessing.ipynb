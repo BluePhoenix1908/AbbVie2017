{
 "cells": [
  {
   "cell_type": "code",
   "execution_count": 1,
   "metadata": {
    "collapsed": false
   },
   "outputs": [],
   "source": [
    "import pandas as pd\n",
    "import numpy as np\n",
    "import re\n",
    "import nltk\n",
    "import csv\n",
    "from IPython.display import Image\n",
    "from IPython.display import display"
   ]
  },
  {
   "cell_type": "code",
   "execution_count": 2,
   "metadata": {
    "collapsed": false
   },
   "outputs": [
    {
     "name": "stderr",
     "output_type": "stream",
     "text": [
      "/Users/chiachienhung/anaconda/lib/python3.6/site-packages/IPython/core/interactiveshell.py:2717: DtypeWarning: Columns (3,4,5,6,9,10,11,12,14,16,17) have mixed types. Specify dtype option on import or set low_memory=False.\n",
      "  interactivity=interactivity, compiler=compiler, result=result)\n"
     ]
    }
   ],
   "source": [
    "import chardet\n",
    "import pandas as pd\n",
    "disease = pd.read_csv('Final_TW_1404.csv', encoding='ISO-8859-2')\n",
    "#with open('Final_TW_1404.csv', 'rb') as f:\n",
    "#    result = chardet.detect(f.read())  # or readline if the file is large\n",
    "    #print(result)\n",
    "#disease = pd.read_csv('Final_TW_1404.csv',encoding=result['encoding'])"
   ]
  },
  {
   "cell_type": "code",
   "execution_count": 3,
   "metadata": {
    "collapsed": false
   },
   "outputs": [
    {
     "data": {
      "text/html": [
       "<div>\n",
       "<table border=\"1\" class=\"dataframe\">\n",
       "  <thead>\n",
       "    <tr style=\"text-align: right;\">\n",
       "      <th></th>\n",
       "      <th>Unnamed: 0</th>\n",
       "      <th>Created.At</th>\n",
       "      <th>From.User</th>\n",
       "      <th>From.User.Id</th>\n",
       "      <th>To.User</th>\n",
       "      <th>To.User.Id</th>\n",
       "      <th>Language</th>\n",
       "      <th>Source</th>\n",
       "      <th>Text</th>\n",
       "      <th>Geo.Location.Latitude</th>\n",
       "      <th>Geo.Location.Longitude</th>\n",
       "      <th>Retweet.Count</th>\n",
       "      <th>Id</th>\n",
       "      <th>key</th>\n",
       "      <th>favorited</th>\n",
       "      <th>favoriteCount</th>\n",
       "      <th>isRetweet</th>\n",
       "      <th>retweeted</th>\n",
       "    </tr>\n",
       "  </thead>\n",
       "  <tbody>\n",
       "    <tr>\n",
       "      <th>0</th>\n",
       "      <td>1</td>\n",
       "      <td>3/23/2017 21:09</td>\n",
       "      <td>Julianne Hough</td>\n",
       "      <td>16579345</td>\n",
       "      <td>NaN</td>\n",
       "      <td>-1</td>\n",
       "      <td>en</td>\n",
       "      <td>&lt;a href='http://instagram.com' rel='nofollow'&gt;...</td>\n",
       "      <td>IĄŻm so excited to partner with AbbVie on a ca...</td>\n",
       "      <td>NaN</td>\n",
       "      <td>NaN</td>\n",
       "      <td>34</td>\n",
       "      <td>8.45E+17</td>\n",
       "      <td>abbvie</td>\n",
       "      <td>NaN</td>\n",
       "      <td>NaN</td>\n",
       "      <td>NaN</td>\n",
       "      <td>NaN</td>\n",
       "    </tr>\n",
       "    <tr>\n",
       "      <th>1</th>\n",
       "      <td>2</td>\n",
       "      <td>3/25/2017 21:25</td>\n",
       "      <td>K D Hill</td>\n",
       "      <td>8.13E+17</td>\n",
       "      <td>NaN</td>\n",
       "      <td>-1</td>\n",
       "      <td>en</td>\n",
       "      <td>&lt;a href='http://twitter.com/download/iphone' r...</td>\n",
       "      <td>RT @MichaelJFoxOrg: MJFF and AbbVie partnered ...</td>\n",
       "      <td>NaN</td>\n",
       "      <td>NaN</td>\n",
       "      <td>24</td>\n",
       "      <td>8.46E+17</td>\n",
       "      <td>abbvie</td>\n",
       "      <td>NaN</td>\n",
       "      <td>NaN</td>\n",
       "      <td>NaN</td>\n",
       "      <td>NaN</td>\n",
       "    </tr>\n",
       "    <tr>\n",
       "      <th>2</th>\n",
       "      <td>3</td>\n",
       "      <td>3/25/2017 20:12</td>\n",
       "      <td>Heather</td>\n",
       "      <td>2429350242</td>\n",
       "      <td>NaN</td>\n",
       "      <td>-1</td>\n",
       "      <td>en</td>\n",
       "      <td>&lt;a href='http://www.facebook.com/twitter' rel=...</td>\n",
       "      <td>Empowering Women to Speak Up About Endometrios...</td>\n",
       "      <td>NaN</td>\n",
       "      <td>NaN</td>\n",
       "      <td>0</td>\n",
       "      <td>8.46E+17</td>\n",
       "      <td>abbvie</td>\n",
       "      <td>NaN</td>\n",
       "      <td>NaN</td>\n",
       "      <td>NaN</td>\n",
       "      <td>NaN</td>\n",
       "    </tr>\n",
       "  </tbody>\n",
       "</table>\n",
       "</div>"
      ],
      "text/plain": [
       "   Unnamed: 0       Created.At       From.User From.User.Id To.User  \\\n",
       "0           1  3/23/2017 21:09  Julianne Hough     16579345     NaN   \n",
       "1           2  3/25/2017 21:25        K D Hill     8.13E+17     NaN   \n",
       "2           3  3/25/2017 20:12         Heather   2429350242     NaN   \n",
       "\n",
       "  To.User.Id Language                                             Source  \\\n",
       "0         -1       en  <a href='http://instagram.com' rel='nofollow'>...   \n",
       "1         -1       en  <a href='http://twitter.com/download/iphone' r...   \n",
       "2         -1       en  <a href='http://www.facebook.com/twitter' rel=...   \n",
       "\n",
       "                                                Text Geo.Location.Latitude  \\\n",
       "0  IĄŻm so excited to partner with AbbVie on a ca...                   NaN   \n",
       "1  RT @MichaelJFoxOrg: MJFF and AbbVie partnered ...                   NaN   \n",
       "2  Empowering Women to Speak Up About Endometrios...                   NaN   \n",
       "\n",
       "  Geo.Location.Longitude Retweet.Count        Id     key favorited  \\\n",
       "0                    NaN            34  8.45E+17  abbvie       NaN   \n",
       "1                    NaN            24  8.46E+17  abbvie       NaN   \n",
       "2                    NaN             0  8.46E+17  abbvie       NaN   \n",
       "\n",
       "   favoriteCount isRetweet retweeted  \n",
       "0            NaN       NaN       NaN  \n",
       "1            NaN       NaN       NaN  \n",
       "2            NaN       NaN       NaN  "
      ]
     },
     "metadata": {},
     "output_type": "display_data"
    }
   ],
   "source": [
    "#59333\n",
    "display(disease.head(3))"
   ]
  },
  {
   "cell_type": "code",
   "execution_count": 4,
   "metadata": {
    "collapsed": false
   },
   "outputs": [
    {
     "data": {
      "text/html": [
       "<div>\n",
       "<table border=\"1\" class=\"dataframe\">\n",
       "  <thead>\n",
       "    <tr style=\"text-align: right;\">\n",
       "      <th></th>\n",
       "      <th>key</th>\n",
       "      <th>created_time</th>\n",
       "      <th>language</th>\n",
       "      <th>message</th>\n",
       "    </tr>\n",
       "  </thead>\n",
       "  <tbody>\n",
       "    <tr>\n",
       "      <th>0</th>\n",
       "      <td>abbvie</td>\n",
       "      <td>3/23/2017 21:09</td>\n",
       "      <td>en</td>\n",
       "      <td>IĄŻm so excited to partner with AbbVie on a ca...</td>\n",
       "    </tr>\n",
       "    <tr>\n",
       "      <th>1</th>\n",
       "      <td>abbvie</td>\n",
       "      <td>3/25/2017 21:25</td>\n",
       "      <td>en</td>\n",
       "      <td>RT @MichaelJFoxOrg: MJFF and AbbVie partnered ...</td>\n",
       "    </tr>\n",
       "    <tr>\n",
       "      <th>2</th>\n",
       "      <td>abbvie</td>\n",
       "      <td>3/25/2017 20:12</td>\n",
       "      <td>en</td>\n",
       "      <td>Empowering Women to Speak Up About Endometrios...</td>\n",
       "    </tr>\n",
       "  </tbody>\n",
       "</table>\n",
       "</div>"
      ],
      "text/plain": [
       "      key     created_time language  \\\n",
       "0  abbvie  3/23/2017 21:09       en   \n",
       "1  abbvie  3/25/2017 21:25       en   \n",
       "2  abbvie  3/25/2017 20:12       en   \n",
       "\n",
       "                                             message  \n",
       "0  IĄŻm so excited to partner with AbbVie on a ca...  \n",
       "1  RT @MichaelJFoxOrg: MJFF and AbbVie partnered ...  \n",
       "2  Empowering Women to Speak Up About Endometrios...  "
      ]
     },
     "metadata": {},
     "output_type": "display_data"
    },
    {
     "name": "stdout",
     "output_type": "stream",
     "text": [
      "59333 38752\n"
     ]
    }
   ],
   "source": [
    "#display(disease.head(5))\n",
    "df = pd.DataFrame(disease, columns = ['key','Created.At','Language', 'Text'])\n",
    "rm_duplicates = df.drop_duplicates(subset=['key','Text'])\n",
    "#rm_duplicates_y = df.drop_duplicates(subset=['key','message.y'])\n",
    "\n",
    "#display(rm_duplicates_x.head(10))\n",
    "#display(rm_duplicates_y.head(10))\n",
    "message=rm_duplicates[['key','Created.At','Language', 'Text']]\n",
    "#message_y=rm_duplicates_y[['key', 'id.x', 'created_time.y', 'message.y']]\n",
    "message.columns=['key', 'created_time', 'language','message']\n",
    "#message_y.columns=['key', 'id.x', 'created_time','message']\n",
    "display(message.head(3))\n",
    "#display(message_y.head(10))\n",
    "print(len(df),len(message))\n",
    "#frames = [message_x, message_y]\n",
    "#result = pd.concat(frames, keys=['message.x', 'message.y'])\n",
    "#display(result.head(10))\n",
    "#print(len(result))\n",
    "message.to_csv(\"twitter_utf16.csv\", encoding='UTF-16LE',columns = ['key', 'created_time', 'language','message'])"
   ]
  },
  {
   "cell_type": "code",
   "execution_count": 5,
   "metadata": {
    "collapsed": false
   },
   "outputs": [
    {
     "data": {
      "text/html": [
       "<div>\n",
       "<table border=\"1\" class=\"dataframe\">\n",
       "  <thead>\n",
       "    <tr style=\"text-align: right;\">\n",
       "      <th></th>\n",
       "      <th>Unnamed: 0</th>\n",
       "      <th>key</th>\n",
       "      <th>created_time</th>\n",
       "      <th>language</th>\n",
       "      <th>message</th>\n",
       "    </tr>\n",
       "  </thead>\n",
       "  <tbody>\n",
       "    <tr>\n",
       "      <th>0</th>\n",
       "      <td>0</td>\n",
       "      <td>abbvie</td>\n",
       "      <td>3/23/2017 21:09</td>\n",
       "      <td>en</td>\n",
       "      <td>IĄŻm so excited to partner with AbbVie on a ca...</td>\n",
       "    </tr>\n",
       "    <tr>\n",
       "      <th>1</th>\n",
       "      <td>1</td>\n",
       "      <td>abbvie</td>\n",
       "      <td>3/25/2017 21:25</td>\n",
       "      <td>en</td>\n",
       "      <td>RT @MichaelJFoxOrg: MJFF and AbbVie partnered ...</td>\n",
       "    </tr>\n",
       "    <tr>\n",
       "      <th>2</th>\n",
       "      <td>2</td>\n",
       "      <td>abbvie</td>\n",
       "      <td>3/25/2017 20:12</td>\n",
       "      <td>en</td>\n",
       "      <td>Empowering Women to Speak Up About Endometrios...</td>\n",
       "    </tr>\n",
       "  </tbody>\n",
       "</table>\n",
       "</div>"
      ],
      "text/plain": [
       "   Unnamed: 0     key     created_time language  \\\n",
       "0           0  abbvie  3/23/2017 21:09       en   \n",
       "1           1  abbvie  3/25/2017 21:25       en   \n",
       "2           2  abbvie  3/25/2017 20:12       en   \n",
       "\n",
       "                                             message  \n",
       "0  IĄŻm so excited to partner with AbbVie on a ca...  \n",
       "1  RT @MichaelJFoxOrg: MJFF and AbbVie partnered ...  \n",
       "2  Empowering Women to Speak Up About Endometrios...  "
      ]
     },
     "metadata": {},
     "output_type": "display_data"
    },
    {
     "data": {
      "text/plain": [
       "38752"
      ]
     },
     "metadata": {},
     "output_type": "display_data"
    }
   ],
   "source": [
    "post_comment = pd.read_csv('twitter_utf16.csv', encoding='UTF-16LE') \n",
    "#df.apply(lambda x: pd.lib.infer_dtype(x.values))\n",
    "#post_comment.columns=['xy','docid','key', 'id.x', 'created_time','message']\n",
    "display(post_comment.head(3))\n",
    "display(len(post_comment['key']))"
   ]
  },
  {
   "cell_type": "code",
   "execution_count": 6,
   "metadata": {
    "collapsed": false
   },
   "outputs": [
    {
     "name": "stderr",
     "output_type": "stream",
     "text": [
      "/Users/chiachienhung/anaconda/lib/python3.6/site-packages/ipykernel/__main__.py:2: FutureWarning: sort(columns=....) is deprecated, use sort_values(by=.....)\n",
      "  from ipykernel import kernelapp as app\n",
      "/Users/chiachienhung/anaconda/lib/python3.6/site-packages/ipykernel/__main__.py:8: SettingWithCopyWarning: \n",
      "A value is trying to be set on a copy of a slice from a DataFrame\n",
      "\n",
      "See the caveats in the documentation: http://pandas.pydata.org/pandas-docs/stable/indexing.html#indexing-view-versus-copy\n",
      "/Users/chiachienhung/anaconda/lib/python3.6/site-packages/ipykernel/__main__.py:10: FutureWarning: sort(columns=....) is deprecated, use sort_values(by=.....)\n"
     ]
    },
    {
     "data": {
      "text/html": [
       "<div>\n",
       "<table border=\"1\" class=\"dataframe\">\n",
       "  <thead>\n",
       "    <tr style=\"text-align: right;\">\n",
       "      <th></th>\n",
       "      <th>Unnamed: 0</th>\n",
       "      <th>key</th>\n",
       "      <th>created_time</th>\n",
       "      <th>language</th>\n",
       "      <th>message</th>\n",
       "    </tr>\n",
       "  </thead>\n",
       "  <tbody>\n",
       "    <tr>\n",
       "      <th>0</th>\n",
       "      <td>5382</td>\n",
       "      <td>enbrel</td>\n",
       "      <td>2/23/2017 10:28</td>\n",
       "      <td>en</td>\n",
       "      <td>@NASSexercise I haven't been on #antiTNF since...</td>\n",
       "    </tr>\n",
       "    <tr>\n",
       "      <th>1</th>\n",
       "      <td>6096</td>\n",
       "      <td>humira</td>\n",
       "      <td>2/23/2017 10:28</td>\n",
       "      <td>en</td>\n",
       "      <td>@NASSexercise I haven't been on #antiTNF since...</td>\n",
       "    </tr>\n",
       "    <tr>\n",
       "      <th>2</th>\n",
       "      <td>6095</td>\n",
       "      <td>humira</td>\n",
       "      <td>2/23/2017 11:12</td>\n",
       "      <td>en</td>\n",
       "      <td>@mumwithas December isn't that long ago and Hu...</td>\n",
       "    </tr>\n",
       "  </tbody>\n",
       "</table>\n",
       "</div>"
      ],
      "text/plain": [
       "   Unnamed: 0     key     created_time language  \\\n",
       "0        5382  enbrel  2/23/2017 10:28       en   \n",
       "1        6096  humira  2/23/2017 10:28       en   \n",
       "2        6095  humira  2/23/2017 11:12       en   \n",
       "\n",
       "                                             message  \n",
       "0  @NASSexercise I haven't been on #antiTNF since...  \n",
       "1  @NASSexercise I haven't been on #antiTNF since...  \n",
       "2  @mumwithas December isn't that long ago and Hu...  "
      ]
     },
     "metadata": {},
     "output_type": "display_data"
    }
   ],
   "source": [
    "rm_na = post_comment.dropna()\n",
    "dtime = rm_na.sort(['created_time'])\n",
    "dtime.index=range(len(dtime))\n",
    "for i in range(len(dtime['created_time'])):\n",
    "    date=dtime['created_time'][i].split()[0].split('/')\n",
    "    #print(i,date)\n",
    "    if '2003' in date:\n",
    "        dtime['created_time'][i]=\"3/\"+date[0]+\"/2017 \"+dtime['created_time'][i].split()[1]\n",
    "dtime = dtime[0:9434]\n",
    "dtime = dtime.sort(['created_time'])\n",
    "dtime.index=range(len(dtime))\n",
    "#display(dtime)\n",
    "display(dtime.head(3))\n",
    "dfinal = pd.DataFrame(dtime, columns = ['key', 'created_time', 'language','message'])\n",
    "dfinal.to_csv(\"twitter_rm_utf16.csv\", encoding='UTF-16LE',columns = ['key', 'created_time', 'language','message'])"
   ]
  },
  {
   "cell_type": "code",
   "execution_count": 7,
   "metadata": {
    "collapsed": false
   },
   "outputs": [
    {
     "data": {
      "text/html": [
       "<div>\n",
       "<table border=\"1\" class=\"dataframe\">\n",
       "  <thead>\n",
       "    <tr style=\"text-align: right;\">\n",
       "      <th></th>\n",
       "      <th>Unnamed: 0</th>\n",
       "      <th>key</th>\n",
       "      <th>created_time</th>\n",
       "      <th>language</th>\n",
       "      <th>message</th>\n",
       "    </tr>\n",
       "  </thead>\n",
       "  <tbody>\n",
       "    <tr>\n",
       "      <th>0</th>\n",
       "      <td>0</td>\n",
       "      <td>enbrel</td>\n",
       "      <td>2/23/2017 10:28</td>\n",
       "      <td>en</td>\n",
       "      <td>@NASSexercise I haven't been on #antiTNF since...</td>\n",
       "    </tr>\n",
       "    <tr>\n",
       "      <th>1</th>\n",
       "      <td>1</td>\n",
       "      <td>humira</td>\n",
       "      <td>2/23/2017 10:28</td>\n",
       "      <td>en</td>\n",
       "      <td>@NASSexercise I haven't been on #antiTNF since...</td>\n",
       "    </tr>\n",
       "    <tr>\n",
       "      <th>2</th>\n",
       "      <td>2</td>\n",
       "      <td>humira</td>\n",
       "      <td>2/23/2017 11:12</td>\n",
       "      <td>en</td>\n",
       "      <td>@mumwithas December isn't that long ago and Hu...</td>\n",
       "    </tr>\n",
       "  </tbody>\n",
       "</table>\n",
       "</div>"
      ],
      "text/plain": [
       "   Unnamed: 0     key     created_time language  \\\n",
       "0           0  enbrel  2/23/2017 10:28       en   \n",
       "1           1  humira  2/23/2017 10:28       en   \n",
       "2           2  humira  2/23/2017 11:12       en   \n",
       "\n",
       "                                             message  \n",
       "0  @NASSexercise I haven't been on #antiTNF since...  \n",
       "1  @NASSexercise I haven't been on #antiTNF since...  \n",
       "2  @mumwithas December isn't that long ago and Hu...  "
      ]
     },
     "metadata": {},
     "output_type": "display_data"
    },
    {
     "name": "stdout",
     "output_type": "stream",
     "text": [
      "9434\n"
     ]
    }
   ],
   "source": [
    "dstart = pd.read_csv('twitter_rm_utf16.csv', encoding='UTF-16LE')\n",
    "display(dstart.head(3))\n",
    "print(len(dstart['key']))"
   ]
  },
  {
   "cell_type": "code",
   "execution_count": 8,
   "metadata": {
    "collapsed": true
   },
   "outputs": [],
   "source": [
    "from nltk import wordpunct_tokenize\n",
    "from nltk.corpus import stopwords\n",
    "def _calculate_languages_ratios(text):\n",
    "    languages_ratios = {}\n",
    "    tokens = wordpunct_tokenize(text)\n",
    "    words = [word.lower() for word in tokens]\n",
    "    for language in stopwords.fileids():\n",
    "        stopwords_set = set(stopwords.words(language))\n",
    "        words_set = set(words)\n",
    "        common_elements = words_set.intersection(stopwords_set)\n",
    "\n",
    "        languages_ratios[language] = len(common_elements) # language \"score\"\n",
    "\n",
    "    return languages_ratios\n",
    "def detect_language(text):\n",
    "    ratios = _calculate_languages_ratios(text)\n",
    "    most_rated_language = max(ratios, key=ratios.get)\n",
    "    return most_rated_language"
   ]
  },
  {
   "cell_type": "code",
   "execution_count": 9,
   "metadata": {
    "collapsed": false
   },
   "outputs": [
    {
     "name": "stdout",
     "output_type": "stream",
     "text": [
      "[nltk_data] Downloading package stopwords to\n",
      "[nltk_data]     /Users/chiachienhung/nltk_data...\n",
      "[nltk_data]   Package stopwords is already up-to-date!\n"
     ]
    }
   ],
   "source": [
    "import pandas as pd\n",
    "import numpy as np\n",
    "import re\n",
    "import nltk\n",
    "import csv\n",
    "nltk.download('stopwords')\n",
    "from nltk.corpus import stopwords\n",
    "#pip install langdetect\n",
    "from langdetect import detect\n",
    "\n",
    "df_twitter = pd.read_csv('twitter_rm_utf16.csv', encoding = 'utf-16LE', sep=',')\n",
    "                         \n",
    "with open('twitter_preprocessing_utf16.csv', 'w', encoding='UTF-16LE', newline='') as csvfile:\n",
    "    column = [['no','key', 'created_time', 'language','message','lang','re_message']]\n",
    "    writer = csv.writer(csvfile)\n",
    "    writer.writerows(column)\n",
    "    \n",
    "for i in range(len(df_twitter['message'])):    \n",
    "    features = []\n",
    "    features.append(i)\n",
    "    features.append(df_twitter['key'][i])\n",
    "    features.append(df_twitter['created_time'][i])\n",
    "    features.append(df_twitter['language'][i])\n",
    "    features.append(df_twitter['message'][i])\n",
    "    if(str(df_twitter['message'][i])==\"nan\"):\n",
    "        features.append('english')\n",
    "        features.append(df_twitter['message'][i])\n",
    "    else:\n",
    "        #tokens = nltk.word_tokenize(str(df_twitter['message'][i]))\n",
    "        tokens=' '.join(re.findall(r\"[\\w']+\", str(df_twitter['message'][i]))).lower().split()\n",
    "        postag=nltk.pos_tag(tokens)\n",
    "        irlist=[',','.',':','#',';','CD','WRB','RB','PRP','...',')','(','-','``','@']\n",
    "        wordlist=['co', 'https', 'http','rt','com']\n",
    "        adjandn = [word for word,pos in postag if pos not in irlist and word not in wordlist and len(word)>2]\n",
    "        #adjandn = [word for word,pos in postag if pos not in irlist]\n",
    "        lang=detect_language(df_twitter['message'][i])\n",
    "        features.append(lang)\n",
    "        #print(i,lang)\n",
    "        stop = set(stopwords.words(lang))\n",
    "        wordlist = [i for i in adjandn if i not in stop]\n",
    "        features.append(' '.join(wordlist))\n",
    "    with open('twitter_preprocessing_utf16.csv', 'a', encoding='UTF-16LE', newline='') as csvfile:\n",
    "        writer = csv.writer(csvfile)\n",
    "        writer.writerows([features])"
   ]
  },
  {
   "cell_type": "code",
   "execution_count": 10,
   "metadata": {
    "collapsed": false
   },
   "outputs": [
    {
     "data": {
      "text/html": [
       "<div>\n",
       "<table border=\"1\" class=\"dataframe\">\n",
       "  <thead>\n",
       "    <tr style=\"text-align: right;\">\n",
       "      <th></th>\n",
       "      <th>no</th>\n",
       "      <th>key</th>\n",
       "      <th>created_time</th>\n",
       "      <th>language</th>\n",
       "      <th>message</th>\n",
       "      <th>lang</th>\n",
       "      <th>re_message</th>\n",
       "    </tr>\n",
       "  </thead>\n",
       "  <tbody>\n",
       "    <tr>\n",
       "      <th>0</th>\n",
       "      <td>0</td>\n",
       "      <td>enbrel</td>\n",
       "      <td>2/23/2017 10:28</td>\n",
       "      <td>en</td>\n",
       "      <td>@NASSexercise I haven't been on #antiTNF since...</td>\n",
       "      <td>english</td>\n",
       "      <td>nassexercise haven't antitnf since december rh...</td>\n",
       "    </tr>\n",
       "    <tr>\n",
       "      <th>1</th>\n",
       "      <td>1</td>\n",
       "      <td>humira</td>\n",
       "      <td>2/23/2017 10:28</td>\n",
       "      <td>en</td>\n",
       "      <td>@NASSexercise I haven't been on #antiTNF since...</td>\n",
       "      <td>english</td>\n",
       "      <td>nassexercise haven't antitnf since december rh...</td>\n",
       "    </tr>\n",
       "    <tr>\n",
       "      <th>2</th>\n",
       "      <td>2</td>\n",
       "      <td>humira</td>\n",
       "      <td>2/23/2017 11:12</td>\n",
       "      <td>en</td>\n",
       "      <td>@mumwithas December isn't that long ago and Hu...</td>\n",
       "      <td>english</td>\n",
       "      <td>mumwithas december isn't humira stay system co...</td>\n",
       "    </tr>\n",
       "  </tbody>\n",
       "</table>\n",
       "</div>"
      ],
      "text/plain": [
       "   no     key     created_time language  \\\n",
       "0   0  enbrel  2/23/2017 10:28       en   \n",
       "1   1  humira  2/23/2017 10:28       en   \n",
       "2   2  humira  2/23/2017 11:12       en   \n",
       "\n",
       "                                             message     lang  \\\n",
       "0  @NASSexercise I haven't been on #antiTNF since...  english   \n",
       "1  @NASSexercise I haven't been on #antiTNF since...  english   \n",
       "2  @mumwithas December isn't that long ago and Hu...  english   \n",
       "\n",
       "                                          re_message  \n",
       "0  nassexercise haven't antitnf since december rh...  \n",
       "1  nassexercise haven't antitnf since december rh...  \n",
       "2  mumwithas december isn't humira stay system co...  "
      ]
     },
     "metadata": {},
     "output_type": "display_data"
    },
    {
     "name": "stdout",
     "output_type": "stream",
     "text": [
      "9434 9048\n"
     ]
    }
   ],
   "source": [
    "df_postncomment = pd.read_csv('twitter_preprocessing_utf16.csv', encoding = 'UTF-16LE', sep=',')\n",
    "#display(df_postncomment.head(5))\n",
    "df_english= df_postncomment.loc[df_postncomment['lang'] == 'english']\n",
    "#print(len(df_english['key']))\n",
    "df_rm = df_english.drop_duplicates(subset=['key','re_message'])\n",
    "display(df_rm.head(3))\n",
    "print(len(df_postncomment['key']),len(df_rm['key']))\n",
    "rm_english_na = df_rm.dropna()\n",
    "#print(len(rm_english_na))\n",
    "dfinal_tw = pd.DataFrame(rm_english_na, columns = ['no','key', 'created_time','message','lang','re_message'])\n",
    "dfinal_tw.to_csv(\"final_twitter_preprocessing_utf16.csv\", encoding='UTF-16LE',columns = ['no','key', 'created_time','message','lang','re_message'])"
   ]
  },
  {
   "cell_type": "code",
   "execution_count": 11,
   "metadata": {
    "collapsed": false,
    "scrolled": true
   },
   "outputs": [
    {
     "data": {
      "text/html": [
       "<div>\n",
       "<table border=\"1\" class=\"dataframe\">\n",
       "  <thead>\n",
       "    <tr style=\"text-align: right;\">\n",
       "      <th></th>\n",
       "      <th>Unnamed: 0</th>\n",
       "      <th>no</th>\n",
       "      <th>key</th>\n",
       "      <th>created_time</th>\n",
       "      <th>message</th>\n",
       "      <th>lang</th>\n",
       "      <th>re_message</th>\n",
       "    </tr>\n",
       "  </thead>\n",
       "  <tbody>\n",
       "    <tr>\n",
       "      <th>0</th>\n",
       "      <td>0</td>\n",
       "      <td>0</td>\n",
       "      <td>enbrel</td>\n",
       "      <td>2/23/2017 10:28</td>\n",
       "      <td>@NASSexercise I haven't been on #antiTNF since...</td>\n",
       "      <td>english</td>\n",
       "      <td>nassexercise haven't antitnf since december rh...</td>\n",
       "    </tr>\n",
       "    <tr>\n",
       "      <th>1</th>\n",
       "      <td>1</td>\n",
       "      <td>1</td>\n",
       "      <td>humira</td>\n",
       "      <td>2/23/2017 10:28</td>\n",
       "      <td>@NASSexercise I haven't been on #antiTNF since...</td>\n",
       "      <td>english</td>\n",
       "      <td>nassexercise haven't antitnf since december rh...</td>\n",
       "    </tr>\n",
       "    <tr>\n",
       "      <th>2</th>\n",
       "      <td>2</td>\n",
       "      <td>2</td>\n",
       "      <td>humira</td>\n",
       "      <td>2/23/2017 11:12</td>\n",
       "      <td>@mumwithas December isn't that long ago and Hu...</td>\n",
       "      <td>english</td>\n",
       "      <td>mumwithas december isn't humira stay system co...</td>\n",
       "    </tr>\n",
       "  </tbody>\n",
       "</table>\n",
       "</div>"
      ],
      "text/plain": [
       "   Unnamed: 0  no     key     created_time  \\\n",
       "0           0   0  enbrel  2/23/2017 10:28   \n",
       "1           1   1  humira  2/23/2017 10:28   \n",
       "2           2   2  humira  2/23/2017 11:12   \n",
       "\n",
       "                                             message     lang  \\\n",
       "0  @NASSexercise I haven't been on #antiTNF since...  english   \n",
       "1  @NASSexercise I haven't been on #antiTNF since...  english   \n",
       "2  @mumwithas December isn't that long ago and Hu...  english   \n",
       "\n",
       "                                          re_message  \n",
       "0  nassexercise haven't antitnf since december rh...  \n",
       "1  nassexercise haven't antitnf since december rh...  \n",
       "2  mumwithas december isn't humira stay system co...  "
      ]
     },
     "metadata": {},
     "output_type": "display_data"
    },
    {
     "name": "stdout",
     "output_type": "stream",
     "text": [
      "9048\n"
     ]
    }
   ],
   "source": [
    "df_postn = pd.read_csv('final_twitter_preprocessing_utf16.csv', encoding = 'UTF-16LE', sep=',')\n",
    "display(df_postn.head(3))\n",
    "print(len(df_postn))"
   ]
  },
  {
   "cell_type": "code",
   "execution_count": null,
   "metadata": {
    "collapsed": true
   },
   "outputs": [],
   "source": []
  }
 ],
 "metadata": {
  "kernelspec": {
   "display_name": "Python 3",
   "language": "python",
   "name": "python3"
  },
  "language_info": {
   "codemirror_mode": {
    "name": "ipython",
    "version": 3
   },
   "file_extension": ".py",
   "mimetype": "text/x-python",
   "name": "python",
   "nbconvert_exporter": "python",
   "pygments_lexer": "ipython3",
   "version": "3.6.0"
  }
 },
 "nbformat": 4,
 "nbformat_minor": 2
}
