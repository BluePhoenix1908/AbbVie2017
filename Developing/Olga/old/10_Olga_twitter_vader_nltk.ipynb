{
 "cells": [
  {
   "cell_type": "markdown",
   "metadata": {},
   "source": [
    "Download libraries"
   ]
  },
  {
   "cell_type": "code",
   "execution_count": 16,
   "metadata": {
    "collapsed": true
   },
   "outputs": [],
   "source": [
    "import sys\n",
    "import os\n",
    "import time\n",
    "import csv"
   ]
  },
  {
   "cell_type": "code",
   "execution_count": 70,
   "metadata": {
    "collapsed": false
   },
   "outputs": [
    {
     "name": "stderr",
     "output_type": "stream",
     "text": [
      "/Users/imacair/anaconda/lib/python2.7/site-packages/nltk/twitter/__init__.py:20: UserWarning: The twython library has not been installed. Some functionality from the twitter package will not be available.\n",
      "  warnings.warn(\"The twython library has not been installed. \"\n"
     ]
    }
   ],
   "source": [
    "from nltk.sentiment.vader import SentimentIntensityAnalyzer"
   ]
  },
  {
   "cell_type": "code",
   "execution_count": 3,
   "metadata": {
    "collapsed": true
   },
   "outputs": [],
   "source": [
    "import pandas as pd\n",
    "import numpy as np"
   ]
  },
  {
   "cell_type": "code",
   "execution_count": 4,
   "metadata": {
    "collapsed": false
   },
   "outputs": [
    {
     "name": "stderr",
     "output_type": "stream",
     "text": [
      "/Users/imacair/anaconda/lib/python2.7/site-packages/sklearn/cross_validation.py:44: DeprecationWarning: This module was deprecated in version 0.18 in favor of the model_selection module into which all the refactored classes and functions are moved. Also note that the interface of the new CV iterators are different from that of this module. This module will be removed in 0.20.\n",
      "  \"This module will be removed in 0.20.\", DeprecationWarning)\n"
     ]
    }
   ],
   "source": [
    "from sklearn.cross_validation import train_test_split\n",
    "import numpy as np"
   ]
  },
  {
   "cell_type": "code",
   "execution_count": 5,
   "metadata": {
    "collapsed": true
   },
   "outputs": [],
   "source": [
    "\n",
    "from sklearn.feature_extraction.text import TfidfVectorizer\n",
    "from sklearn import svm\n",
    "from sklearn.metrics import classification_report"
   ]
  },
  {
   "cell_type": "code",
   "execution_count": null,
   "metadata": {
    "collapsed": true
   },
   "outputs": [],
   "source": []
  },
  {
   "cell_type": "markdown",
   "metadata": {},
   "source": [
    "Set working directory"
   ]
  },
  {
   "cell_type": "code",
   "execution_count": 6,
   "metadata": {
    "collapsed": false
   },
   "outputs": [
    {
     "name": "stdout",
     "output_type": "stream",
     "text": [
      "/Users/imacair\n"
     ]
    }
   ],
   "source": [
    "print os.getcwd();"
   ]
  },
  {
   "cell_type": "markdown",
   "metadata": {},
   "source": [
    "Reads the file"
   ]
  },
  {
   "cell_type": "code",
   "execution_count": 7,
   "metadata": {
    "collapsed": true
   },
   "outputs": [],
   "source": [
    "os.chdir(\"/Users/imacair/Desktop/Products3/\")"
   ]
  },
  {
   "cell_type": "code",
   "execution_count": 8,
   "metadata": {
    "collapsed": false
   },
   "outputs": [],
   "source": [
    "data = pd.read_csv('Final_Manual_0805.csv', encoding= \"latin-1\",delimiter=',',low_memory=False)"
   ]
  },
  {
   "cell_type": "code",
   "execution_count": 9,
   "metadata": {
    "collapsed": true
   },
   "outputs": [],
   "source": [
    "#Converts text into ASCII\n",
    "data.message = data.message.str.encode('ascii','replace')\n",
    "data.sentiment = data.sentiment.str.encode('utf-8','replace')\n"
   ]
  },
  {
   "cell_type": "code",
   "execution_count": 10,
   "metadata": {
    "collapsed": false
   },
   "outputs": [
    {
     "data": {
      "text/plain": [
       "965"
      ]
     },
     "execution_count": 10,
     "metadata": {},
     "output_type": "execute_result"
    }
   ],
   "source": [
    "len(data)"
   ]
  },
  {
   "cell_type": "markdown",
   "metadata": {},
   "source": [
    "Take a sample from data"
   ]
  },
  {
   "cell_type": "code",
   "execution_count": 11,
   "metadata": {
    "collapsed": false
   },
   "outputs": [],
   "source": [
    "data_t=data[\"message\"]"
   ]
  },
  {
   "cell_type": "code",
   "execution_count": 12,
   "metadata": {
    "collapsed": true
   },
   "outputs": [],
   "source": [
    "#lowercase before abbriviation translation\n",
    "data_t = data_t.str.lower()"
   ]
  },
  {
   "cell_type": "code",
   "execution_count": 13,
   "metadata": {
    "collapsed": true
   },
   "outputs": [],
   "source": [
    "#takes sentiment\n",
    "data_s=data[\"sentiment\"]"
   ]
  },
  {
   "cell_type": "markdown",
   "metadata": {},
   "source": [
    "Preprocess the data"
   ]
  },
  {
   "cell_type": "markdown",
   "metadata": {},
   "source": [
    "Replacement of abbriviations"
   ]
  },
  {
   "cell_type": "code",
   "execution_count": 17,
   "metadata": {
    "collapsed": false
   },
   "outputs": [],
   "source": [
    "with open('abbrev.csv', mode='r') as infile:\n",
    "    reader = csv.reader(infile)\n",
    "    replacement = {rows[0].lower():rows[1].lower() for rows in reader              \n",
    "                  }"
   ]
  },
  {
   "cell_type": "code",
   "execution_count": 18,
   "metadata": {
    "collapsed": false
   },
   "outputs": [
    {
     "data": {
      "text/plain": [
       "'why? -or- yes are you l8'"
      ]
     },
     "execution_count": 18,
     "metadata": {},
     "output_type": "execute_result"
    }
   ],
   "source": [
    "##How in works\n",
    "s1 = 'y r u l8'\n",
    "\n",
    "s2 = ' '.join([replacement.get(w, w) for w in s1.split()])\n",
    "s2"
   ]
  },
  {
   "cell_type": "code",
   "execution_count": 19,
   "metadata": {
    "collapsed": true
   },
   "outputs": [],
   "source": [
    "result = pd.DataFrame()\n",
    "result = data_t"
   ]
  },
  {
   "cell_type": "code",
   "execution_count": 20,
   "metadata": {
    "collapsed": false
   },
   "outputs": [],
   "source": [
    "for i in range(len(result)):\n",
    "    data_t.values[i]=' '.join([replacement.get(w, w) for w in data_t.values[i].split()])"
   ]
  },
  {
   "cell_type": "code",
   "execution_count": 22,
   "metadata": {
    "collapsed": false
   },
   "outputs": [
    {
     "data": {
      "text/plain": [
       "0    #llbite ankylosing spondylitis - have (in date...\n",
       "1    #as 3 things people with ankylosing spondyliti...\n",
       "2    working group on the assessment of toxic chemi...\n",
       "3    i dont know if intense text sex the medication...\n",
       "4    #imaginedragons singer @danreynolds opens up a...\n",
       "Name: message, dtype: object"
      ]
     },
     "execution_count": 22,
     "metadata": {},
     "output_type": "execute_result"
    }
   ],
   "source": [
    "data_t.head()"
   ]
  },
  {
   "cell_type": "code",
   "execution_count": 23,
   "metadata": {
    "collapsed": false
   },
   "outputs": [
    {
     "data": {
      "text/plain": [
       "pandas.core.series.Series"
      ]
     },
     "execution_count": 23,
     "metadata": {},
     "output_type": "execute_result"
    }
   ],
   "source": [
    "type(result)"
   ]
  },
  {
   "cell_type": "code",
   "execution_count": 24,
   "metadata": {
    "collapsed": true
   },
   "outputs": [],
   "source": [
    "data_t=result"
   ]
  },
  {
   "cell_type": "code",
   "execution_count": 25,
   "metadata": {
    "collapsed": true
   },
   "outputs": [],
   "source": [
    "#lowercase\n",
    "data_t = data_t.str.lower()\n",
    "#Remove urls\n",
    "data_t= data_t.str.replace(r'(http.*) |(http.*)$|\\n', \"\",)\n",
    "#Remove twitter handles\n",
    "data_t = data_t.str.replace(r\"@\\\\w+\", \"\")\n",
    "#remove htmls\n",
    "data_t = data_t.str.replace(r'<.*?>', \"\")\n",
    "#Remove citations\n",
    "data_t = data_t.str.replace(r'@[a-zA-Z0-9]*', \"\")\n",
    "\n",
    "#remove _\n",
    "#data_t = data_t.str.replace(r'\\_+',\"\")"
   ]
  },
  {
   "cell_type": "code",
   "execution_count": 28,
   "metadata": {
    "collapsed": true
   },
   "outputs": [],
   "source": [
    "#Start of sentiment analysis"
   ]
  },
  {
   "cell_type": "code",
   "execution_count": 71,
   "metadata": {
    "collapsed": true
   },
   "outputs": [],
   "source": [
    "analyzer = SentimentIntensityAnalyzer()"
   ]
  },
  {
   "cell_type": "code",
   "execution_count": 80,
   "metadata": {
    "collapsed": false
   },
   "outputs": [
    {
     "data": {
      "text/plain": [
       "{'compound': -0.0772, 'neg': 0.071, 'neu': 0.929, 'pos': 0.0}"
      ]
     },
     "execution_count": 80,
     "metadata": {},
     "output_type": "execute_result"
    }
   ],
   "source": [
    "analyzer.polarity_scores(data_t[190])"
   ]
  },
  {
   "cell_type": "code",
   "execution_count": 106,
   "metadata": {
    "collapsed": true
   },
   "outputs": [],
   "source": [
    "res= pd.DataFrame( index=range(0,len(data_t)),columns = {'SentimentVader'} )"
   ]
  },
  {
   "cell_type": "code",
   "execution_count": 107,
   "metadata": {
    "collapsed": false
   },
   "outputs": [],
   "source": [
    "for i in range(len(data_t)):\n",
    "    vs = analyzer.polarity_scores(data_t.values[i])\n",
    "    if ((vs['compound']==0)):\n",
    "        res.values[i]= 'neu' \n",
    "    elif ((vs['compound'] < 0)):\n",
    "        res.values[i]= 'neg'\n",
    "    else:\n",
    "        res.values[i]= 'pos'\n",
    "    "
   ]
  },
  {
   "cell_type": "code",
   "execution_count": 108,
   "metadata": {
    "collapsed": true
   },
   "outputs": [
    {
     "data": {
      "text/plain": [
       "0      neg\n",
       "1      neu\n",
       "2      neu\n",
       "3      neg\n",
       "4      neg\n",
       "5      neu\n",
       "6      neg\n",
       "7      neg\n",
       "8      pos\n",
       "9      neu\n",
       "10     neu\n",
       "11     neu\n",
       "12     neu\n",
       "13     neg\n",
       "14     neu\n",
       "15     neu\n",
       "16     neg\n",
       "17     neg\n",
       "18     neu\n",
       "19     neg\n",
       "20     pos\n",
       "21     neu\n",
       "22     neg\n",
       "23     neg\n",
       "24     neu\n",
       "25     pos\n",
       "26     neu\n",
       "27     pos\n",
       "28     neu\n",
       "29     pos\n",
       "      ... \n",
       "935    pos\n",
       "936    pos\n",
       "937    pos\n",
       "938    pos\n",
       "939    pos\n",
       "940    neu\n",
       "941    neu\n",
       "942    pos\n",
       "943    pos\n",
       "944    neg\n",
       "945    pos\n",
       "946    pos\n",
       "947    neu\n",
       "948    pos\n",
       "949    pos\n",
       "950    pos\n",
       "951    pos\n",
       "952    neg\n",
       "953    neg\n",
       "954    pos\n",
       "955    pos\n",
       "956    pos\n",
       "957    pos\n",
       "958    pos\n",
       "959    neg\n",
       "960    neg\n",
       "961    neu\n",
       "962    pos\n",
       "963    pos\n",
       "964    neu\n",
       "Name: SentimentVader, dtype: object"
      ]
     },
     "execution_count": 108,
     "metadata": {},
     "output_type": "execute_result"
    }
   ],
   "source": [
    "res.SentimentVader"
   ]
  },
  {
   "cell_type": "code",
   "execution_count": 40,
   "metadata": {
    "collapsed": true
   },
   "outputs": [
    {
     "data": {
      "text/plain": [
       "0    #llbite ankylosing spondylitis - have (in date...\n",
       "1    #as 3 things people with ankylosing spondyliti...\n",
       "2    working group on the assessment of toxic chemi...\n",
       "3    i dont know if intense text sex the medication...\n",
       "4    #imaginedragons singer  opens up about his str...\n",
       "5    chinese medicine cure ankylosing spondylitis c...\n",
       "6    pain relief for patients with rheumatoid arthr...\n",
       "7    suffering from #ankylosingspondylitis? check o...\n",
       "8    herself goodwill newsletter significant other ...\n",
       "9    how they did it: 5 people with ankylosing spon...\n",
       "Name: message, dtype: object"
      ]
     },
     "execution_count": 40,
     "metadata": {},
     "output_type": "execute_result"
    }
   ],
   "source": [
    "data_t.head(10)"
   ]
  },
  {
   "cell_type": "code",
   "execution_count": 109,
   "metadata": {
    "collapsed": false
   },
   "outputs": [],
   "source": [
    "from textblob import TextBlob"
   ]
  },
  {
   "cell_type": "code",
   "execution_count": 110,
   "metadata": {
    "collapsed": true
   },
   "outputs": [],
   "source": [
    "final=pd.concat([data_t, res], axis=1)\n",
    "final=pd.concat([final, data_s], axis=1)"
   ]
  },
  {
   "cell_type": "code",
   "execution_count": 111,
   "metadata": {
    "collapsed": true
   },
   "outputs": [],
   "source": [
    "res5= pd.DataFrame( index=range(0,len(data_t)),columns = {'new_sent'} )\n",
    "res5[(final.sentiment==u'2')] = 'neg'\n",
    "res5[(final.sentiment==u'1')] = 'neg'\n",
    "res5[(final['sentiment']==u'3')] = 'pos'\n",
    "res5[(final['sentiment']==u'4')] = 'pos'\n",
    "res5[(final['sentiment']==u'N')] = 'neu'\n",
    "final=pd.concat([final, res5], axis=2)"
   ]
  },
  {
   "cell_type": "code",
   "execution_count": 112,
   "metadata": {
    "collapsed": false
   },
   "outputs": [
    {
     "data": {
      "text/html": [
       "<div>\n",
       "<table border=\"1\" class=\"dataframe\">\n",
       "  <thead>\n",
       "    <tr style=\"text-align: right;\">\n",
       "      <th></th>\n",
       "      <th>message</th>\n",
       "      <th>SentimentVader</th>\n",
       "      <th>sentiment</th>\n",
       "      <th>new_sent</th>\n",
       "    </tr>\n",
       "  </thead>\n",
       "  <tbody>\n",
       "    <tr>\n",
       "      <th>0</th>\n",
       "      <td>#llbite ankylosing spondylitis - have (in date...</td>\n",
       "      <td>neg</td>\n",
       "      <td>2</td>\n",
       "      <td>neg</td>\n",
       "    </tr>\n",
       "    <tr>\n",
       "      <th>1</th>\n",
       "      <td>#as 3 things people with ankylosing spondyliti...</td>\n",
       "      <td>neu</td>\n",
       "      <td>3</td>\n",
       "      <td>pos</td>\n",
       "    </tr>\n",
       "    <tr>\n",
       "      <th>2</th>\n",
       "      <td>working group on the assessment of toxic chemi...</td>\n",
       "      <td>neu</td>\n",
       "      <td>3</td>\n",
       "      <td>pos</td>\n",
       "    </tr>\n",
       "    <tr>\n",
       "      <th>3</th>\n",
       "      <td>i dont know if intense text sex the medication...</td>\n",
       "      <td>neg</td>\n",
       "      <td>1</td>\n",
       "      <td>neg</td>\n",
       "    </tr>\n",
       "    <tr>\n",
       "      <th>4</th>\n",
       "      <td>#imaginedragons singer  opens up about his str...</td>\n",
       "      <td>neg</td>\n",
       "      <td>2</td>\n",
       "      <td>neg</td>\n",
       "    </tr>\n",
       "    <tr>\n",
       "      <th>5</th>\n",
       "      <td>chinese medicine cure ankylosing spondylitis c...</td>\n",
       "      <td>neu</td>\n",
       "      <td>3</td>\n",
       "      <td>pos</td>\n",
       "    </tr>\n",
       "    <tr>\n",
       "      <th>6</th>\n",
       "      <td>pain relief for patients with rheumatoid arthr...</td>\n",
       "      <td>neg</td>\n",
       "      <td>3</td>\n",
       "      <td>pos</td>\n",
       "    </tr>\n",
       "    <tr>\n",
       "      <th>7</th>\n",
       "      <td>suffering from #ankylosingspondylitis? check o...</td>\n",
       "      <td>neg</td>\n",
       "      <td>3</td>\n",
       "      <td>pos</td>\n",
       "    </tr>\n",
       "    <tr>\n",
       "      <th>8</th>\n",
       "      <td>herself goodwill newsletter significant other ...</td>\n",
       "      <td>pos</td>\n",
       "      <td>2</td>\n",
       "      <td>neg</td>\n",
       "    </tr>\n",
       "    <tr>\n",
       "      <th>9</th>\n",
       "      <td>how they did it: 5 people with ankylosing spon...</td>\n",
       "      <td>neu</td>\n",
       "      <td>3</td>\n",
       "      <td>pos</td>\n",
       "    </tr>\n",
       "    <tr>\n",
       "      <th>10</th>\n",
       "      <td>imagine dragoons singer breaks silence about a...</td>\n",
       "      <td>neu</td>\n",
       "      <td>2</td>\n",
       "      <td>neg</td>\n",
       "    </tr>\n",
       "    <tr>\n",
       "      <th>11</th>\n",
       "      <td>the progression old fart ankylosing spondylitis</td>\n",
       "      <td>neu</td>\n",
       "      <td>2</td>\n",
       "      <td>neg</td>\n",
       "    </tr>\n",
       "    <tr>\n",
       "      <th>12</th>\n",
       "      <td>real time -or- retweet</td>\n",
       "      <td>neu</td>\n",
       "      <td>1</td>\n",
       "      <td>neg</td>\n",
       "    </tr>\n",
       "    <tr>\n",
       "      <th>13</th>\n",
       "      <td>imagine dragons?dan reynolds speaks out about ...</td>\n",
       "      <td>neg</td>\n",
       "      <td>2</td>\n",
       "      <td>neg</td>\n",
       "    </tr>\n",
       "    <tr>\n",
       "      <th>14</th>\n",
       "      <td>imagine dragons lead singer, dan reynolds, and...</td>\n",
       "      <td>neu</td>\n",
       "      <td>2</td>\n",
       "      <td>neg</td>\n",
       "    </tr>\n",
       "    <tr>\n",
       "      <th>15</th>\n",
       "      <td>chinese traditional medicine ankylosing spondy...</td>\n",
       "      <td>neu</td>\n",
       "      <td>2</td>\n",
       "      <td>neg</td>\n",
       "    </tr>\n",
       "    <tr>\n",
       "      <th>16</th>\n",
       "      <td>imagine dragons?dan reynolds speaks out about ...</td>\n",
       "      <td>neg</td>\n",
       "      <td>2</td>\n",
       "      <td>neg</td>\n",
       "    </tr>\n",
       "    <tr>\n",
       "      <th>17</th>\n",
       "      <td>imagine dragons' dan reynolds speaks out about...</td>\n",
       "      <td>neg</td>\n",
       "      <td>2</td>\n",
       "      <td>neg</td>\n",
       "    </tr>\n",
       "    <tr>\n",
       "      <th>18</th>\n",
       "      <td>imagine dragons' dan reynolds breaks his silen...</td>\n",
       "      <td>neu</td>\n",
       "      <td>2</td>\n",
       "      <td>neg</td>\n",
       "    </tr>\n",
       "    <tr>\n",
       "      <th>19</th>\n",
       "      <td>imagine dragon's dan reynolds breaks his silen...</td>\n",
       "      <td>neg</td>\n",
       "      <td>2</td>\n",
       "      <td>neg</td>\n",
       "    </tr>\n",
       "    <tr>\n",
       "      <th>20</th>\n",
       "      <td>great to be back at the gym today after (in da...</td>\n",
       "      <td>pos</td>\n",
       "      <td>3</td>\n",
       "      <td>pos</td>\n",
       "    </tr>\n",
       "    <tr>\n",
       "      <th>21</th>\n",
       "      <td>ankylosing spondylitis mom: when your diploma ...</td>\n",
       "      <td>neu</td>\n",
       "      <td>1</td>\n",
       "      <td>neg</td>\n",
       "    </tr>\n",
       "    <tr>\n",
       "      <th>22</th>\n",
       "      <td>i saw ape sh** -or- another subject used the...</td>\n",
       "      <td>neg</td>\n",
       "      <td>1</td>\n",
       "      <td>neg</td>\n",
       "    </tr>\n",
       "    <tr>\n",
       "      <th>23</th>\n",
       "      <td>. singer  opens up about his struggle with #an...</td>\n",
       "      <td>neg</td>\n",
       "      <td>2</td>\n",
       "      <td>neg</td>\n",
       "    </tr>\n",
       "    <tr>\n",
       "      <th>24</th>\n",
       "      <td>what is #ankylosingspondylitis?</td>\n",
       "      <td>neu</td>\n",
       "      <td>3</td>\n",
       "      <td>pos</td>\n",
       "    </tr>\n",
       "    <tr>\n",
       "      <th>25</th>\n",
       "      <td>how they did it: 5 people with ankylosing spon...</td>\n",
       "      <td>pos</td>\n",
       "      <td>3</td>\n",
       "      <td>pos</td>\n",
       "    </tr>\n",
       "    <tr>\n",
       "      <th>26</th>\n",
       "      <td>252.???????????casset?c - cystic fibrosisa - a...</td>\n",
       "      <td>neu</td>\n",
       "      <td>2</td>\n",
       "      <td>neg</td>\n",
       "    </tr>\n",
       "    <tr>\n",
       "      <th>27</th>\n",
       "      <td>via  spokesman dan reynolds will help bring aw...</td>\n",
       "      <td>pos</td>\n",
       "      <td>3</td>\n",
       "      <td>pos</td>\n",
       "    </tr>\n",
       "    <tr>\n",
       "      <th>28</th>\n",
       "      <td>ankylosing spondylitis... it's (in dates) ante...</td>\n",
       "      <td>neu</td>\n",
       "      <td>2</td>\n",
       "      <td>neg</td>\n",
       "    </tr>\n",
       "    <tr>\n",
       "      <th>29</th>\n",
       "      <td>my boyfriend ben is running major cytogenetic ...</td>\n",
       "      <td>pos</td>\n",
       "      <td>2</td>\n",
       "      <td>neg</td>\n",
       "    </tr>\n",
       "    <tr>\n",
       "      <th>...</th>\n",
       "      <td>...</td>\n",
       "      <td>...</td>\n",
       "      <td>...</td>\n",
       "      <td>...</td>\n",
       "    </tr>\n",
       "    <tr>\n",
       "      <th>935</th>\n",
       "      <td>thanks _ni_tweets   _group   _advice  and  for...</td>\n",
       "      <td>pos</td>\n",
       "      <td>4</td>\n",
       "      <td>pos</td>\n",
       "    </tr>\n",
       "    <tr>\n",
       "      <th>936</th>\n",
       "      <td>amgen, inc. $amgn rating increased to strong-b...</td>\n",
       "      <td>pos</td>\n",
       "      <td>N</td>\n",
       "      <td>neu</td>\n",
       "    </tr>\n",
       "    <tr>\n",
       "      <th>937</th>\n",
       "      <td>this is great to see - #amgen staff member jam...</td>\n",
       "      <td>pos</td>\n",
       "      <td>3</td>\n",
       "      <td>pos</td>\n",
       "    </tr>\n",
       "    <tr>\n",
       "      <th>938</th>\n",
       "      <td>novartis: study shows copycat works just ape s...</td>\n",
       "      <td>pos</td>\n",
       "      <td>N</td>\n",
       "      <td>neu</td>\n",
       "    </tr>\n",
       "    <tr>\n",
       "      <th>939</th>\n",
       "      <td>is amgen losing confidence in novartis-partner...</td>\n",
       "      <td>pos</td>\n",
       "      <td>2</td>\n",
       "      <td>neg</td>\n",
       "    </tr>\n",
       "    <tr>\n",
       "      <th>940</th>\n",
       "      <td>#biotech: 3 things to focus omni nocte (every ...</td>\n",
       "      <td>neu</td>\n",
       "      <td>N</td>\n",
       "      <td>neu</td>\n",
       "    </tr>\n",
       "    <tr>\n",
       "      <th>941</th>\n",
       "      <td>#360wisenews : earnings preview: what to expec...</td>\n",
       "      <td>neu</td>\n",
       "      <td>N</td>\n",
       "      <td>neu</td>\n",
       "    </tr>\n",
       "    <tr>\n",
       "      <th>942</th>\n",
       "      <td>thanks for the post and significant other glad...</td>\n",
       "      <td>pos</td>\n",
       "      <td>4</td>\n",
       "      <td>pos</td>\n",
       "    </tr>\n",
       "    <tr>\n",
       "      <th>943</th>\n",
       "      <td>(in dates) ante huge thank you to all our spon...</td>\n",
       "      <td>pos</td>\n",
       "      <td>4</td>\n",
       "      <td>pos</td>\n",
       "    </tr>\n",
       "    <tr>\n",
       "      <th>944</th>\n",
       "      <td>the unholy joan &amp;amp; all leinster house are s...</td>\n",
       "      <td>neg</td>\n",
       "      <td>1</td>\n",
       "      <td>neg</td>\n",
       "    </tr>\n",
       "    <tr>\n",
       "      <th>945</th>\n",
       "      <td>amgen to co-promote migraine med erenumab with...</td>\n",
       "      <td>pos</td>\n",
       "      <td>N</td>\n",
       "      <td>neu</td>\n",
       "    </tr>\n",
       "    <tr>\n",
       "      <th>946</th>\n",
       "      <td>\"i want to take ape sh** -or- another subject ...</td>\n",
       "      <td>pos</td>\n",
       "      <td>3</td>\n",
       "      <td>pos</td>\n",
       "    </tr>\n",
       "    <tr>\n",
       "      <th>947</th>\n",
       "      <td>amgen, inc. $amgn receives $187.99 consensus p...</td>\n",
       "      <td>neu</td>\n",
       "      <td>N</td>\n",
       "      <td>neu</td>\n",
       "    </tr>\n",
       "    <tr>\n",
       "      <th>948</th>\n",
       "      <td>afternoon with more interesting talks in #anti...</td>\n",
       "      <td>pos</td>\n",
       "      <td>3</td>\n",
       "      <td>pos</td>\n",
       "    </tr>\n",
       "    <tr>\n",
       "      <th>949</th>\n",
       "      <td>congratulations to katie aney winner old fart ...</td>\n",
       "      <td>pos</td>\n",
       "      <td>3</td>\n",
       "      <td>pos</td>\n",
       "    </tr>\n",
       "    <tr>\n",
       "      <th>950</th>\n",
       "      <td>amgen, inc. $amgn shares bought by weaver coun...</td>\n",
       "      <td>pos</td>\n",
       "      <td>N</td>\n",
       "      <td>neu</td>\n",
       "    </tr>\n",
       "    <tr>\n",
       "      <th>951</th>\n",
       "      <td>#hallmarkies  thank you for sponsoring quality...</td>\n",
       "      <td>pos</td>\n",
       "      <td>4</td>\n",
       "      <td>pos</td>\n",
       "    </tr>\n",
       "    <tr>\n",
       "      <th>952</th>\n",
       "      <td>whatever know why there are missing gardai-the...</td>\n",
       "      <td>neg</td>\n",
       "      <td>1</td>\n",
       "      <td>neg</td>\n",
       "    </tr>\n",
       "    <tr>\n",
       "      <th>953</th>\n",
       "      <td>already at war over pcsk9, drug giants go to c...</td>\n",
       "      <td>neg</td>\n",
       "      <td>2</td>\n",
       "      <td>neg</td>\n",
       "    </tr>\n",
       "    <tr>\n",
       "      <th>954</th>\n",
       "      <td>why would (in dates) ante drug co like amgen ...</td>\n",
       "      <td>pos</td>\n",
       "      <td>2</td>\n",
       "      <td>neg</td>\n",
       "    </tr>\n",
       "    <tr>\n",
       "      <th>955</th>\n",
       "      <td>high school students reveal how whatever can b...</td>\n",
       "      <td>pos</td>\n",
       "      <td>N</td>\n",
       "      <td>neu</td>\n",
       "    </tr>\n",
       "    <tr>\n",
       "      <th>956</th>\n",
       "      <td>amgen files for united states approval old far...</td>\n",
       "      <td>pos</td>\n",
       "      <td>N</td>\n",
       "      <td>neu</td>\n",
       "    </tr>\n",
       "    <tr>\n",
       "      <th>957</th>\n",
       "      <td>teachers retirement system old fart the state ...</td>\n",
       "      <td>pos</td>\n",
       "      <td>N</td>\n",
       "      <td>neu</td>\n",
       "    </tr>\n",
       "    <tr>\n",
       "      <th>958</th>\n",
       "      <td>dears,anyone have any idea about humira40 (ada...</td>\n",
       "      <td>pos</td>\n",
       "      <td>2</td>\n",
       "      <td>neg</td>\n",
       "    </tr>\n",
       "    <tr>\n",
       "      <th>959</th>\n",
       "      <td>whatever present (in dates) ante case old fart...</td>\n",
       "      <td>neg</td>\n",
       "      <td>N</td>\n",
       "      <td>neu</td>\n",
       "    </tr>\n",
       "    <tr>\n",
       "      <th>960</th>\n",
       "      <td>#3novices : arthritis news: condition can caus...</td>\n",
       "      <td>neg</td>\n",
       "      <td>N</td>\n",
       "      <td>neu</td>\n",
       "    </tr>\n",
       "    <tr>\n",
       "      <th>961</th>\n",
       "      <td>adalimumab in the treatment old fart uveitis i...</td>\n",
       "      <td>neu</td>\n",
       "      <td>N</td>\n",
       "      <td>neu</td>\n",
       "    </tr>\n",
       "    <tr>\n",
       "      <th>962</th>\n",
       "      <td>prediction old fart successful dose reduction ...</td>\n",
       "      <td>pos</td>\n",
       "      <td>N</td>\n",
       "      <td>neu</td>\n",
       "    </tr>\n",
       "    <tr>\n",
       "      <th>963</th>\n",
       "      <td>safety old fart long-term adalimumab in pediat...</td>\n",
       "      <td>pos</td>\n",
       "      <td>N</td>\n",
       "      <td>neu</td>\n",
       "    </tr>\n",
       "    <tr>\n",
       "      <th>964</th>\n",
       "      <td>doesn't #humira's generic naevi, atrial myxoma...</td>\n",
       "      <td>neu</td>\n",
       "      <td>2</td>\n",
       "      <td>neg</td>\n",
       "    </tr>\n",
       "  </tbody>\n",
       "</table>\n",
       "<p>965 rows × 4 columns</p>\n",
       "</div>"
      ],
      "text/plain": [
       "                                               message SentimentVader  \\\n",
       "0    #llbite ankylosing spondylitis - have (in date...            neg   \n",
       "1    #as 3 things people with ankylosing spondyliti...            neu   \n",
       "2    working group on the assessment of toxic chemi...            neu   \n",
       "3    i dont know if intense text sex the medication...            neg   \n",
       "4    #imaginedragons singer  opens up about his str...            neg   \n",
       "5    chinese medicine cure ankylosing spondylitis c...            neu   \n",
       "6    pain relief for patients with rheumatoid arthr...            neg   \n",
       "7    suffering from #ankylosingspondylitis? check o...            neg   \n",
       "8    herself goodwill newsletter significant other ...            pos   \n",
       "9    how they did it: 5 people with ankylosing spon...            neu   \n",
       "10   imagine dragoons singer breaks silence about a...            neu   \n",
       "11     the progression old fart ankylosing spondylitis            neu   \n",
       "12                              real time -or- retweet            neu   \n",
       "13   imagine dragons?dan reynolds speaks out about ...            neg   \n",
       "14   imagine dragons lead singer, dan reynolds, and...            neu   \n",
       "15   chinese traditional medicine ankylosing spondy...            neu   \n",
       "16   imagine dragons?dan reynolds speaks out about ...            neg   \n",
       "17   imagine dragons' dan reynolds speaks out about...            neg   \n",
       "18   imagine dragons' dan reynolds breaks his silen...            neu   \n",
       "19   imagine dragon's dan reynolds breaks his silen...            neg   \n",
       "20   great to be back at the gym today after (in da...            pos   \n",
       "21   ankylosing spondylitis mom: when your diploma ...            neu   \n",
       "22     i saw ape sh** -or- another subject used the...            neg   \n",
       "23   . singer  opens up about his struggle with #an...            neg   \n",
       "24                     what is #ankylosingspondylitis?            neu   \n",
       "25   how they did it: 5 people with ankylosing spon...            pos   \n",
       "26   252.???????????casset?c - cystic fibrosisa - a...            neu   \n",
       "27   via  spokesman dan reynolds will help bring aw...            pos   \n",
       "28   ankylosing spondylitis... it's (in dates) ante...            neu   \n",
       "29   my boyfriend ben is running major cytogenetic ...            pos   \n",
       "..                                                 ...            ...   \n",
       "935  thanks _ni_tweets   _group   _advice  and  for...            pos   \n",
       "936  amgen, inc. $amgn rating increased to strong-b...            pos   \n",
       "937  this is great to see - #amgen staff member jam...            pos   \n",
       "938  novartis: study shows copycat works just ape s...            pos   \n",
       "939  is amgen losing confidence in novartis-partner...            pos   \n",
       "940  #biotech: 3 things to focus omni nocte (every ...            neu   \n",
       "941  #360wisenews : earnings preview: what to expec...            neu   \n",
       "942  thanks for the post and significant other glad...            pos   \n",
       "943  (in dates) ante huge thank you to all our spon...            pos   \n",
       "944  the unholy joan &amp; all leinster house are s...            neg   \n",
       "945  amgen to co-promote migraine med erenumab with...            pos   \n",
       "946  \"i want to take ape sh** -or- another subject ...            pos   \n",
       "947  amgen, inc. $amgn receives $187.99 consensus p...            neu   \n",
       "948  afternoon with more interesting talks in #anti...            pos   \n",
       "949  congratulations to katie aney winner old fart ...            pos   \n",
       "950  amgen, inc. $amgn shares bought by weaver coun...            pos   \n",
       "951  #hallmarkies  thank you for sponsoring quality...            pos   \n",
       "952  whatever know why there are missing gardai-the...            neg   \n",
       "953  already at war over pcsk9, drug giants go to c...            neg   \n",
       "954   why would (in dates) ante drug co like amgen ...            pos   \n",
       "955  high school students reveal how whatever can b...            pos   \n",
       "956  amgen files for united states approval old far...            pos   \n",
       "957  teachers retirement system old fart the state ...            pos   \n",
       "958  dears,anyone have any idea about humira40 (ada...            pos   \n",
       "959  whatever present (in dates) ante case old fart...            neg   \n",
       "960  #3novices : arthritis news: condition can caus...            neg   \n",
       "961  adalimumab in the treatment old fart uveitis i...            neu   \n",
       "962  prediction old fart successful dose reduction ...            pos   \n",
       "963  safety old fart long-term adalimumab in pediat...            pos   \n",
       "964  doesn't #humira's generic naevi, atrial myxoma...            neu   \n",
       "\n",
       "    sentiment new_sent  \n",
       "0           2      neg  \n",
       "1           3      pos  \n",
       "2           3      pos  \n",
       "3           1      neg  \n",
       "4           2      neg  \n",
       "5           3      pos  \n",
       "6           3      pos  \n",
       "7           3      pos  \n",
       "8           2      neg  \n",
       "9           3      pos  \n",
       "10          2      neg  \n",
       "11          2      neg  \n",
       "12          1      neg  \n",
       "13          2      neg  \n",
       "14          2      neg  \n",
       "15          2      neg  \n",
       "16          2      neg  \n",
       "17          2      neg  \n",
       "18          2      neg  \n",
       "19          2      neg  \n",
       "20          3      pos  \n",
       "21          1      neg  \n",
       "22          1      neg  \n",
       "23          2      neg  \n",
       "24          3      pos  \n",
       "25          3      pos  \n",
       "26          2      neg  \n",
       "27          3      pos  \n",
       "28          2      neg  \n",
       "29          2      neg  \n",
       "..        ...      ...  \n",
       "935         4      pos  \n",
       "936         N      neu  \n",
       "937         3      pos  \n",
       "938         N      neu  \n",
       "939         2      neg  \n",
       "940         N      neu  \n",
       "941         N      neu  \n",
       "942         4      pos  \n",
       "943         4      pos  \n",
       "944         1      neg  \n",
       "945         N      neu  \n",
       "946         3      pos  \n",
       "947         N      neu  \n",
       "948         3      pos  \n",
       "949         3      pos  \n",
       "950         N      neu  \n",
       "951         4      pos  \n",
       "952         1      neg  \n",
       "953         2      neg  \n",
       "954         2      neg  \n",
       "955         N      neu  \n",
       "956         N      neu  \n",
       "957         N      neu  \n",
       "958         2      neg  \n",
       "959         N      neu  \n",
       "960         N      neu  \n",
       "961         N      neu  \n",
       "962         N      neu  \n",
       "963         N      neu  \n",
       "964         2      neg  \n",
       "\n",
       "[965 rows x 4 columns]"
      ]
     },
     "execution_count": 112,
     "metadata": {},
     "output_type": "execute_result"
    }
   ],
   "source": [
    "final"
   ]
  },
  {
   "cell_type": "code",
   "execution_count": 113,
   "metadata": {
    "collapsed": true
   },
   "outputs": [],
   "source": [
    "from sklearn.metrics import confusion_matrix"
   ]
  },
  {
   "cell_type": "code",
   "execution_count": 114,
   "metadata": {
    "collapsed": false
   },
   "outputs": [
    {
     "name": "stdout",
     "output_type": "stream",
     "text": [
      "[[147  44  43]\n",
      " [104 126 103]\n",
      " [ 74  98 226]]\n"
     ]
    }
   ],
   "source": [
    "print(confusion_matrix(final.new_sent, final.SentimentVader).transpose())"
   ]
  },
  {
   "cell_type": "code",
   "execution_count": null,
   "metadata": {
    "collapsed": true
   },
   "outputs": [],
   "source": []
  }
 ],
 "metadata": {
  "kernelspec": {
   "display_name": "Python 2",
   "language": "python",
   "name": "python2"
  },
  "language_info": {
   "codemirror_mode": {
    "name": "ipython",
    "version": 2
   },
   "file_extension": ".py",
   "mimetype": "text/x-python",
   "name": "python",
   "nbconvert_exporter": "python",
   "pygments_lexer": "ipython2",
   "version": "2.7.12"
  }
 },
 "nbformat": 4,
 "nbformat_minor": 0
}
