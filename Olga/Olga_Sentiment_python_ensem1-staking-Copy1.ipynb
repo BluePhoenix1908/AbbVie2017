{
 "cells": [
  {
   "cell_type": "code",
   "execution_count": 117,
   "metadata": {
    "collapsed": false
   },
   "outputs": [],
   "source": [
    "#Download the libraries\n",
    "import nltk\n",
    "import re\n",
    "from sklearn.metrics import confusion_matrix\n",
    "import pandas as pd\n",
    "import numpy as np\n",
    "import csv\n",
    "import os\n",
    "import matplotlib.pyplot as plt\n",
    "import sys\n",
    "import time\n",
    "import random\n",
    "from sklearn.feature_extraction.text import TfidfVectorizer\n",
    "from sklearn import svm\n",
    "from sklearn.metrics import classification_report\n",
    "from sklearn import tree"
   ]
  },
  {
   "cell_type": "markdown",
   "metadata": {},
   "source": [
    "Setting working directory"
   ]
  },
  {
   "cell_type": "code",
   "execution_count": 118,
   "metadata": {
    "collapsed": false
   },
   "outputs": [
    {
     "name": "stdout",
     "output_type": "stream",
     "text": [
      "/Users/imacair/Desktop/Products3\n"
     ]
    }
   ],
   "source": [
    "print os.getcwd();"
   ]
  },
  {
   "cell_type": "code",
   "execution_count": 119,
   "metadata": {
    "collapsed": false
   },
   "outputs": [],
   "source": [
    "os.chdir(\"/Users/imacair/Desktop/Products3/\")"
   ]
  },
  {
   "cell_type": "markdown",
   "metadata": {},
   "source": [
    "Read the file"
   ]
  },
  {
   "cell_type": "code",
   "execution_count": 120,
   "metadata": {
    "collapsed": true
   },
   "outputs": [],
   "source": [
    "data= pd.read_csv('Final_Manual_3006.csv',\n",
    "                    encoding='latin-1',delimiter=',')"
   ]
  },
  {
   "cell_type": "code",
   "execution_count": 121,
   "metadata": {
    "collapsed": true
   },
   "outputs": [],
   "source": [
    "#Converts text into ASCII"
   ]
  },
  {
   "cell_type": "code",
   "execution_count": 122,
   "metadata": {
    "collapsed": true
   },
   "outputs": [],
   "source": [
    "#data.text = data.text.str.encode('ascii','replace')"
   ]
  },
  {
   "cell_type": "code",
   "execution_count": 123,
   "metadata": {
    "collapsed": false
   },
   "outputs": [],
   "source": [
    "data.message = data.message.str.encode('ascii','replace')"
   ]
  },
  {
   "cell_type": "code",
   "execution_count": 124,
   "metadata": {
    "collapsed": false
   },
   "outputs": [
    {
     "data": {
      "text/plain": [
       "4685"
      ]
     },
     "execution_count": 124,
     "metadata": {},
     "output_type": "execute_result"
    }
   ],
   "source": [
    "len(data)"
   ]
  },
  {
   "cell_type": "code",
   "execution_count": 125,
   "metadata": {
    "collapsed": false
   },
   "outputs": [],
   "source": [
    "#sample_data= data.sample(n=64000)"
   ]
  },
  {
   "cell_type": "code",
   "execution_count": 126,
   "metadata": {
    "collapsed": true
   },
   "outputs": [],
   "source": [
    "sample_data= data"
   ]
  },
  {
   "cell_type": "code",
   "execution_count": 127,
   "metadata": {
    "collapsed": true
   },
   "outputs": [],
   "source": [
    "#data_t=sample_data[\"text\"]"
   ]
  },
  {
   "cell_type": "code",
   "execution_count": 128,
   "metadata": {
    "collapsed": true
   },
   "outputs": [],
   "source": [
    "data_t=sample_data[\"message\"]"
   ]
  },
  {
   "cell_type": "code",
   "execution_count": 129,
   "metadata": {
    "collapsed": false
   },
   "outputs": [
    {
     "data": {
      "text/plain": [
       "4685"
      ]
     },
     "execution_count": 129,
     "metadata": {},
     "output_type": "execute_result"
    }
   ],
   "source": [
    "len(data_t)"
   ]
  },
  {
   "cell_type": "code",
   "execution_count": 130,
   "metadata": {
    "collapsed": true
   },
   "outputs": [],
   "source": [
    "#lowercase\n",
    "data_t = data_t.str.lower()"
   ]
  },
  {
   "cell_type": "code",
   "execution_count": 131,
   "metadata": {
    "collapsed": true
   },
   "outputs": [],
   "source": [
    "data_s=sample_data[\"sentiment\"]"
   ]
  },
  {
   "cell_type": "code",
   "execution_count": 132,
   "metadata": {
    "collapsed": false
   },
   "outputs": [
    {
     "data": {
      "text/plain": [
       "array([u'1', u'2', u'3', u'4', u'N', u'n'], dtype=object)"
      ]
     },
     "execution_count": 132,
     "metadata": {},
     "output_type": "execute_result"
    }
   ],
   "source": [
    "np.unique(data_s)"
   ]
  },
  {
   "cell_type": "code",
   "execution_count": 133,
   "metadata": {
    "collapsed": false
   },
   "outputs": [],
   "source": [
    "#data_s= data_s[~np.isnan(data_s)]"
   ]
  },
  {
   "cell_type": "code",
   "execution_count": 134,
   "metadata": {
    "collapsed": false
   },
   "outputs": [],
   "source": [
    "final = data\n",
    "res5= pd.DataFrame( index=range(0,len(data_t)),columns = {'new_sent'} )\n",
    "res5[(final.sentiment==u'2')] = '-1'\n",
    "res5[(final.sentiment==u'1')] = '-1'\n",
    "res5[(final['sentiment']==u'3')] = '1'\n",
    "res5[(final['sentiment']==u'4')] = '1'\n",
    "res5[(final['sentiment']==u'N')] = '0'\n",
    "res5[(final['sentiment']==u\"n\")] = '0'\n",
    "final=pd.concat([final, res5], axis=2)"
   ]
  },
  {
   "cell_type": "code",
   "execution_count": 135,
   "metadata": {
    "collapsed": true
   },
   "outputs": [],
   "source": [
    "#final['sentiment'] = final['sentiment'][~pd.isnull(final['sentiment'])]"
   ]
  },
  {
   "cell_type": "code",
   "execution_count": 136,
   "metadata": {
    "collapsed": false
   },
   "outputs": [],
   "source": [
    "#final['sentiment']=np.nan_to_num(final['sentiment'])\n",
    "#final['sentiment'] = final[~np.isnan('sentiment')]\n",
    "#y = \n",
    "#final['sentiment'][~np.isfinite(final['sentiment'])]"
   ]
  },
  {
   "cell_type": "code",
   "execution_count": 137,
   "metadata": {
    "collapsed": false
   },
   "outputs": [
    {
     "data": {
      "text/plain": [
       "array(['-1', '0', '1'], dtype=object)"
      ]
     },
     "execution_count": 137,
     "metadata": {},
     "output_type": "execute_result"
    }
   ],
   "source": [
    "np.unique(final.new_sent)"
   ]
  },
  {
   "cell_type": "markdown",
   "metadata": {},
   "source": [
    "Abbriviation translation"
   ]
  },
  {
   "cell_type": "code",
   "execution_count": 138,
   "metadata": {
    "collapsed": false
   },
   "outputs": [],
   "source": [
    "with open('abbrev.csv', mode='r') as infile:\n",
    "    reader = csv.reader(infile)\n",
    "    replacement = {rows[0].lower():rows[1].lower() for rows in reader              \n",
    "                  }"
   ]
  },
  {
   "cell_type": "code",
   "execution_count": 139,
   "metadata": {
    "collapsed": false
   },
   "outputs": [],
   "source": [
    "#replacement"
   ]
  },
  {
   "cell_type": "code",
   "execution_count": 140,
   "metadata": {
    "collapsed": true
   },
   "outputs": [],
   "source": [
    "#replacement = {\n",
    "##'r':'are',\n",
    "#'y':'why',\n",
    "#'u':'you'}"
   ]
  },
  {
   "cell_type": "code",
   "execution_count": 141,
   "metadata": {
    "collapsed": false
   },
   "outputs": [
    {
     "data": {
      "text/plain": [
       "'why? -or- yes are you l8'"
      ]
     },
     "execution_count": 141,
     "metadata": {},
     "output_type": "execute_result"
    }
   ],
   "source": [
    "##How in works\n",
    "s1 = 'y r u l8'\n",
    "\n",
    "s2 = ' '.join([replacement.get(w, w) for w in s1.split()])\n",
    "s2"
   ]
  },
  {
   "cell_type": "code",
   "execution_count": 142,
   "metadata": {
    "collapsed": true
   },
   "outputs": [],
   "source": [
    "result = pd.DataFrame()\n",
    "result = final"
   ]
  },
  {
   "cell_type": "code",
   "execution_count": 143,
   "metadata": {
    "collapsed": false
   },
   "outputs": [],
   "source": [
    "for i in range(len(result)):\n",
    "    data_t.values[i]=' '.join([replacement.get(w, w) for w in data_t.values[i].split()])"
   ]
  },
  {
   "cell_type": "code",
   "execution_count": 144,
   "metadata": {
    "collapsed": false,
    "scrolled": true
   },
   "outputs": [
    {
     "data": {
      "text/plain": [
       "0    medical north, east, west, south today: ankylo...\n",
       "1    real time -or- retweet @marathoninmabo: the ma...\n",
       "2       ankylosing spondylitis https://t.co/bngfvsdv6u\n",
       "3    real time -or- retweet @gmfhx: blog post -- \"g...\n",
       "4    i've had ankylosing spondylitis for 27 years, ...\n",
       "5    always (in dates) ante pleasure to support the...\n",
       "6    @nassexercise @gavin_clunie that's the figure ...\n",
       "7    @briscomhealth https://t.co/iubjnmkcfx. today ...\n",
       "8    (in dates) ante person world health organizati...\n",
       "9    where to turn when you have ankylosing spondyl...\n",
       "Name: message, dtype: object"
      ]
     },
     "execution_count": 144,
     "metadata": {},
     "output_type": "execute_result"
    }
   ],
   "source": [
    "data_t.head(10)"
   ]
  },
  {
   "cell_type": "code",
   "execution_count": 145,
   "metadata": {
    "collapsed": true
   },
   "outputs": [],
   "source": [
    "#lowercase\n",
    "data_t = data_t.str.lower()\n",
    "#Remove urls\n",
    "data_t= data_t.str.replace(r'(http.*) |(http.*)$|\\n', \"\",)\n",
    "#Remove twitter handles\n",
    "data_t = data_t.str.replace(r\"@\\\\w+\", \"\")\n",
    "#remove htmls\n",
    "data_t = data_t.str.replace(r'<.*?>', \"\")\n",
    "#Remove citations\n",
    "data_t = data_t.str.replace(r'@[a-zA-Z0-9]*', \"\")\n",
    "\n",
    "#remove _\n",
    "#data_t = data_t.str.replace(r'\\_+',\"\")"
   ]
  },
  {
   "cell_type": "code",
   "execution_count": 146,
   "metadata": {
    "collapsed": false
   },
   "outputs": [
    {
     "data": {
      "text/plain": [
       "0    medical north, east, west, south today: ankylo...\n",
       "1    real time -or- retweet : the mablethorpe marat...\n",
       "2                              ankylosing spondylitis \n",
       "3    real time -or- retweet : blog post -- \"gut bac...\n",
       "4    i've had ankylosing spondylitis for 27 years, ...\n",
       "5    always (in dates) ante pleasure to support the...\n",
       "6     _clunie that's the figure for the wider infla...\n",
       "7                                                  as.\n",
       "8    (in dates) ante person world health organizati...\n",
       "9    where to turn when you have ankylosing spondyl...\n",
       "Name: message, dtype: object"
      ]
     },
     "execution_count": 146,
     "metadata": {},
     "output_type": "execute_result"
    }
   ],
   "source": [
    "data_t.head(10)"
   ]
  },
  {
   "cell_type": "markdown",
   "metadata": {},
   "source": [
    "Spliting the data\n"
   ]
  },
  {
   "cell_type": "code",
   "execution_count": 147,
   "metadata": {
    "collapsed": false
   },
   "outputs": [],
   "source": [
    "from sklearn.cross_validation import train_test_split\n",
    "import numpy as np\n",
    "from sklearn.model_selection import KFold"
   ]
  },
  {
   "cell_type": "code",
   "execution_count": 148,
   "metadata": {
    "collapsed": false
   },
   "outputs": [],
   "source": [
    "data_train, data_test, label_train, label_test = train_test_split(data_t, final.new_sent, test_size=0.3, random_state=2340)"
   ]
  },
  {
   "cell_type": "code",
   "execution_count": 149,
   "metadata": {
    "collapsed": true
   },
   "outputs": [],
   "source": [
    "#data_train, data_test, label_train, label_test = train_test_split(data_t, data_s, test_size=0.3, random_state=2340)"
   ]
  },
  {
   "cell_type": "code",
   "execution_count": 150,
   "metadata": {
    "collapsed": false
   },
   "outputs": [],
   "source": [
    "t0 = time.time()\n",
    "vectorizer = TfidfVectorizer(    sublinear_tf=True,\n",
    "                                 use_idf=True,stop_words = 'english')\n",
    "train_vectors = vectorizer.fit_transform(data_train)\n",
    "test_vectors = vectorizer.transform(data_test)\n",
    "t1 = time.time()\n",
    "time_vec = t1-t0"
   ]
  },
  {
   "cell_type": "code",
   "execution_count": 151,
   "metadata": {
    "collapsed": false
   },
   "outputs": [
    {
     "name": "stdout",
     "output_type": "stream",
     "text": [
      "0.270555019379\n"
     ]
    }
   ],
   "source": [
    "print(time_vec)"
   ]
  },
  {
   "cell_type": "code",
   "execution_count": 152,
   "metadata": {
    "collapsed": false
   },
   "outputs": [],
   "source": [
    "# Perform classification with SVM, kernel=linear\n",
    "classifier_linear = svm.SVC(C=0.6, kernel='linear')\n",
    "t0 = time.time()\n",
    "classifier_linear.fit(train_vectors, label_train)\n",
    "t1 = time.time()\n",
    "prediction_linear = classifier_linear.predict(test_vectors)\n",
    "t2 = time.time()\n",
    "time_linear_train = t1-t0\n",
    "time_linear_predict = t2-t1"
   ]
  },
  {
   "cell_type": "code",
   "execution_count": 153,
   "metadata": {
    "collapsed": false
   },
   "outputs": [
    {
     "name": "stdout",
     "output_type": "stream",
     "text": [
      "Results for SVC(kernel=linear)\n",
      "Training time: 1.793236s; Prediction time: 0.419931s\n",
      "             precision    recall  f1-score   support\n",
      "\n",
      "         -1       0.73      0.67      0.70       391\n",
      "          0       0.67      0.82      0.74       576\n",
      "          1       0.73      0.58      0.65       439\n",
      "\n",
      "avg / total       0.71      0.70      0.70      1406\n",
      "\n"
     ]
    },
    {
     "data": {
      "text/plain": [
       "array([[261,  98,  32],\n",
       "       [ 44, 472,  60],\n",
       "       [ 52, 132, 255]])"
      ]
     },
     "execution_count": 153,
     "metadata": {},
     "output_type": "execute_result"
    }
   ],
   "source": [
    "print(\"Results for SVC(kernel=linear)\")\n",
    "print(\"Training time: %fs; Prediction time: %fs\" % (time_linear_train, time_linear_predict))\n",
    "print(classification_report(label_test, prediction_linear))\n",
    "confusion_matrix(label_test, prediction_linear)"
   ]
  },
  {
   "cell_type": "code",
   "execution_count": 154,
   "metadata": {
    "collapsed": false
   },
   "outputs": [],
   "source": [
    "# Perform classification with SVM, kernel=linear\n",
    "classifier_liblinear = svm.LinearSVC()\n",
    "t0 = time.time()\n",
    "classifier_liblinear.fit(train_vectors, label_train)\n",
    "t1 = time.time()\n",
    "prediction_liblinear = classifier_liblinear.predict(test_vectors)\n",
    "t2 = time.time()\n",
    "time_liblinear_train = t1-t0\n",
    "time_liblinear_predict = t2-t1"
   ]
  },
  {
   "cell_type": "code",
   "execution_count": 155,
   "metadata": {
    "collapsed": true
   },
   "outputs": [],
   "source": [
    "from sklearn.naive_bayes import MultinomialNB\n",
    "from sklearn.ensemble import RandomForestClassifier"
   ]
  },
  {
   "cell_type": "code",
   "execution_count": 156,
   "metadata": {
    "collapsed": true
   },
   "outputs": [],
   "source": [
    "# Perform classification with random forest\n",
    "classifier_rf = RandomForestClassifier()\n",
    "t0 = time.time()\n",
    "classifier_rf.fit(train_vectors, label_train)\n",
    "t1 = time.time()\n",
    "prediction_rf = classifier_rf.predict(test_vectors)\n",
    "t2 = time.time()\n",
    "time_rf_train = t1-t0\n",
    "time_rf_predict = t2-t1"
   ]
  },
  {
   "cell_type": "code",
   "execution_count": 157,
   "metadata": {
    "collapsed": true
   },
   "outputs": [],
   "source": [
    "# Perform classification with Multinomial Naïve Bayes.\n",
    "classifier_nb = MultinomialNB()\n",
    "t0 = time.time()\n",
    "classifier_nb.fit(train_vectors, label_train)\n",
    "t1 = time.time()\n",
    "prediction_nb = classifier_nb.predict(test_vectors)\n",
    "t2 = time.time()\n",
    "time_nb_train = t1-t0\n",
    "time_nb_predict = t2-t1"
   ]
  },
  {
   "cell_type": "code",
   "execution_count": 158,
   "metadata": {
    "collapsed": false
   },
   "outputs": [
    {
     "name": "stdout",
     "output_type": "stream",
     "text": [
      "Results for SVC(kernel=linear)\n",
      "Training time: 1.793236s; Prediction time: 0.419931s\n",
      "             precision    recall  f1-score   support\n",
      "\n",
      "         -1       0.73      0.67      0.70       391\n",
      "          0       0.67      0.82      0.74       576\n",
      "          1       0.73      0.58      0.65       439\n",
      "\n",
      "avg / total       0.71      0.70      0.70      1406\n",
      "\n",
      "Results for LinearSVC()\n",
      "Training time: 0.061244s; Prediction time: 0.000912s\n",
      "             precision    recall  f1-score   support\n",
      "\n",
      "         -1       0.70      0.66      0.68       391\n",
      "          0       0.70      0.74      0.72       576\n",
      "          1       0.68      0.66      0.67       439\n",
      "\n",
      "avg / total       0.69      0.69      0.69      1406\n",
      "\n",
      "Results for MultinomialNB()\n",
      "Training time: 0.014813s; Prediction time: 0.001256s\n",
      "             precision    recall  f1-score   support\n",
      "\n",
      "         -1       0.74      0.55      0.63       391\n",
      "          0       0.64      0.83      0.72       576\n",
      "          1       0.68      0.56      0.62       439\n",
      "\n",
      "avg / total       0.68      0.67      0.66      1406\n",
      "\n"
     ]
    }
   ],
   "source": [
    "\n",
    "print(\"Results for SVC(kernel=linear)\")\n",
    "print(\"Training time: %fs; Prediction time: %fs\" % (time_linear_train, time_linear_predict))\n",
    "print(classification_report(label_test, prediction_linear))\n",
    "print(\"Results for LinearSVC()\")\n",
    "print(\"Training time: %fs; Prediction time: %fs\" % (time_liblinear_train, time_liblinear_predict))\n",
    "print(classification_report(label_test, prediction_liblinear))\n",
    "print(\"Results for MultinomialNB()\")\n",
    "print(\"Training time: %fs; Prediction time: %fs\" % (time_nb_train, time_nb_predict))\n",
    "print(classification_report(label_test, prediction_nb))"
   ]
  },
  {
   "cell_type": "markdown",
   "metadata": {},
   "source": [
    "Here we will try to ensemble"
   ]
  },
  {
   "cell_type": "code",
   "execution_count": 159,
   "metadata": {
    "collapsed": false
   },
   "outputs": [],
   "source": [
    "from sklearn.ensemble import VotingClassifier\n",
    "from sklearn import model_selection\n",
    "kfold = model_selection.KFold(n_splits=10, random_state=8)"
   ]
  },
  {
   "cell_type": "code",
   "execution_count": 160,
   "metadata": {
    "collapsed": true
   },
   "outputs": [],
   "source": [
    "estimators = []\n",
    "#estimators.append(('rbf_svm', classifier_rbf ))\n",
    "estimators.append(('linear_svm',classifier_liblinear))\n",
    "estimators.append(('linear2_svm',classifier_linear))\n",
    "estimators.append(('random_forest',classifier_rf))\n",
    "estimators.append(('multi_naive',classifier_nb))\n",
    "#estimators.append(('lstm',model))\n",
    "\n",
    "ensemble = VotingClassifier(estimators)"
   ]
  },
  {
   "cell_type": "code",
   "execution_count": 161,
   "metadata": {
    "collapsed": false
   },
   "outputs": [
    {
     "name": "stdout",
     "output_type": "stream",
     "text": [
      "0.68253058104\n"
     ]
    }
   ],
   "source": [
    "\n",
    "results = model_selection.cross_val_score(ensemble, train_vectors, label_train, cv=kfold)\n",
    "print(results.mean())"
   ]
  },
  {
   "cell_type": "code",
   "execution_count": 162,
   "metadata": {
    "collapsed": true
   },
   "outputs": [],
   "source": [
    "label_tests = np.asarray(label_test)"
   ]
  },
  {
   "cell_type": "code",
   "execution_count": 163,
   "metadata": {
    "collapsed": false
   },
   "outputs": [
    {
     "data": {
      "text/plain": [
       "array(['0', '0', '0', ..., '0', '1', '-1'], dtype=object)"
      ]
     },
     "execution_count": 163,
     "metadata": {},
     "output_type": "execute_result"
    }
   ],
   "source": [
    "label_tests"
   ]
  },
  {
   "cell_type": "code",
   "execution_count": 164,
   "metadata": {
    "collapsed": false
   },
   "outputs": [],
   "source": [
    "df =[]\n",
    "df.append('linear_svm')\n",
    "df.append('linear2_svm')\n",
    "df.append('random_forest')\n",
    "df.append('multi_naive')\n",
    "df.append('label_tests')"
   ]
  },
  {
   "cell_type": "code",
   "execution_count": 165,
   "metadata": {
    "collapsed": false
   },
   "outputs": [
    {
     "data": {
      "text/plain": [
       "array(['0', '-1', '0', ..., '1', '1', '-1'], dtype=object)"
      ]
     },
     "execution_count": 165,
     "metadata": {},
     "output_type": "execute_result"
    }
   ],
   "source": [
    "prediction_linear"
   ]
  },
  {
   "cell_type": "code",
   "execution_count": 166,
   "metadata": {
    "collapsed": false
   },
   "outputs": [
    {
     "data": {
      "text/plain": [
       "['linear_svm', 'linear2_svm', 'random_forest', 'multi_naive', 'label_tests']"
      ]
     },
     "execution_count": 166,
     "metadata": {},
     "output_type": "execute_result"
    }
   ],
   "source": [
    "df"
   ]
  },
  {
   "cell_type": "code",
   "execution_count": 167,
   "metadata": {
    "collapsed": false
   },
   "outputs": [],
   "source": [
    "df=[prediction_linear, prediction_liblinear, prediction_nb,label_tests]"
   ]
  },
  {
   "cell_type": "code",
   "execution_count": 168,
   "metadata": {
    "collapsed": false
   },
   "outputs": [],
   "source": [
    "df = pd.DataFrame(df)\n",
    "df = df.transpose()\n",
    "df.columns = ['prediction_linear', 'prediction_liblinear', 'prediction_nb','label_tests']\n",
    "#df"
   ]
  },
  {
   "cell_type": "code",
   "execution_count": 176,
   "metadata": {
    "collapsed": false
   },
   "outputs": [
    {
     "name": "stdout",
     "output_type": "stream",
     "text": [
      "3-fold cross validation:\n",
      "\n",
      "Accuracy: 0.66 (+/- 0.01) [linear_svm]\n",
      "Accuracy: 0.66 (+/- 0.01) [linear2_svm]\n",
      "Accuracy: 0.63 (+/- 0.01) [multi_naive]\n",
      "Accuracy: 0.66 (+/- 0.01) [StackingClassifier]\n"
     ]
    }
   ],
   "source": [
    "from sklearn import model_selection\n",
    "from sklearn.linear_model import LogisticRegression\n",
    "from mlxtend.classifier import StackingClassifier\n",
    "import numpy as np\n",
    "\n",
    "\n",
    "lr = RandomForestClassifier()\n",
    "sclf = StackingClassifier(classifiers=[classifier_liblinear,classifier_linear,classifier_nb], \n",
    "                          meta_classifier=lr)\n",
    "\n",
    "print('3-fold cross validation:\\n')\n",
    "\n",
    "for clf, label in zip([classifier_liblinear,classifier_linear, classifier_nb,sclf], \n",
    "                      ['linear_svm', \n",
    "                       'linear2_svm',\n",
    "                       'multi_naive',\n",
    "                       'StackingClassifier']):\n",
    "\n",
    "    scores = model_selection.cross_val_score(clf, train_vectors, label_train, \n",
    "                                              cv=3, scoring='accuracy')\n",
    "    print(\"Accuracy: %0.2f (+/- %0.2f) [%s]\" \n",
    "          % (scores.mean(), scores.std(), label))"
   ]
  },
  {
   "cell_type": "code",
   "execution_count": 170,
   "metadata": {
    "collapsed": false
   },
   "outputs": [
    {
     "name": "stdout",
     "output_type": "stream",
     "text": [
      "3-fold cross validation:\n",
      "\n",
      "Accuracy: 0.68 (+/- 0.03) [linear_svm]\n",
      "Accuracy: 0.67 (+/- 0.02) [linear2_svm]\n",
      "Accuracy: 0.65 (+/- 0.03) [multi_naive]\n",
      "Accuracy: 0.68 (+/- 0.03) [StackingClassifier]\n"
     ]
    }
   ],
   "source": [
    "from sklearn import model_selection\n",
    "from sklearn.linear_model import LogisticRegression\n",
    "from mlxtend.classifier import StackingClassifier\n",
    "import numpy as np\n",
    "\n",
    "\n",
    "lr = RandomForestClassifier()\n",
    "sclf = StackingClassifier(classifiers=[classifier_liblinear,classifier_linear, classifier_nb], \n",
    "                          meta_classifier=lr)\n",
    "\n",
    "print('3-fold cross validation:\\n')\n",
    "\n",
    "for clf, label in zip([classifier_liblinear,classifier_linear,classifier_nb,sclf], \n",
    "                      ['linear_svm', \n",
    "                       'linear2_svm',\n",
    "                       'multi_naive',\n",
    "                       'StackingClassifier']):\n",
    "\n",
    "    scores = model_selection.cross_val_score(clf, train_vectors, label_train, \n",
    "                                              cv=10, scoring='accuracy')\n",
    "    print(\"Accuracy: %0.2f (+/- %0.2f) [%s]\" \n",
    "          % (scores.mean(), scores.std(), label))"
   ]
  },
  {
   "cell_type": "code",
   "execution_count": 171,
   "metadata": {
    "collapsed": false
   },
   "outputs": [
    {
     "name": "stdout",
     "output_type": "stream",
     "text": [
      "3-fold cross validation:\n",
      "\n",
      "Accuracy: 0.68 (+/- 0.03) [linear_svm]\n",
      "Accuracy: 0.67 (+/- 0.02) [linear2_svm]\n",
      "Accuracy: 0.65 (+/- 0.03) [multi_naive]\n",
      "Accuracy: 0.68 (+/- 0.03) [StackingClassifier]\n"
     ]
    }
   ],
   "source": [
    "from sklearn import model_selection\n",
    "from sklearn.linear_model import LogisticRegression\n",
    "from mlxtend.classifier import StackingClassifier\n",
    "import numpy as np\n",
    "\n",
    "\n",
    "lr = LogisticRegression()\n",
    "sclf = StackingClassifier(classifiers=[classifier_liblinear,classifier_linear, classifier_nb], \n",
    "                          meta_classifier=lr)\n",
    "\n",
    "print('3-fold cross validation:\\n')\n",
    "\n",
    "for clf, label in zip([classifier_liblinear,classifier_linear,classifier_nb,sclf], \n",
    "                      ['linear_svm', \n",
    "                       'linear2_svm',\n",
    "                       'multi_naive',\n",
    "                       'StackingClassifier']):\n",
    "\n",
    "    scores = model_selection.cross_val_score(clf, train_vectors, label_train, \n",
    "                                              cv=10, scoring='accuracy')\n",
    "    print(\"Accuracy: %0.2f (+/- %0.2f) [%s]\" \n",
    "          % (scores.mean(), scores.std(), label))"
   ]
  },
  {
   "cell_type": "code",
   "execution_count": 172,
   "metadata": {
    "collapsed": false
   },
   "outputs": [
    {
     "data": {
      "text/plain": [
       "array([[257,  84,  50],\n",
       "       [ 59, 429,  88],\n",
       "       [ 50,  98, 291]])"
      ]
     },
     "execution_count": 172,
     "metadata": {},
     "output_type": "execute_result"
    }
   ],
   "source": [
    "from sklearn import model_selection\n",
    "from sklearn.linear_model import LogisticRegression\n",
    "from mlxtend.classifier import StackingClassifier\n",
    "import numpy as np\n",
    "\n",
    "\n",
    "lr = LogisticRegression()\n",
    "sclf = StackingClassifier(classifiers=[classifier_liblinear,classifier_linear, classifier_nb], \n",
    "                          meta_classifier=lr)\n",
    "\n",
    "\n",
    "sclf.fit(train_vectors, label_train)\n",
    "\n",
    "prediction_sclf = sclf.predict(test_vectors)\n",
    "confusion_matrix(label_test, prediction_sclf)"
   ]
  },
  {
   "cell_type": "code",
   "execution_count": 173,
   "metadata": {
    "collapsed": false
   },
   "outputs": [],
   "source": [
    "\n",
    "sclf = sclf.predict(test_vectors)"
   ]
  },
  {
   "cell_type": "code",
   "execution_count": null,
   "metadata": {
    "collapsed": true
   },
   "outputs": [],
   "source": []
  },
  {
   "cell_type": "code",
   "execution_count": null,
   "metadata": {
    "collapsed": true
   },
   "outputs": [],
   "source": []
  }
 ],
 "metadata": {
  "kernelspec": {
   "display_name": "Python 2",
   "language": "python",
   "name": "python2"
  },
  "language_info": {
   "codemirror_mode": {
    "name": "ipython",
    "version": 2
   },
   "file_extension": ".py",
   "mimetype": "text/x-python",
   "name": "python",
   "nbconvert_exporter": "python",
   "pygments_lexer": "ipython2",
   "version": "2.7.12"
  }
 },
 "nbformat": 4,
 "nbformat_minor": 0
}
