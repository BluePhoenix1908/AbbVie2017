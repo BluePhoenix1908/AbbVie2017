{
 "cells": [
  {
   "cell_type": "markdown",
   "metadata": {},
   "source": [
    "Download libraries"
   ]
  },
  {
   "cell_type": "code",
   "execution_count": 374,
   "metadata": {
    "collapsed": true
   },
   "outputs": [],
   "source": [
    "import sys\n",
    "import os\n",
    "import time"
   ]
  },
  {
   "cell_type": "code",
   "execution_count": null,
   "metadata": {
    "collapsed": true
   },
   "outputs": [],
   "source": []
  },
  {
   "cell_type": "code",
   "execution_count": 375,
   "metadata": {
    "collapsed": true
   },
   "outputs": [],
   "source": [
    "import pandas as pd\n",
    "import numpy as np"
   ]
  },
  {
   "cell_type": "code",
   "execution_count": 376,
   "metadata": {
    "collapsed": false
   },
   "outputs": [],
   "source": [
    "from sklearn.cross_validation import train_test_split\n",
    "import numpy as np"
   ]
  },
  {
   "cell_type": "code",
   "execution_count": 377,
   "metadata": {
    "collapsed": true
   },
   "outputs": [],
   "source": [
    "\n",
    "from sklearn.feature_extraction.text import TfidfVectorizer\n",
    "from sklearn import svm\n",
    "from sklearn.metrics import classification_report"
   ]
  },
  {
   "cell_type": "code",
   "execution_count": null,
   "metadata": {
    "collapsed": true
   },
   "outputs": [],
   "source": []
  },
  {
   "cell_type": "markdown",
   "metadata": {},
   "source": [
    "Set working directory"
   ]
  },
  {
   "cell_type": "code",
   "execution_count": 378,
   "metadata": {
    "collapsed": false
   },
   "outputs": [
    {
     "name": "stdout",
     "output_type": "stream",
     "text": [
      "/Users/imacair/Desktop/Products3\n"
     ]
    }
   ],
   "source": [
    "print os.getcwd();"
   ]
  },
  {
   "cell_type": "code",
   "execution_count": 379,
   "metadata": {
    "collapsed": true
   },
   "outputs": [],
   "source": [
    "os.chdir(\"/Users/imacair/Desktop/Products3/\")"
   ]
  },
  {
   "cell_type": "code",
   "execution_count": 380,
   "metadata": {
    "collapsed": false
   },
   "outputs": [],
   "source": [
    "data= pd.read_csv('Final_TW_2104.csv', encoding= \"latin-1\",delimiter=',',low_memory=False)"
   ]
  },
  {
   "cell_type": "code",
   "execution_count": 381,
   "metadata": {
    "collapsed": false
   },
   "outputs": [],
   "source": [
    "#data.dropna(subset=['key']) "
   ]
  },
  {
   "cell_type": "code",
   "execution_count": 447,
   "metadata": {
    "collapsed": false,
    "scrolled": true
   },
   "outputs": [],
   "source": [
    "#data['key']"
   ]
  },
  {
   "cell_type": "code",
   "execution_count": 415,
   "metadata": {
    "collapsed": true
   },
   "outputs": [],
   "source": [
    "#data[data['key'].str.contains(\"abbvie\")]\n",
    "data_abbvie = data[data['key'].str.contains('humira', na = False)]"
   ]
  },
  {
   "cell_type": "code",
   "execution_count": 416,
   "metadata": {
    "collapsed": false
   },
   "outputs": [],
   "source": [
    "#data = pd.DataFrame({'key': 'abbvie'})"
   ]
  },
  {
   "cell_type": "code",
   "execution_count": 417,
   "metadata": {
    "collapsed": true
   },
   "outputs": [
    {
     "data": {
      "text/html": [
       "<div>\n",
       "<table border=\"1\" class=\"dataframe\">\n",
       "  <thead>\n",
       "    <tr style=\"text-align: right;\">\n",
       "      <th></th>\n",
       "      <th>Unnamed: 0</th>\n",
       "      <th>Created.At</th>\n",
       "      <th>From.User</th>\n",
       "      <th>From.User.Id</th>\n",
       "      <th>To.User</th>\n",
       "      <th>To.User.Id</th>\n",
       "      <th>Language</th>\n",
       "      <th>Source</th>\n",
       "      <th>Text</th>\n",
       "      <th>Geo.Location.Latitude</th>\n",
       "      <th>Geo.Location.Longitude</th>\n",
       "      <th>Retweet.Count</th>\n",
       "      <th>Id</th>\n",
       "      <th>key</th>\n",
       "      <th>favorited</th>\n",
       "      <th>favoriteCount</th>\n",
       "      <th>isRetweet</th>\n",
       "      <th>retweeted</th>\n",
       "    </tr>\n",
       "  </thead>\n",
       "  <tbody>\n",
       "    <tr>\n",
       "      <th>5389</th>\n",
       "      <td>5390</td>\n",
       "      <td>3/21/2017 5:33</td>\n",
       "      <td>EC</td>\n",
       "      <td>1266364076</td>\n",
       "      <td>NaN</td>\n",
       "      <td>-1</td>\n",
       "      <td>en</td>\n",
       "      <td>&lt;a href='http://twitter.com/download/iphone' r...</td>\n",
       "      <td>Humira: we don't know how it works or if it wo...</td>\n",
       "      <td>NaN</td>\n",
       "      <td>NaN</td>\n",
       "      <td>0</td>\n",
       "      <td>8.44E+17</td>\n",
       "      <td>humira</td>\n",
       "      <td>NaN</td>\n",
       "      <td>NaN</td>\n",
       "      <td>NaN</td>\n",
       "      <td>NaN</td>\n",
       "    </tr>\n",
       "    <tr>\n",
       "      <th>5390</th>\n",
       "      <td>5391</td>\n",
       "      <td>3/21/2017 1:27</td>\n",
       "      <td>Seb</td>\n",
       "      <td>1648364930</td>\n",
       "      <td>NaN</td>\n",
       "      <td>-1</td>\n",
       "      <td>en</td>\n",
       "      <td>&lt;a href='http://twitter.com' rel='nofollow'&gt;Tw...</td>\n",
       "      <td>humira doesn't have a twitter. expected yet so...</td>\n",
       "      <td>NaN</td>\n",
       "      <td>NaN</td>\n",
       "      <td>0</td>\n",
       "      <td>8.44E+17</td>\n",
       "      <td>humira</td>\n",
       "      <td>NaN</td>\n",
       "      <td>NaN</td>\n",
       "      <td>NaN</td>\n",
       "      <td>NaN</td>\n",
       "    </tr>\n",
       "    <tr>\n",
       "      <th>5391</th>\n",
       "      <td>5392</td>\n",
       "      <td>3/20/2017 22:49</td>\n",
       "      <td>Î_¥ü</td>\n",
       "      <td>7.98E+17</td>\n",
       "      <td>NaN</td>\n",
       "      <td>-1</td>\n",
       "      <td>en</td>\n",
       "      <td>&lt;a href='http://twitter.com/download/iphone' r...</td>\n",
       "      <td>WhT an AMAZING FIRST DAY OF SPRING IT HAS BEEN...</td>\n",
       "      <td>NaN</td>\n",
       "      <td>NaN</td>\n",
       "      <td>0</td>\n",
       "      <td>8.44E+17</td>\n",
       "      <td>humira</td>\n",
       "      <td>NaN</td>\n",
       "      <td>NaN</td>\n",
       "      <td>NaN</td>\n",
       "      <td>NaN</td>\n",
       "    </tr>\n",
       "    <tr>\n",
       "      <th>5392</th>\n",
       "      <td>5393</td>\n",
       "      <td>3/20/2017 18:44</td>\n",
       "      <td>kdsak</td>\n",
       "      <td>69589807</td>\n",
       "      <td>NaN</td>\n",
       "      <td>-1</td>\n",
       "      <td>en</td>\n",
       "      <td>&lt;a href='http://twitter.com/download/iphone' r...</td>\n",
       "      <td>Paying full price for my Humira and then havin...</td>\n",
       "      <td>NaN</td>\n",
       "      <td>NaN</td>\n",
       "      <td>0</td>\n",
       "      <td>8.44E+17</td>\n",
       "      <td>humira</td>\n",
       "      <td>NaN</td>\n",
       "      <td>NaN</td>\n",
       "      <td>NaN</td>\n",
       "      <td>NaN</td>\n",
       "    </tr>\n",
       "    <tr>\n",
       "      <th>5393</th>\n",
       "      <td>5394</td>\n",
       "      <td>3/20/2017 18:11</td>\n",
       "      <td>biosimilars101</td>\n",
       "      <td>8.11E+17</td>\n",
       "      <td>NaN</td>\n",
       "      <td>-1</td>\n",
       "      <td>en</td>\n",
       "      <td>&lt;a href='https://ads.twitter.com' rel='nofollo...</td>\n",
       "      <td>#DYK: AbbVie typically rolls out two price hik...</td>\n",
       "      <td>NaN</td>\n",
       "      <td>NaN</td>\n",
       "      <td>1</td>\n",
       "      <td>8.44E+17</td>\n",
       "      <td>humira</td>\n",
       "      <td>NaN</td>\n",
       "      <td>NaN</td>\n",
       "      <td>NaN</td>\n",
       "      <td>NaN</td>\n",
       "    </tr>\n",
       "  </tbody>\n",
       "</table>\n",
       "</div>"
      ],
      "text/plain": [
       "      Unnamed: 0       Created.At       From.User From.User.Id To.User  \\\n",
       "5389        5390   3/21/2017 5:33              EC   1266364076     NaN   \n",
       "5390        5391   3/21/2017 1:27             Seb   1648364930     NaN   \n",
       "5391        5392  3/20/2017 22:49       Î_¥ü     7.98E+17     NaN   \n",
       "5392        5393  3/20/2017 18:44           kdsak     69589807     NaN   \n",
       "5393        5394  3/20/2017 18:11  biosimilars101     8.11E+17     NaN   \n",
       "\n",
       "     To.User.Id Language                                             Source  \\\n",
       "5389         -1       en  <a href='http://twitter.com/download/iphone' r...   \n",
       "5390         -1       en  <a href='http://twitter.com' rel='nofollow'>Tw...   \n",
       "5391         -1       en  <a href='http://twitter.com/download/iphone' r...   \n",
       "5392         -1       en  <a href='http://twitter.com/download/iphone' r...   \n",
       "5393         -1       en  <a href='https://ads.twitter.com' rel='nofollo...   \n",
       "\n",
       "                                                   Text Geo.Location.Latitude  \\\n",
       "5389  Humira: we don't know how it works or if it wo...                   NaN   \n",
       "5390  humira doesn't have a twitter. expected yet so...                   NaN   \n",
       "5391  WhT an AMAZING FIRST DAY OF SPRING IT HAS BEEN...                   NaN   \n",
       "5392  Paying full price for my Humira and then havin...                   NaN   \n",
       "5393  #DYK: AbbVie typically rolls out two price hik...                   NaN   \n",
       "\n",
       "     Geo.Location.Longitude Retweet.Count        Id     key favorited  \\\n",
       "5389                    NaN             0  8.44E+17  humira       NaN   \n",
       "5390                    NaN             0  8.44E+17  humira       NaN   \n",
       "5391                    NaN             0  8.44E+17  humira       NaN   \n",
       "5392                    NaN             0  8.44E+17  humira       NaN   \n",
       "5393                    NaN             1  8.44E+17  humira       NaN   \n",
       "\n",
       "      favoriteCount isRetweet retweeted  \n",
       "5389            NaN       NaN       NaN  \n",
       "5390            NaN       NaN       NaN  \n",
       "5391            NaN       NaN       NaN  \n",
       "5392            NaN       NaN       NaN  \n",
       "5393            NaN       NaN       NaN  "
      ]
     },
     "execution_count": 417,
     "metadata": {},
     "output_type": "execute_result"
    }
   ],
   "source": [
    "data_abbvie.head()"
   ]
  },
  {
   "cell_type": "markdown",
   "metadata": {},
   "source": [
    "Reads the file"
   ]
  },
  {
   "cell_type": "code",
   "execution_count": 418,
   "metadata": {
    "collapsed": false
   },
   "outputs": [],
   "source": [
    "#data = pd.read_csv('trainingandtestdata/training.1600000.processed.noemoticon.csv',\n",
    "#                   names =['sentiment', 'id', 'date', 'query', 'user', 'text'], encoding='latin-1',delimiter=',')\n",
    "#data"
   ]
  },
  {
   "cell_type": "markdown",
   "metadata": {},
   "source": [
    "Take a sample from data"
   ]
  },
  {
   "cell_type": "code",
   "execution_count": 419,
   "metadata": {
    "collapsed": true
   },
   "outputs": [],
   "source": [
    "sample_data= data.sample(n=10000)\n",
    "#data_s=sample_data[\"sentiment\"]"
   ]
  },
  {
   "cell_type": "code",
   "execution_count": 420,
   "metadata": {
    "collapsed": false
   },
   "outputs": [],
   "source": [
    "data_t=sample_data[\"Text\"]"
   ]
  },
  {
   "cell_type": "code",
   "execution_count": 421,
   "metadata": {
    "collapsed": true
   },
   "outputs": [],
   "source": [
    "#data_t.append(Decimal(items['longitude'].encode('utf-16')))"
   ]
  },
  {
   "cell_type": "code",
   "execution_count": 422,
   "metadata": {
    "collapsed": false
   },
   "outputs": [],
   "source": [
    "data_t=data_abbvie[\"Text\"]"
   ]
  },
  {
   "cell_type": "markdown",
   "metadata": {},
   "source": [
    "Preprocess the data"
   ]
  },
  {
   "cell_type": "markdown",
   "metadata": {},
   "source": [
    "Replacement of abbriviations"
   ]
  },
  {
   "cell_type": "code",
   "execution_count": 423,
   "metadata": {
    "collapsed": false
   },
   "outputs": [],
   "source": [
    "replacement = {\n",
    "'r':'are',\n",
    "'y':'why',\n",
    "'u':'you',\n",
    "'ttyl':'talk to you later',\n",
    "'l8':'late',\n",
    "'brb':'be right back',\n",
    "'lol':'laughing out loud',\n",
    "'bbl':'be back later',\n",
    "'tldr':'too long did not read',\n",
    "'rofl':'rolling on floor laughing',\n",
    "'gr':'great',\n",
    "'g2g':'got to go',\n",
    "'gtg':'got to go',\n",
    "'cya':'see you',\n",
    "'cuz':'because',\n",
    "'cuzz':'because',\n",
    "'bff':'best friend forever',\n",
    "'idk':'I do not know',\n",
    "'sup':'whats up?',\n",
    "'omg':'oh my gosh',\n",
    "'nbd':'no big deal',\n",
    "'tisnf':'this is not fair',\n",
    "'nw':'no way!',\n",
    "'rus':'are you serious?',\n",
    "'myob':'mind your own business',\n",
    "'m8':'mate',\n",
    "'gg':'good game',\n",
    "'gn':'good night',\n",
    "'hf':'have fun',\n",
    "'njoy':'enjoy',\n",
    "'nter':'enter',\n",
    "'1ce':'once',\n",
    "'aka':'also known as',\n",
    "'afk':'away from keyboard',\n",
    "'jk':'just kidding',\n",
    "'asap':'as soon as possible',\n",
    "'app':'application',\n",
    "'atm':'at the moment',\n",
    "'b4':'before',\n",
    "'sux':'sucks',\n",
    "'fyi':'for your information',\n",
    "'bday':'birthday',\n",
    "'k':'okay',\n",
    "'msg':'message',\n",
    "'np':'no problem',\n",
    "'pic':'picture',\n",
    "'plz':'please',\n",
    "'sry':'sorry',\n",
    "'dunno':'do not know',\n",
    "'wut':'what',\n",
    "'wuts':'what is',\n",
    "'ikr':'i know right',\n",
    "'yolo':'you only live once',\n",
    "'w/e':'whatever'}"
   ]
  },
  {
   "cell_type": "code",
   "execution_count": 424,
   "metadata": {
    "collapsed": false
   },
   "outputs": [
    {
     "data": {
      "text/plain": [
       "'why are you late'"
      ]
     },
     "execution_count": 424,
     "metadata": {},
     "output_type": "execute_result"
    }
   ],
   "source": [
    "##How in works\n",
    "s1 = 'y r u l8'\n",
    "\n",
    "s2 = ' '.join([replacement.get(w, w) for w in s1.split()])\n",
    "s2"
   ]
  },
  {
   "cell_type": "code",
   "execution_count": 425,
   "metadata": {
    "collapsed": true
   },
   "outputs": [],
   "source": [
    "result = pd.DataFrame()\n",
    "result = data_t"
   ]
  },
  {
   "cell_type": "code",
   "execution_count": 426,
   "metadata": {
    "collapsed": false
   },
   "outputs": [],
   "source": [
    "for i in range(len(result)):\n",
    "    data_t.values[i]=' '.join([replacement.get(w, w) for w in data_t.values[i].split()])"
   ]
  },
  {
   "cell_type": "code",
   "execution_count": 427,
   "metadata": {
    "collapsed": false
   },
   "outputs": [
    {
     "data": {
      "text/plain": [
       "5389    Humira: we don't know how it works or if it wo...\n",
       "5390    humira doesn't have a twitter. expected yet so...\n",
       "5391    WhT an AMAZING FIRST DAY OF SPRING IT HAS BEEN...\n",
       "5392    Paying full price for my Humira and then havin...\n",
       "5393    #DYK: AbbVie typically rolls out two price hik...\n",
       "Name: Text, dtype: object"
      ]
     },
     "execution_count": 427,
     "metadata": {},
     "output_type": "execute_result"
    }
   ],
   "source": [
    "result.head()"
   ]
  },
  {
   "cell_type": "code",
   "execution_count": 428,
   "metadata": {
    "collapsed": false
   },
   "outputs": [
    {
     "data": {
      "text/plain": [
       "5389    Humira: we don't know how it works or if it wo...\n",
       "5390    humira doesn't have a twitter. expected yet so...\n",
       "5391    WhT an AMAZING FIRST DAY OF SPRING IT HAS BEEN...\n",
       "5392    Paying full price for my Humira and then havin...\n",
       "5393    #DYK: AbbVie typically rolls out two price hik...\n",
       "Name: Text, dtype: object"
      ]
     },
     "execution_count": 428,
     "metadata": {},
     "output_type": "execute_result"
    }
   ],
   "source": [
    "data_t.head()"
   ]
  },
  {
   "cell_type": "code",
   "execution_count": 429,
   "metadata": {
    "collapsed": false
   },
   "outputs": [
    {
     "data": {
      "text/plain": [
       "pandas.core.series.Series"
      ]
     },
     "execution_count": 429,
     "metadata": {},
     "output_type": "execute_result"
    }
   ],
   "source": [
    "type(result)"
   ]
  },
  {
   "cell_type": "code",
   "execution_count": 430,
   "metadata": {
    "collapsed": true
   },
   "outputs": [],
   "source": [
    "data_t=result"
   ]
  },
  {
   "cell_type": "code",
   "execution_count": 431,
   "metadata": {
    "collapsed": false
   },
   "outputs": [],
   "source": [
    "#lowercase\n",
    "data_t = data_t.str.lower()\n",
    "#Remove hyperlinks\n",
    "data_t= data_t.str.replace(r'https?:\\/\\/.*\\/[a-zA-Z0-9]*', \"\")\n",
    "#Remove citations\n",
    "data_t = data_t.str.replace(r'@[a-zA-Z0-9]*', \"\")\n",
    "#remove punctuation\n",
    "data_t = data_t.str.replace(r'[^\\w\\s]',\"\")\n",
    "#remove numbers\n",
    "data_t = data_t.str.replace(r'\\d+',\"\")\n",
    "#remove _\n",
    "data_t = data_t.str.replace(r'\\_+',\"\")"
   ]
  },
  {
   "cell_type": "code",
   "execution_count": 432,
   "metadata": {
    "collapsed": false
   },
   "outputs": [
    {
     "data": {
      "text/plain": [
       "5389    humira we dont know how it works or if it work...\n",
       "5390    humira doesnt have a twitter expected yet some...\n",
       "5391    wht an amazing first day of spring it has been...\n",
       "5392    paying full price for my humira and then havin...\n",
       "5393    dyk abbvie typically rolls out two price hikes...\n",
       "Name: Text, dtype: object"
      ]
     },
     "execution_count": 432,
     "metadata": {},
     "output_type": "execute_result"
    }
   ],
   "source": [
    "data_t.head()"
   ]
  },
  {
   "cell_type": "code",
   "execution_count": 433,
   "metadata": {
    "collapsed": false
   },
   "outputs": [
    {
     "data": {
      "text/plain": [
       "5389    humira we dont know how it works or if it work...\n",
       "5390    humira doesnt have a twitter expected yet some...\n",
       "5391    wht an amazing first day of spring it has been...\n",
       "5392    paying full price for my humira and then havin...\n",
       "5393    dyk abbvie typically rolls out two price hikes...\n",
       "Name: Text, dtype: object"
      ]
     },
     "execution_count": 433,
     "metadata": {},
     "output_type": "execute_result"
    }
   ],
   "source": [
    "df= data_t\n",
    "df.head()"
   ]
  },
  {
   "cell_type": "code",
   "execution_count": 434,
   "metadata": {
    "collapsed": false
   },
   "outputs": [
    {
     "data": {
      "text/plain": [
       "5389    humira we dont know how it works or if it work...\n",
       "5390    humira doesnt have a twitter expected yet some...\n",
       "5391    wht an amazing first day of spring it has been...\n",
       "5392    paying full price for my humira and then havin...\n",
       "5393    dyk abbvie typically rolls out two price hikes...\n",
       "Name: Text, dtype: object"
      ]
     },
     "execution_count": 434,
     "metadata": {},
     "output_type": "execute_result"
    }
   ],
   "source": [
    "data_t.head()"
   ]
  },
  {
   "cell_type": "code",
   "execution_count": 435,
   "metadata": {
    "collapsed": true
   },
   "outputs": [],
   "source": [
    "#for i in range(len(data_t)):\n",
    " #   print(data_t.values[i])"
   ]
  },
  {
   "cell_type": "code",
   "execution_count": 436,
   "metadata": {
    "collapsed": false
   },
   "outputs": [],
   "source": [
    "from textblob import TextBlob"
   ]
  },
  {
   "cell_type": "code",
   "execution_count": 437,
   "metadata": {
    "collapsed": true
   },
   "outputs": [],
   "source": [
    "#result = result.iloc[0:].apply(abb)"
   ]
  },
  {
   "cell_type": "code",
   "execution_count": 449,
   "metadata": {
    "collapsed": false
   },
   "outputs": [
    {
     "data": {
      "text/plain": [
       "0.16666666666666666"
      ]
     },
     "execution_count": 449,
     "metadata": {},
     "output_type": "execute_result"
    }
   ],
   "source": [
    "testimonial = TextBlob(data_t.values[1000])\n",
    "testimonial.sentiment.polarity\n",
    "#testimonial.sentiment.subjectivity"
   ]
  },
  {
   "cell_type": "code",
   "execution_count": null,
   "metadata": {
    "collapsed": false
   },
   "outputs": [],
   "source": []
  },
  {
   "cell_type": "code",
   "execution_count": 439,
   "metadata": {
    "collapsed": false
   },
   "outputs": [],
   "source": [
    "res=data_t\n",
    "res=res.rename(columns = {2:'polarity'})"
   ]
  },
  {
   "cell_type": "code",
   "execution_count": 440,
   "metadata": {
    "collapsed": true
   },
   "outputs": [],
   "source": [
    "res2=data_t\n",
    "res2=res2.rename(columns = {2:'subjectivity'})"
   ]
  },
  {
   "cell_type": "code",
   "execution_count": 441,
   "metadata": {
    "collapsed": false
   },
   "outputs": [],
   "source": [
    "for i in range(len(data_t)):\n",
    "    testimonial = TextBlob(data_t.values[i])\n",
    "    res.values[i]= testimonial.sentiment.polarity"
   ]
  },
  {
   "cell_type": "code",
   "execution_count": 442,
   "metadata": {
    "collapsed": false
   },
   "outputs": [],
   "source": [
    "for i in range(len(data_t)):\n",
    "    testimonial = TextBlob(data_t.values[i])\n",
    "    res2.values[i]= testimonial.sentiment.subjectivity"
   ]
  },
  {
   "cell_type": "code",
   "execution_count": 443,
   "metadata": {
    "collapsed": true
   },
   "outputs": [],
   "source": [
    "final=pd.concat([data_t, res], axis=1)"
   ]
  },
  {
   "cell_type": "code",
   "execution_count": 444,
   "metadata": {
    "collapsed": true
   },
   "outputs": [],
   "source": [
    "final=pd.concat([final, res2], axis=1)"
   ]
  },
  {
   "cell_type": "code",
   "execution_count": 445,
   "metadata": {
    "collapsed": true
   },
   "outputs": [
    {
     "data": {
      "text/html": [
       "<div>\n",
       "<table border=\"1\" class=\"dataframe\">\n",
       "  <thead>\n",
       "    <tr style=\"text-align: right;\">\n",
       "      <th></th>\n",
       "      <th>Text</th>\n",
       "      <th>0</th>\n",
       "      <th>0</th>\n",
       "    </tr>\n",
       "  </thead>\n",
       "  <tbody>\n",
       "    <tr>\n",
       "      <th>5389</th>\n",
       "      <td>humira we dont know how it works or if it work...</td>\n",
       "      <td>0</td>\n",
       "      <td>0</td>\n",
       "    </tr>\n",
       "    <tr>\n",
       "      <th>5390</th>\n",
       "      <td>humira doesnt have a twitter expected yet some...</td>\n",
       "      <td>-0.35</td>\n",
       "      <td>0.55</td>\n",
       "    </tr>\n",
       "    <tr>\n",
       "      <th>5391</th>\n",
       "      <td>wht an amazing first day of spring it has been...</td>\n",
       "      <td>0.0907468</td>\n",
       "      <td>0.658983</td>\n",
       "    </tr>\n",
       "    <tr>\n",
       "      <th>5392</th>\n",
       "      <td>paying full price for my humira and then havin...</td>\n",
       "      <td>0.35</td>\n",
       "      <td>0.55</td>\n",
       "    </tr>\n",
       "    <tr>\n",
       "      <th>5393</th>\n",
       "      <td>dyk abbvie typically rolls out two price hikes...</td>\n",
       "      <td>-0.166667</td>\n",
       "      <td>0.5</td>\n",
       "    </tr>\n",
       "    <tr>\n",
       "      <th>5394</th>\n",
       "      <td>humana is a drug actually no its not its an in...</td>\n",
       "      <td>-0.2</td>\n",
       "      <td>0.35</td>\n",
       "    </tr>\n",
       "    <tr>\n",
       "      <th>5395</th>\n",
       "      <td>gotta let it warm up to room temp then its on ...</td>\n",
       "      <td>0.425</td>\n",
       "      <td>0.466667</td>\n",
       "    </tr>\n",
       "    <tr>\n",
       "      <th>5396</th>\n",
       "      <td>biologicnaive psa patients persist on therapy ...</td>\n",
       "      <td>0</td>\n",
       "      <td>0</td>\n",
       "    </tr>\n",
       "    <tr>\n",
       "      <th>5397</th>\n",
       "      <td>i hit  and  sedinatation rate and c reactive ...</td>\n",
       "      <td>-0.155556</td>\n",
       "      <td>0.288889</td>\n",
       "    </tr>\n",
       "    <tr>\n",
       "      <th>5398</th>\n",
       "      <td>everyday medsminders meds reminder app</td>\n",
       "      <td>-0.2</td>\n",
       "      <td>0.6</td>\n",
       "    </tr>\n",
       "    <tr>\n",
       "      <th>5399</th>\n",
       "      <td>rt  why use humira when you can induce toleran...</td>\n",
       "      <td>0</td>\n",
       "      <td>0</td>\n",
       "    </tr>\n",
       "    <tr>\n",
       "      <th>5400</th>\n",
       "      <td>rt journal investigational humira biosimilar s...</td>\n",
       "      <td>0</td>\n",
       "      <td>0</td>\n",
       "    </tr>\n",
       "    <tr>\n",
       "      <th>5401</th>\n",
       "      <td>ask your doctor about humira adalimumab</td>\n",
       "      <td>0</td>\n",
       "      <td>0</td>\n",
       "    </tr>\n",
       "    <tr>\n",
       "      <th>5402</th>\n",
       "      <td>well at least now i can pretend im a greasy g...</td>\n",
       "      <td>0.15</td>\n",
       "      <td>0.7</td>\n",
       "    </tr>\n",
       "    <tr>\n",
       "      <th>5403</th>\n",
       "      <td>investigational humira biosimilar shows effica...</td>\n",
       "      <td>0</td>\n",
       "      <td>0</td>\n",
       "    </tr>\n",
       "    <tr>\n",
       "      <th>5404</th>\n",
       "      <td>she is  now humira is going well for her her...</td>\n",
       "      <td>0.0533333</td>\n",
       "      <td>0.18</td>\n",
       "    </tr>\n",
       "    <tr>\n",
       "      <th>5405</th>\n",
       "      <td>a single yr of humiras annual price increase...</td>\n",
       "      <td>0.214286</td>\n",
       "      <td>0.357143</td>\n",
       "    </tr>\n",
       "    <tr>\n",
       "      <th>5406</th>\n",
       "      <td>the joys of getting to stick myself humira psa...</td>\n",
       "      <td>0</td>\n",
       "      <td>0</td>\n",
       "    </tr>\n",
       "    <tr>\n",
       "      <th>5407</th>\n",
       "      <td>on set today as lead woodworker in a commercia...</td>\n",
       "      <td>0</td>\n",
       "      <td>0</td>\n",
       "    </tr>\n",
       "    <tr>\n",
       "      <th>5408</th>\n",
       "      <td>this tiger needs humira</td>\n",
       "      <td>0</td>\n",
       "      <td>0</td>\n",
       "    </tr>\n",
       "    <tr>\n",
       "      <th>5409</th>\n",
       "      <td>an as sufferer in the philippines will have to...</td>\n",
       "      <td>0.35</td>\n",
       "      <td>0.4125</td>\n",
       "    </tr>\n",
       "    <tr>\n",
       "      <th>5410</th>\n",
       "      <td>the average income in the philippines is p pd ...</td>\n",
       "      <td>0.075</td>\n",
       "      <td>0.25</td>\n",
       "    </tr>\n",
       "    <tr>\n",
       "      <th>5411</th>\n",
       "      <td>that moment when you feel your forehead and re...</td>\n",
       "      <td>0</td>\n",
       "      <td>0</td>\n",
       "    </tr>\n",
       "    <tr>\n",
       "      <th>5412</th>\n",
       "      <td>rt  it would take  iphone  pluses a  ft line o...</td>\n",
       "      <td>-0.15</td>\n",
       "      <td>0.4</td>\n",
       "    </tr>\n",
       "    <tr>\n",
       "      <th>5413</th>\n",
       "      <td>you should star in a humira commercial</td>\n",
       "      <td>0</td>\n",
       "      <td>0</td>\n",
       "    </tr>\n",
       "    <tr>\n",
       "      <th>5414</th>\n",
       "      <td>humira is one expensive ass drug</td>\n",
       "      <td>-0.5</td>\n",
       "      <td>0.7</td>\n",
       "    </tr>\n",
       "    <tr>\n",
       "      <th>5415</th>\n",
       "      <td>i wonder if its a coincidence that some drug ...</td>\n",
       "      <td>0</td>\n",
       "      <td>0</td>\n",
       "    </tr>\n",
       "    <tr>\n",
       "      <th>5416</th>\n",
       "      <td>rt  it would take  iphone  pluses a  ft line o...</td>\n",
       "      <td>-0.15</td>\n",
       "      <td>0.4</td>\n",
       "    </tr>\n",
       "    <tr>\n",
       "      <th>5417</th>\n",
       "      <td>rt  im posting this everywhere but its okay be...</td>\n",
       "      <td>0.5</td>\n",
       "      <td>0.5</td>\n",
       "    </tr>\n",
       "    <tr>\n",
       "      <th>5418</th>\n",
       "      <td>clumsy fingers side effect of humira svengoolie</td>\n",
       "      <td>-0.3</td>\n",
       "      <td>0.4</td>\n",
       "    </tr>\n",
       "    <tr>\n",
       "      <th>...</th>\n",
       "      <td>...</td>\n",
       "      <td>...</td>\n",
       "      <td>...</td>\n",
       "    </tr>\n",
       "    <tr>\n",
       "      <th>82971</th>\n",
       "      <td>autumn my son is allergic to humira</td>\n",
       "      <td>0</td>\n",
       "      <td>0</td>\n",
       "    </tr>\n",
       "    <tr>\n",
       "      <th>82972</th>\n",
       "      <td>so your plan is to deny my kids payment for l...</td>\n",
       "      <td>0</td>\n",
       "      <td>0</td>\n",
       "    </tr>\n",
       "    <tr>\n",
       "      <th>82973</th>\n",
       "      <td>fdaeduaubeedubuapproved</td>\n",
       "      <td>0</td>\n",
       "      <td>0</td>\n",
       "    </tr>\n",
       "    <tr>\n",
       "      <th>82974</th>\n",
       "      <td>humira hangover hitting hard tonight best catn...</td>\n",
       "      <td>0.354167</td>\n",
       "      <td>0.420833</td>\n",
       "    </tr>\n",
       "    <tr>\n",
       "      <th>82975</th>\n",
       "      <td>finally got back on my humira shots yesterday ...</td>\n",
       "      <td>0.1</td>\n",
       "      <td>0.366667</td>\n",
       "    </tr>\n",
       "    <tr>\n",
       "      <th>82976</th>\n",
       "      <td>yeah were gonna try to get my insurance to ap...</td>\n",
       "      <td>0</td>\n",
       "      <td>0</td>\n",
       "    </tr>\n",
       "    <tr>\n",
       "      <th>82977</th>\n",
       "      <td>abbvies humira needs a discount icer says warn...</td>\n",
       "      <td>0</td>\n",
       "      <td>0</td>\n",
       "    </tr>\n",
       "    <tr>\n",
       "      <th>82978</th>\n",
       "      <td>lillys rheumatoid arthritis pill potential hum...</td>\n",
       "      <td>0</td>\n",
       "      <td>1</td>\n",
       "    </tr>\n",
       "    <tr>\n",
       "      <th>82979</th>\n",
       "      <td>i take humira</td>\n",
       "      <td>0</td>\n",
       "      <td>0</td>\n",
       "    </tr>\n",
       "    <tr>\n",
       "      <th>82980</th>\n",
       "      <td>rt    did you tell him to talk to his doctor a...</td>\n",
       "      <td>0</td>\n",
       "      <td>0</td>\n",
       "    </tr>\n",
       "    <tr>\n",
       "      <th>82981</th>\n",
       "      <td>did you tell him to talk to his doctor about...</td>\n",
       "      <td>0</td>\n",
       "      <td>0</td>\n",
       "    </tr>\n",
       "    <tr>\n",
       "      <th>82982</th>\n",
       "      <td>beware big pharma icer is watching meddevice m...</td>\n",
       "      <td>0</td>\n",
       "      <td>0.1</td>\n",
       "    </tr>\n",
       "    <tr>\n",
       "      <th>82983</th>\n",
       "      <td>soooo my humira was supposed to be here this a...</td>\n",
       "      <td>0.1</td>\n",
       "      <td>0.383333</td>\n",
       "    </tr>\n",
       "    <tr>\n",
       "      <th>82984</th>\n",
       "      <td>first solo humira injection really stressed me...</td>\n",
       "      <td>0.316667</td>\n",
       "      <td>0.344444</td>\n",
       "    </tr>\n",
       "    <tr>\n",
       "      <th>82985</th>\n",
       "      <td>humira is  a month without insurance and here...</td>\n",
       "      <td>0</td>\n",
       "      <td>0</td>\n",
       "    </tr>\n",
       "    <tr>\n",
       "      <th>82986</th>\n",
       "      <td>abbvies humira needs a discount icer says warn...</td>\n",
       "      <td>0</td>\n",
       "      <td>0</td>\n",
       "    </tr>\n",
       "    <tr>\n",
       "      <th>82987</th>\n",
       "      <td>todays morning trio juice probiotic amp humira...</td>\n",
       "      <td>0</td>\n",
       "      <td>0</td>\n",
       "    </tr>\n",
       "    <tr>\n",
       "      <th>82988</th>\n",
       "      <td>rt  what is  doing in this humira commercial</td>\n",
       "      <td>0</td>\n",
       "      <td>0</td>\n",
       "    </tr>\n",
       "    <tr>\n",
       "      <th>82989</th>\n",
       "      <td>rt  what is  doing in this humira commercial</td>\n",
       "      <td>0</td>\n",
       "      <td>0</td>\n",
       "    </tr>\n",
       "    <tr>\n",
       "      <th>82990</th>\n",
       "      <td>rt  what is  doing in this humira commercial</td>\n",
       "      <td>0</td>\n",
       "      <td>0</td>\n",
       "    </tr>\n",
       "    <tr>\n",
       "      <th>82991</th>\n",
       "      <td>what is  doing in this humira commercial</td>\n",
       "      <td>0</td>\n",
       "      <td>0</td>\n",
       "    </tr>\n",
       "    <tr>\n",
       "      <th>82992</th>\n",
       "      <td>humira helped my rheum issues within  wks ulc...</td>\n",
       "      <td>0.5</td>\n",
       "      <td>0.75</td>\n",
       "    </tr>\n",
       "    <tr>\n",
       "      <th>82993</th>\n",
       "      <td>hmm imho i would consider switching up my rhe...</td>\n",
       "      <td>0.2</td>\n",
       "      <td>0.2</td>\n",
       "    </tr>\n",
       "    <tr>\n",
       "      <th>82994</th>\n",
       "      <td>i saw my rheumatologist today amp shes decided...</td>\n",
       "      <td>0</td>\n",
       "      <td>0</td>\n",
       "    </tr>\n",
       "    <tr>\n",
       "      <th>82995</th>\n",
       "      <td>little reminder to be thankful for life  injec...</td>\n",
       "      <td>-0.1875</td>\n",
       "      <td>0.5</td>\n",
       "    </tr>\n",
       "    <tr>\n",
       "      <th>82996</th>\n",
       "      <td>i miss humira it worked but too many blood in...</td>\n",
       "      <td>0</td>\n",
       "      <td>0.4</td>\n",
       "    </tr>\n",
       "    <tr>\n",
       "      <th>82997</th>\n",
       "      <td>humira shot is tomorrow evening amp i want to ...</td>\n",
       "      <td>-0.427778</td>\n",
       "      <td>0.477778</td>\n",
       "    </tr>\n",
       "    <tr>\n",
       "      <th>82998</th>\n",
       "      <td>icer says humira needs  discount</td>\n",
       "      <td>0</td>\n",
       "      <td>0</td>\n",
       "    </tr>\n",
       "    <tr>\n",
       "      <th>82999</th>\n",
       "      <td>abbvies humira needs a discount icer says warn...</td>\n",
       "      <td>0</td>\n",
       "      <td>0</td>\n",
       "    </tr>\n",
       "    <tr>\n",
       "      <th>83000</th>\n",
       "      <td>es ist humiradas einzige was mir geholfen hat...</td>\n",
       "      <td>0</td>\n",
       "      <td>0</td>\n",
       "    </tr>\n",
       "  </tbody>\n",
       "</table>\n",
       "<p>2072 rows × 3 columns</p>\n",
       "</div>"
      ],
      "text/plain": [
       "                                                    Text          0         0\n",
       "5389   humira we dont know how it works or if it work...          0         0\n",
       "5390   humira doesnt have a twitter expected yet some...      -0.35      0.55\n",
       "5391   wht an amazing first day of spring it has been...  0.0907468  0.658983\n",
       "5392   paying full price for my humira and then havin...       0.35      0.55\n",
       "5393   dyk abbvie typically rolls out two price hikes...  -0.166667       0.5\n",
       "5394   humana is a drug actually no its not its an in...       -0.2      0.35\n",
       "5395   gotta let it warm up to room temp then its on ...      0.425  0.466667\n",
       "5396   biologicnaive psa patients persist on therapy ...          0         0\n",
       "5397    i hit  and  sedinatation rate and c reactive ...  -0.155556  0.288889\n",
       "5398             everyday medsminders meds reminder app        -0.2       0.6\n",
       "5399   rt  why use humira when you can induce toleran...          0         0\n",
       "5400   rt journal investigational humira biosimilar s...          0         0\n",
       "5401             ask your doctor about humira adalimumab          0         0\n",
       "5402    well at least now i can pretend im a greasy g...       0.15       0.7\n",
       "5403   investigational humira biosimilar shows effica...          0         0\n",
       "5404     she is  now humira is going well for her her...  0.0533333      0.18\n",
       "5405     a single yr of humiras annual price increase...   0.214286  0.357143\n",
       "5406   the joys of getting to stick myself humira psa...          0         0\n",
       "5407   on set today as lead woodworker in a commercia...          0         0\n",
       "5408                             this tiger needs humira          0         0\n",
       "5409   an as sufferer in the philippines will have to...       0.35    0.4125\n",
       "5410   the average income in the philippines is p pd ...      0.075      0.25\n",
       "5411   that moment when you feel your forehead and re...          0         0\n",
       "5412   rt  it would take  iphone  pluses a  ft line o...      -0.15       0.4\n",
       "5413              you should star in a humira commercial          0         0\n",
       "5414                    humira is one expensive ass drug       -0.5       0.7\n",
       "5415    i wonder if its a coincidence that some drug ...          0         0\n",
       "5416   rt  it would take  iphone  pluses a  ft line o...      -0.15       0.4\n",
       "5417   rt  im posting this everywhere but its okay be...        0.5       0.5\n",
       "5418     clumsy fingers side effect of humira svengoolie       -0.3       0.4\n",
       "...                                                  ...        ...       ...\n",
       "82971                autumn my son is allergic to humira          0         0\n",
       "82972   so your plan is to deny my kids payment for l...          0         0\n",
       "82973                           fdaeduaubeedubuapproved           0         0\n",
       "82974  humira hangover hitting hard tonight best catn...   0.354167  0.420833\n",
       "82975  finally got back on my humira shots yesterday ...        0.1  0.366667\n",
       "82976   yeah were gonna try to get my insurance to ap...          0         0\n",
       "82977  abbvies humira needs a discount icer says warn...          0         0\n",
       "82978  lillys rheumatoid arthritis pill potential hum...          0         1\n",
       "82979                                      i take humira          0         0\n",
       "82980  rt    did you tell him to talk to his doctor a...          0         0\n",
       "82981    did you tell him to talk to his doctor about...          0         0\n",
       "82982  beware big pharma icer is watching meddevice m...          0       0.1\n",
       "82983  soooo my humira was supposed to be here this a...        0.1  0.383333\n",
       "82984  first solo humira injection really stressed me...   0.316667  0.344444\n",
       "82985   humira is  a month without insurance and here...          0         0\n",
       "82986  abbvies humira needs a discount icer says warn...          0         0\n",
       "82987  todays morning trio juice probiotic amp humira...          0         0\n",
       "82988      rt  what is  doing in this humira commercial           0         0\n",
       "82989      rt  what is  doing in this humira commercial           0         0\n",
       "82990      rt  what is  doing in this humira commercial           0         0\n",
       "82991          what is  doing in this humira commercial           0         0\n",
       "82992   humira helped my rheum issues within  wks ulc...        0.5      0.75\n",
       "82993   hmm imho i would consider switching up my rhe...        0.2       0.2\n",
       "82994  i saw my rheumatologist today amp shes decided...          0         0\n",
       "82995  little reminder to be thankful for life  injec...    -0.1875       0.5\n",
       "82996   i miss humira it worked but too many blood in...          0       0.4\n",
       "82997  humira shot is tomorrow evening amp i want to ...  -0.427778  0.477778\n",
       "82998                 icer says humira needs  discount            0         0\n",
       "82999  abbvies humira needs a discount icer says warn...          0         0\n",
       "83000   es ist humiradas einzige was mir geholfen hat...          0         0\n",
       "\n",
       "[2072 rows x 3 columns]"
      ]
     },
     "execution_count": 445,
     "metadata": {},
     "output_type": "execute_result"
    }
   ],
   "source": [
    "final"
   ]
  },
  {
   "cell_type": "code",
   "execution_count": 446,
   "metadata": {
    "collapsed": true
   },
   "outputs": [],
   "source": [
    "#final.to_csv('out.csv', sep=',')"
   ]
  },
  {
   "cell_type": "code",
   "execution_count": 32,
   "metadata": {
    "collapsed": false
   },
   "outputs": [
    {
     "data": {
      "text/plain": [
       "-0.2"
      ]
     },
     "execution_count": 32,
     "metadata": {},
     "output_type": "execute_result"
    }
   ],
   "source": [
    "#polarity\n",
    "final.values[0,1]"
   ]
  },
  {
   "cell_type": "code",
   "execution_count": 33,
   "metadata": {
    "collapsed": false
   },
   "outputs": [
    {
     "data": {
      "text/plain": [
       "0.8"
      ]
     },
     "execution_count": 33,
     "metadata": {},
     "output_type": "execute_result"
    }
   ],
   "source": [
    "#subjectivity\n",
    "final.values[0,2]"
   ]
  },
  {
   "cell_type": "code",
   "execution_count": null,
   "metadata": {
    "collapsed": true
   },
   "outputs": [],
   "source": []
  },
  {
   "cell_type": "code",
   "execution_count": null,
   "metadata": {
    "collapsed": true
   },
   "outputs": [],
   "source": []
  }
 ],
 "metadata": {
  "kernelspec": {
   "display_name": "Python 2",
   "language": "python",
   "name": "python2"
  },
  "language_info": {
   "codemirror_mode": {
    "name": "ipython",
    "version": 2
   },
   "file_extension": ".py",
   "mimetype": "text/x-python",
   "name": "python",
   "nbconvert_exporter": "python",
   "pygments_lexer": "ipython2",
   "version": "2.7.12"
  }
 },
 "nbformat": 4,
 "nbformat_minor": 0
}
