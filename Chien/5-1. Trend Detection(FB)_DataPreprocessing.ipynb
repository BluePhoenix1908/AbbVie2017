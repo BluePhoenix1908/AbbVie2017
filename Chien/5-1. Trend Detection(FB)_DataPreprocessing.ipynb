{
 "cells": [
  {
   "cell_type": "markdown",
   "metadata": {
    "collapsed": false
   },
   "source": [
    "##### import pandas as pd\n",
    "import numpy as np\n",
    "import re\n",
    "import nltk\n",
    "import csv\n",
    "from IPython.display import Image\n",
    "from IPython.display import display"
   ]
  },
  {
   "cell_type": "code",
   "execution_count": 2,
   "metadata": {
    "collapsed": false
   },
   "outputs": [
    {
     "name": "stderr",
     "output_type": "stream",
     "text": [
      "/Users/chiachienhung/anaconda/lib/python3.6/site-packages/IPython/core/interactiveshell.py:2717: DtypeWarning: Columns (18) have mixed types. Specify dtype option on import or set low_memory=False.\n",
      "  interactivity=interactivity, compiler=compiler, result=result)\n"
     ]
    },
    {
     "data": {
      "text/html": [
       "<div>\n",
       "<table border=\"1\" class=\"dataframe\">\n",
       "  <thead>\n",
       "    <tr style=\"text-align: right;\">\n",
       "      <th></th>\n",
       "      <th>id.x</th>\n",
       "      <th>language</th>\n",
       "      <th>key</th>\n",
       "      <th>likes_count.x</th>\n",
       "      <th>from_id.x</th>\n",
       "      <th>from_name.x</th>\n",
       "      <th>message.x</th>\n",
       "      <th>created_time.x</th>\n",
       "      <th>type</th>\n",
       "      <th>link</th>\n",
       "      <th>...</th>\n",
       "      <th>sad_count</th>\n",
       "      <th>angry_count</th>\n",
       "      <th>join_id</th>\n",
       "      <th>from_id.y</th>\n",
       "      <th>from_name.y</th>\n",
       "      <th>message.y</th>\n",
       "      <th>created_time.y</th>\n",
       "      <th>likes_count.y</th>\n",
       "      <th>comments_count.y</th>\n",
       "      <th>id.y</th>\n",
       "    </tr>\n",
       "  </thead>\n",
       "  <tbody>\n",
       "    <tr>\n",
       "      <th>0</th>\n",
       "      <td>474591366067852_479391832254472</td>\n",
       "      <td>NaN</td>\n",
       "      <td>bristol myers</td>\n",
       "      <td>26.0</td>\n",
       "      <td>4.745914e+14</td>\n",
       "      <td>Bristol-Myers Squibb</td>\n",
       "      <td>NaN</td>\n",
       "      <td>2014-12-31 20:00:00</td>\n",
       "      <td>photo</td>\n",
       "      <td>https://www.facebook.com/BristolMyersSquibb/ph...</td>\n",
       "      <td>...</td>\n",
       "      <td>0.0</td>\n",
       "      <td>0.0</td>\n",
       "      <td>479391832254472</td>\n",
       "      <td>NaN</td>\n",
       "      <td>NaN</td>\n",
       "      <td>NaN</td>\n",
       "      <td>NaN</td>\n",
       "      <td>NaN</td>\n",
       "      <td>NaN</td>\n",
       "      <td>NaN</td>\n",
       "    </tr>\n",
       "    <tr>\n",
       "      <th>1</th>\n",
       "      <td>474591366067852_479697292223926</td>\n",
       "      <td>NaN</td>\n",
       "      <td>bristol myers</td>\n",
       "      <td>119.0</td>\n",
       "      <td>4.745914e+14</td>\n",
       "      <td>Bristol-Myers Squibb</td>\n",
       "      <td>NaN</td>\n",
       "      <td>2014-12-31 20:00:00</td>\n",
       "      <td>photo</td>\n",
       "      <td>https://www.facebook.com/BristolMyersSquibb/ph...</td>\n",
       "      <td>...</td>\n",
       "      <td>0.0</td>\n",
       "      <td>0.0</td>\n",
       "      <td>479697292223926</td>\n",
       "      <td>1.015417e+16</td>\n",
       "      <td>Joanie Davidson</td>\n",
       "      <td>I was out there last week and it is so impress...</td>\n",
       "      <td>2016-05-03 11:54:13</td>\n",
       "      <td>0.0</td>\n",
       "      <td>0.0</td>\n",
       "      <td>479697292223926_480292432164412</td>\n",
       "    </tr>\n",
       "    <tr>\n",
       "      <th>2</th>\n",
       "      <td>474591366067852_479697292223926</td>\n",
       "      <td>NaN</td>\n",
       "      <td>bristol myers</td>\n",
       "      <td>119.0</td>\n",
       "      <td>4.745914e+14</td>\n",
       "      <td>Bristol-Myers Squibb</td>\n",
       "      <td>NaN</td>\n",
       "      <td>2014-12-31 20:00:00</td>\n",
       "      <td>photo</td>\n",
       "      <td>https://www.facebook.com/BristolMyersSquibb/ph...</td>\n",
       "      <td>...</td>\n",
       "      <td>0.0</td>\n",
       "      <td>0.0</td>\n",
       "      <td>479697292223926</td>\n",
       "      <td>1.020636e+16</td>\n",
       "      <td>Kevin Giordano</td>\n",
       "      <td>Fantastic!</td>\n",
       "      <td>2016-05-01 18:09:14</td>\n",
       "      <td>0.0</td>\n",
       "      <td>0.0</td>\n",
       "      <td>479697292223926_479739125553076</td>\n",
       "    </tr>\n",
       "  </tbody>\n",
       "</table>\n",
       "<p>3 rows × 26 columns</p>\n",
       "</div>"
      ],
      "text/plain": [
       "                              id.x language            key  likes_count.x  \\\n",
       "0  474591366067852_479391832254472      NaN  bristol myers           26.0   \n",
       "1  474591366067852_479697292223926      NaN  bristol myers          119.0   \n",
       "2  474591366067852_479697292223926      NaN  bristol myers          119.0   \n",
       "\n",
       "      from_id.x           from_name.x message.x       created_time.x   type  \\\n",
       "0  4.745914e+14  Bristol-Myers Squibb       NaN  2014-12-31 20:00:00  photo   \n",
       "1  4.745914e+14  Bristol-Myers Squibb       NaN  2014-12-31 20:00:00  photo   \n",
       "2  4.745914e+14  Bristol-Myers Squibb       NaN  2014-12-31 20:00:00  photo   \n",
       "\n",
       "                                                link  \\\n",
       "0  https://www.facebook.com/BristolMyersSquibb/ph...   \n",
       "1  https://www.facebook.com/BristolMyersSquibb/ph...   \n",
       "2  https://www.facebook.com/BristolMyersSquibb/ph...   \n",
       "\n",
       "                ...                sad_count  angry_count          join_id  \\\n",
       "0               ...                      0.0          0.0  479391832254472   \n",
       "1               ...                      0.0          0.0  479697292223926   \n",
       "2               ...                      0.0          0.0  479697292223926   \n",
       "\n",
       "      from_id.y      from_name.y  \\\n",
       "0           NaN              NaN   \n",
       "1  1.015417e+16  Joanie Davidson   \n",
       "2  1.020636e+16   Kevin Giordano   \n",
       "\n",
       "                                           message.y       created_time.y  \\\n",
       "0                                                NaN                  NaN   \n",
       "1  I was out there last week and it is so impress...  2016-05-03 11:54:13   \n",
       "2                                         Fantastic!  2016-05-01 18:09:14   \n",
       "\n",
       "   likes_count.y comments_count.y                             id.y  \n",
       "0            NaN              NaN                              NaN  \n",
       "1            0.0              0.0  479697292223926_480292432164412  \n",
       "2            0.0              0.0  479697292223926_479739125553076  \n",
       "\n",
       "[3 rows x 26 columns]"
      ]
     },
     "metadata": {},
     "output_type": "display_data"
    }
   ],
   "source": [
    "import pandas as pd\n",
    "disease = pd.read_csv('Final_FB_2804_utf16.csv', encoding='UTF-16LE')\n",
    "display(disease.head(3))"
   ]
  },
  {
   "cell_type": "code",
   "execution_count": 3,
   "metadata": {
    "collapsed": false
   },
   "outputs": [
    {
     "data": {
      "text/html": [
       "<div>\n",
       "<table border=\"1\" class=\"dataframe\">\n",
       "  <thead>\n",
       "    <tr style=\"text-align: right;\">\n",
       "      <th></th>\n",
       "      <th></th>\n",
       "      <th>key</th>\n",
       "      <th>id.x</th>\n",
       "      <th>created_time</th>\n",
       "      <th>message</th>\n",
       "    </tr>\n",
       "  </thead>\n",
       "  <tbody>\n",
       "    <tr>\n",
       "      <th rowspan=\"3\" valign=\"top\">message.x</th>\n",
       "      <th>0</th>\n",
       "      <td>bristol myers</td>\n",
       "      <td>474591366067852_479391832254472</td>\n",
       "      <td>2014-12-31 20:00:00</td>\n",
       "      <td>NaN</td>\n",
       "    </tr>\n",
       "    <tr>\n",
       "      <th>6</th>\n",
       "      <td>bristol myers</td>\n",
       "      <td>474591366067852_479091638951158</td>\n",
       "      <td>2016-04-29 17:02:13</td>\n",
       "      <td>People and patients are at the center of every...</td>\n",
       "    </tr>\n",
       "    <tr>\n",
       "      <th>7</th>\n",
       "      <td>bristol myers</td>\n",
       "      <td>474591366067852_479814438878878</td>\n",
       "      <td>2016-05-01 23:58:47</td>\n",
       "      <td>BMS is an example for other companies to emulate.</td>\n",
       "    </tr>\n",
       "  </tbody>\n",
       "</table>\n",
       "</div>"
      ],
      "text/plain": [
       "                       key                             id.x  \\\n",
       "message.x 0  bristol myers  474591366067852_479391832254472   \n",
       "          6  bristol myers  474591366067852_479091638951158   \n",
       "          7  bristol myers  474591366067852_479814438878878   \n",
       "\n",
       "                    created_time  \\\n",
       "message.x 0  2014-12-31 20:00:00   \n",
       "          6  2016-04-29 17:02:13   \n",
       "          7  2016-05-01 23:58:47   \n",
       "\n",
       "                                                       message  \n",
       "message.x 0                                                NaN  \n",
       "          6  People and patients are at the center of every...  \n",
       "          7  BMS is an example for other companies to emulate.  "
      ]
     },
     "metadata": {},
     "output_type": "display_data"
    },
    {
     "name": "stdout",
     "output_type": "stream",
     "text": [
      "165531 167794\n"
     ]
    }
   ],
   "source": [
    "df = pd.DataFrame(disease, columns = ['key','id.x','created_time.x', 'message.x','created_time.y', 'message.y'])\n",
    "rm_duplicates_x = df.drop_duplicates(subset=['key','message.x'])\n",
    "rm_duplicates_y = df.drop_duplicates(subset=['key','message.y'])\n",
    "#print(len(df),len(rm_duplicates_x),len(rm_duplicates_y))\n",
    "#display(rm_duplicates_x.head(10))\n",
    "#display(rm_duplicates_y.head(10))\n",
    "message_x=rm_duplicates_x[['key', 'id.x', 'created_time.x', 'message.x']]\n",
    "message_y=rm_duplicates_y[['key', 'id.x', 'created_time.y', 'message.y']]\n",
    "message_x.columns=['key', 'id.x', 'created_time','message']\n",
    "message_y.columns=['key', 'id.x', 'created_time','message']\n",
    "#display(message_x.head(10))\n",
    "#display(message_y.head(10))\n",
    "#print(len(message_x),len(message_y))\n",
    "frames = [message_x, message_y]\n",
    "result = pd.concat(frames, keys=['message.x', 'message.y'])\n",
    "display(result.head(3))\n",
    "print(len(df),len(result))\n",
    "result.to_csv(\"post_comment_utf16.csv\", encoding='UTF-16LE',columns = ['key','id.x','created_time', 'message'])"
   ]
  },
  {
   "cell_type": "code",
   "execution_count": 4,
   "metadata": {
    "collapsed": false
   },
   "outputs": [
    {
     "data": {
      "text/html": [
       "<div>\n",
       "<table border=\"1\" class=\"dataframe\">\n",
       "  <thead>\n",
       "    <tr style=\"text-align: right;\">\n",
       "      <th></th>\n",
       "      <th>xy</th>\n",
       "      <th>docid</th>\n",
       "      <th>key</th>\n",
       "      <th>id.x</th>\n",
       "      <th>created_time</th>\n",
       "      <th>message</th>\n",
       "    </tr>\n",
       "  </thead>\n",
       "  <tbody>\n",
       "    <tr>\n",
       "      <th>0</th>\n",
       "      <td>message.x</td>\n",
       "      <td>0</td>\n",
       "      <td>bristol myers</td>\n",
       "      <td>474591366067852_479391832254472</td>\n",
       "      <td>2014-12-31 20:00:00</td>\n",
       "      <td>NaN</td>\n",
       "    </tr>\n",
       "    <tr>\n",
       "      <th>1</th>\n",
       "      <td>message.x</td>\n",
       "      <td>6</td>\n",
       "      <td>bristol myers</td>\n",
       "      <td>474591366067852_479091638951158</td>\n",
       "      <td>2016-04-29 17:02:13</td>\n",
       "      <td>People and patients are at the center of every...</td>\n",
       "    </tr>\n",
       "    <tr>\n",
       "      <th>2</th>\n",
       "      <td>message.x</td>\n",
       "      <td>7</td>\n",
       "      <td>bristol myers</td>\n",
       "      <td>474591366067852_479814438878878</td>\n",
       "      <td>2016-05-01 23:58:47</td>\n",
       "      <td>BMS is an example for other companies to emulate.</td>\n",
       "    </tr>\n",
       "  </tbody>\n",
       "</table>\n",
       "</div>"
      ],
      "text/plain": [
       "          xy  docid            key                             id.x  \\\n",
       "0  message.x      0  bristol myers  474591366067852_479391832254472   \n",
       "1  message.x      6  bristol myers  474591366067852_479091638951158   \n",
       "2  message.x      7  bristol myers  474591366067852_479814438878878   \n",
       "\n",
       "          created_time                                            message  \n",
       "0  2014-12-31 20:00:00                                                NaN  \n",
       "1  2016-04-29 17:02:13  People and patients are at the center of every...  \n",
       "2  2016-05-01 23:58:47  BMS is an example for other companies to emulate.  "
      ]
     },
     "metadata": {},
     "output_type": "display_data"
    },
    {
     "data": {
      "text/plain": [
       "167794"
      ]
     },
     "metadata": {},
     "output_type": "display_data"
    }
   ],
   "source": [
    "post_comment = pd.read_csv('post_comment_utf16.csv', encoding='UTF-16LE') \n",
    "#df.apply(lambda x: pd.lib.infer_dtype(x.values))\n",
    "post_comment.columns=['xy','docid','key', 'id.x', 'created_time','message']\n",
    "display(post_comment.head(3))\n",
    "display(len(post_comment['key']))"
   ]
  },
  {
   "cell_type": "code",
   "execution_count": 5,
   "metadata": {
    "collapsed": false
   },
   "outputs": [
    {
     "name": "stderr",
     "output_type": "stream",
     "text": [
      "/Users/chiachienhung/anaconda/lib/python3.6/site-packages/ipykernel/__main__.py:2: FutureWarning: sort(columns=....) is deprecated, use sort_values(by=.....)\n",
      "  from ipykernel import kernelapp as app\n"
     ]
    }
   ],
   "source": [
    "rm_na = post_comment.dropna()\n",
    "dtime = rm_na.sort(['created_time'])\n",
    "dfinal = pd.DataFrame(dtime, columns = ['xy','docid','key','id.x', 'created_time','message'])\n",
    "dfinal.to_csv(\"post_comment_rm_utf16.csv\", encoding='UTF-16LE',columns = ['xy','docid','key','id.x', 'created_time','message'])"
   ]
  },
  {
   "cell_type": "code",
   "execution_count": 6,
   "metadata": {
    "collapsed": false
   },
   "outputs": [
    {
     "data": {
      "text/html": [
       "<div>\n",
       "<table border=\"1\" class=\"dataframe\">\n",
       "  <thead>\n",
       "    <tr style=\"text-align: right;\">\n",
       "      <th></th>\n",
       "      <th>Unnamed: 0</th>\n",
       "      <th>xy</th>\n",
       "      <th>docid</th>\n",
       "      <th>key</th>\n",
       "      <th>id.x</th>\n",
       "      <th>created_time</th>\n",
       "      <th>message</th>\n",
       "    </tr>\n",
       "  </thead>\n",
       "  <tbody>\n",
       "    <tr>\n",
       "      <th>0</th>\n",
       "      <td>40593</td>\n",
       "      <td>message.x</td>\n",
       "      <td>136529</td>\n",
       "      <td>psoriasis</td>\n",
       "      <td>105226382844778_320199574680790</td>\n",
       "      <td>2012-01-01 00:24:50</td>\n",
       "      <td>Ahora s. Feliz ao y mucha salud para tod@s!!!</td>\n",
       "    </tr>\n",
       "    <tr>\n",
       "      <th>1</th>\n",
       "      <td>144772</td>\n",
       "      <td>message.y</td>\n",
       "      <td>136529</td>\n",
       "      <td>psoriasis</td>\n",
       "      <td>105226382844778_320199574680790</td>\n",
       "      <td>2012-01-01 00:26:16</td>\n",
       "      <td>Igualmente para todos!!!!!!</td>\n",
       "    </tr>\n",
       "    <tr>\n",
       "      <th>2</th>\n",
       "      <td>144773</td>\n",
       "      <td>message.y</td>\n",
       "      <td>136530</td>\n",
       "      <td>psoriasis</td>\n",
       "      <td>105226382844778_320199574680790</td>\n",
       "      <td>2012-01-01 00:29:53</td>\n",
       "      <td>Ms piel y menos placas!!!!!!</td>\n",
       "    </tr>\n",
       "  </tbody>\n",
       "</table>\n",
       "</div>"
      ],
      "text/plain": [
       "   Unnamed: 0         xy   docid        key                             id.x  \\\n",
       "0       40593  message.x  136529  psoriasis  105226382844778_320199574680790   \n",
       "1      144772  message.y  136529  psoriasis  105226382844778_320199574680790   \n",
       "2      144773  message.y  136530  psoriasis  105226382844778_320199574680790   \n",
       "\n",
       "          created_time                                        message  \n",
       "0  2012-01-01 00:24:50  Ahora s. Feliz ao y mucha salud para tod@s!!!  \n",
       "1  2012-01-01 00:26:16                    Igualmente para todos!!!!!!  \n",
       "2  2012-01-01 00:29:53                   Ms piel y menos placas!!!!!!  "
      ]
     },
     "metadata": {},
     "output_type": "display_data"
    },
    {
     "name": "stdout",
     "output_type": "stream",
     "text": [
      "167425\n"
     ]
    }
   ],
   "source": [
    "dstart = pd.read_csv('post_comment_rm_utf16.csv', encoding='UTF-16LE')\n",
    "display(dstart.head(3))\n",
    "print(len(dstart['key']))"
   ]
  },
  {
   "cell_type": "code",
   "execution_count": 7,
   "metadata": {
    "collapsed": true
   },
   "outputs": [],
   "source": [
    "from nltk import wordpunct_tokenize\n",
    "from nltk.corpus import stopwords\n",
    "def _calculate_languages_ratios(text):\n",
    "    languages_ratios = {}\n",
    "    tokens = wordpunct_tokenize(text)\n",
    "    words = [word.lower() for word in tokens]\n",
    "    for language in stopwords.fileids():\n",
    "        stopwords_set = set(stopwords.words(language))\n",
    "        words_set = set(words)\n",
    "        common_elements = words_set.intersection(stopwords_set)\n",
    "\n",
    "        languages_ratios[language] = len(common_elements) # language \"score\"\n",
    "\n",
    "    return languages_ratios\n",
    "def detect_language(text):\n",
    "    ratios = _calculate_languages_ratios(text)\n",
    "    most_rated_language = max(ratios, key=ratios.get)\n",
    "    return most_rated_language"
   ]
  },
  {
   "cell_type": "code",
   "execution_count": 8,
   "metadata": {
    "collapsed": false
   },
   "outputs": [
    {
     "name": "stdout",
     "output_type": "stream",
     "text": [
      "[nltk_data] Downloading package stopwords to\n",
      "[nltk_data]     /Users/chiachienhung/nltk_data...\n",
      "[nltk_data]   Package stopwords is already up-to-date!\n"
     ]
    }
   ],
   "source": [
    "import pandas as pd\n",
    "import numpy as np\n",
    "import re\n",
    "import nltk\n",
    "import csv\n",
    "nltk.download('stopwords')\n",
    "from nltk.corpus import stopwords\n",
    "#pip install langdetect\n",
    "from langdetect import detect\n",
    "\n",
    "df_fb = pd.read_csv('post_comment_rm_utf16.csv', encoding = 'utf-16LE', sep=',')\n",
    "                         \n",
    "with open('post_comment_preprocessing_utf16.csv', 'w', encoding='UTF-16LE', newline='') as csvfile:\n",
    "    column = [['no','xy','docid','key','id.x','created_time','message','lang','re_message']]\n",
    "    writer = csv.writer(csvfile)\n",
    "    writer.writerows(column)\n",
    "    \n",
    "for i in range(len(df_fb['message'])):    \n",
    "    features = []\n",
    "    features.append(i)\n",
    "    features.append(df_fb['xy'][i])\n",
    "    features.append(df_fb['docid'][i])\n",
    "    features.append(df_fb['key'][i])\n",
    "    features.append(df_fb['id.x'][i])\n",
    "    features.append(df_fb['created_time'][i])\n",
    "    features.append(df_fb['message'][i])\n",
    "    if(str(df_fb['message'][i])==\"nan\"):\n",
    "        features.append('english')\n",
    "        features.append(df_fb['message'][i])\n",
    "    else:\n",
    "        #tokens = nltk.word_tokenize(str(df_twitter['message'][i]))\n",
    "        tokens=' '.join(re.findall(r\"[\\w']+\", str(df_fb['message'][i]))).lower().split()\n",
    "        postag=nltk.pos_tag(tokens)\n",
    "        irlist=[',','.',':','#',';','CD','WRB','RB','PRP','...',')','(','-','``','@']\n",
    "        wordlist=['co', 'https', 'http','rt','www','ve','don',\"i'm\",\"it's\"]\n",
    "        adjandn = [word for word,pos in postag if pos not in irlist and word not in wordlist and len(word)>2]\n",
    "        #adjandn = [word for word,pos in postag if pos not in irlist]\n",
    "        lang=detect_language(df_fb['message'][i])\n",
    "        features.append(lang)\n",
    "        #print(i,lang)\n",
    "        stop = set(stopwords.words(lang))\n",
    "        wordlist = [i for i in adjandn if i not in stop]\n",
    "        features.append(' '.join(wordlist))\n",
    "    with open('post_comment_preprocessing_utf16.csv', 'a', encoding='UTF-16LE', newline='') as csvfile:\n",
    "        writer = csv.writer(csvfile)\n",
    "        writer.writerows([features])"
   ]
  },
  {
   "cell_type": "code",
   "execution_count": 9,
   "metadata": {
    "collapsed": false
   },
   "outputs": [
    {
     "data": {
      "text/html": [
       "<div>\n",
       "<table border=\"1\" class=\"dataframe\">\n",
       "  <thead>\n",
       "    <tr style=\"text-align: right;\">\n",
       "      <th></th>\n",
       "      <th>no</th>\n",
       "      <th>xy</th>\n",
       "      <th>docid</th>\n",
       "      <th>key</th>\n",
       "      <th>id.x</th>\n",
       "      <th>created_time</th>\n",
       "      <th>message</th>\n",
       "      <th>lang</th>\n",
       "      <th>re_message</th>\n",
       "    </tr>\n",
       "  </thead>\n",
       "  <tbody>\n",
       "    <tr>\n",
       "      <th>0</th>\n",
       "      <td>0</td>\n",
       "      <td>message.x</td>\n",
       "      <td>136529</td>\n",
       "      <td>psoriasis</td>\n",
       "      <td>105226382844778_320199574680790</td>\n",
       "      <td>2012-01-01 00:24:50</td>\n",
       "      <td>Ahora s. Feliz ao y mucha salud para tod@s!!!</td>\n",
       "      <td>english</td>\n",
       "      <td>ahora feliz mucha salud para tod</td>\n",
       "    </tr>\n",
       "    <tr>\n",
       "      <th>2</th>\n",
       "      <td>2</td>\n",
       "      <td>message.y</td>\n",
       "      <td>136530</td>\n",
       "      <td>psoriasis</td>\n",
       "      <td>105226382844778_320199574680790</td>\n",
       "      <td>2012-01-01 00:29:53</td>\n",
       "      <td>Ms piel y menos placas!!!!!!</td>\n",
       "      <td>english</td>\n",
       "      <td>piel menos placas</td>\n",
       "    </tr>\n",
       "    <tr>\n",
       "      <th>6</th>\n",
       "      <td>6</td>\n",
       "      <td>message.y</td>\n",
       "      <td>136534</td>\n",
       "      <td>psoriasis</td>\n",
       "      <td>105226382844778_320199574680790</td>\n",
       "      <td>2012-01-01 00:41:29</td>\n",
       "      <td>muchas gracias, adios picores y hola nueva pie...</td>\n",
       "      <td>english</td>\n",
       "      <td>muchas gracias adios picores hola nueva piel</td>\n",
       "    </tr>\n",
       "  </tbody>\n",
       "</table>\n",
       "</div>"
      ],
      "text/plain": [
       "   no         xy   docid        key                             id.x  \\\n",
       "0   0  message.x  136529  psoriasis  105226382844778_320199574680790   \n",
       "2   2  message.y  136530  psoriasis  105226382844778_320199574680790   \n",
       "6   6  message.y  136534  psoriasis  105226382844778_320199574680790   \n",
       "\n",
       "          created_time                                            message  \\\n",
       "0  2012-01-01 00:24:50      Ahora s. Feliz ao y mucha salud para tod@s!!!   \n",
       "2  2012-01-01 00:29:53                       Ms piel y menos placas!!!!!!   \n",
       "6  2012-01-01 00:41:29  muchas gracias, adios picores y hola nueva pie...   \n",
       "\n",
       "      lang                                    re_message  \n",
       "0  english              ahora feliz mucha salud para tod  \n",
       "2  english                             piel menos placas  \n",
       "6  english  muchas gracias adios picores hola nueva piel  "
      ]
     },
     "metadata": {},
     "output_type": "display_data"
    },
    {
     "name": "stdout",
     "output_type": "stream",
     "text": [
      "167425 116151\n"
     ]
    }
   ],
   "source": [
    "df_postncomment = pd.read_csv('post_comment_preprocessing_utf16.csv', encoding = 'UTF-16LE', sep=',')\n",
    "#display(df_postncomment.head(5))\n",
    "df_english= df_postncomment.loc[df_postncomment['lang'] == 'english']\n",
    "df_rm = df_english.drop_duplicates(subset=['key','re_message'])\n",
    "display(df_rm.head(3))\n",
    "print(len(df_postncomment['key']),len(df_rm['key']))\n",
    "rm_english_na = df_rm.dropna()\n",
    "#print(len(rm_english_na))\n",
    "dfinal_fb = pd.DataFrame(rm_english_na, columns = ['no','xy','docid','key','id.x','created_time','message','lang','re_message'])\n",
    "dfinal_fb.to_csv(\"final_preprocessing_utf16.csv\", encoding='UTF-16LE',columns = ['no','xy','docid','key','id.x','created_time','message','lang','re_message'])"
   ]
  },
  {
   "cell_type": "code",
   "execution_count": 10,
   "metadata": {
    "collapsed": false,
    "scrolled": false
   },
   "outputs": [
    {
     "data": {
      "text/html": [
       "<div>\n",
       "<table border=\"1\" class=\"dataframe\">\n",
       "  <thead>\n",
       "    <tr style=\"text-align: right;\">\n",
       "      <th></th>\n",
       "      <th>Unnamed: 0</th>\n",
       "      <th>no</th>\n",
       "      <th>xy</th>\n",
       "      <th>docid</th>\n",
       "      <th>key</th>\n",
       "      <th>id.x</th>\n",
       "      <th>created_time</th>\n",
       "      <th>message</th>\n",
       "      <th>lang</th>\n",
       "      <th>re_message</th>\n",
       "    </tr>\n",
       "  </thead>\n",
       "  <tbody>\n",
       "    <tr>\n",
       "      <th>0</th>\n",
       "      <td>0</td>\n",
       "      <td>0</td>\n",
       "      <td>message.x</td>\n",
       "      <td>136529</td>\n",
       "      <td>psoriasis</td>\n",
       "      <td>105226382844778_320199574680790</td>\n",
       "      <td>2012-01-01 00:24:50</td>\n",
       "      <td>Ahora s. Feliz ao y mucha salud para tod@s!!!</td>\n",
       "      <td>english</td>\n",
       "      <td>ahora feliz mucha salud para tod</td>\n",
       "    </tr>\n",
       "    <tr>\n",
       "      <th>1</th>\n",
       "      <td>2</td>\n",
       "      <td>2</td>\n",
       "      <td>message.y</td>\n",
       "      <td>136530</td>\n",
       "      <td>psoriasis</td>\n",
       "      <td>105226382844778_320199574680790</td>\n",
       "      <td>2012-01-01 00:29:53</td>\n",
       "      <td>Ms piel y menos placas!!!!!!</td>\n",
       "      <td>english</td>\n",
       "      <td>piel menos placas</td>\n",
       "    </tr>\n",
       "    <tr>\n",
       "      <th>2</th>\n",
       "      <td>6</td>\n",
       "      <td>6</td>\n",
       "      <td>message.y</td>\n",
       "      <td>136534</td>\n",
       "      <td>psoriasis</td>\n",
       "      <td>105226382844778_320199574680790</td>\n",
       "      <td>2012-01-01 00:41:29</td>\n",
       "      <td>muchas gracias, adios picores y hola nueva pie...</td>\n",
       "      <td>english</td>\n",
       "      <td>muchas gracias adios picores hola nueva piel</td>\n",
       "    </tr>\n",
       "  </tbody>\n",
       "</table>\n",
       "</div>"
      ],
      "text/plain": [
       "   Unnamed: 0  no         xy   docid        key  \\\n",
       "0           0   0  message.x  136529  psoriasis   \n",
       "1           2   2  message.y  136530  psoriasis   \n",
       "2           6   6  message.y  136534  psoriasis   \n",
       "\n",
       "                              id.x         created_time  \\\n",
       "0  105226382844778_320199574680790  2012-01-01 00:24:50   \n",
       "1  105226382844778_320199574680790  2012-01-01 00:29:53   \n",
       "2  105226382844778_320199574680790  2012-01-01 00:41:29   \n",
       "\n",
       "                                             message     lang  \\\n",
       "0      Ahora s. Feliz ao y mucha salud para tod@s!!!  english   \n",
       "1                       Ms piel y menos placas!!!!!!  english   \n",
       "2  muchas gracias, adios picores y hola nueva pie...  english   \n",
       "\n",
       "                                     re_message  \n",
       "0              ahora feliz mucha salud para tod  \n",
       "1                             piel menos placas  \n",
       "2  muchas gracias adios picores hola nueva piel  "
      ]
     },
     "metadata": {},
     "output_type": "display_data"
    },
    {
     "name": "stdout",
     "output_type": "stream",
     "text": [
      "116141\n"
     ]
    }
   ],
   "source": [
    "df_postn = pd.read_csv('final_preprocessing_utf16.csv', encoding = 'UTF-16LE', sep=',')\n",
    "display(df_postn.head(3))\n",
    "print(len(df_postn))"
   ]
  },
  {
   "cell_type": "code",
   "execution_count": null,
   "metadata": {
    "collapsed": true
   },
   "outputs": [],
   "source": []
  }
 ],
 "metadata": {
  "kernelspec": {
   "display_name": "Python 3",
   "language": "python",
   "name": "python3"
  },
  "language_info": {
   "codemirror_mode": {
    "name": "ipython",
    "version": 3
   },
   "file_extension": ".py",
   "mimetype": "text/x-python",
   "name": "python",
   "nbconvert_exporter": "python",
   "pygments_lexer": "ipython3",
   "version": "3.6.0"
  }
 },
 "nbformat": 4,
 "nbformat_minor": 2
}
