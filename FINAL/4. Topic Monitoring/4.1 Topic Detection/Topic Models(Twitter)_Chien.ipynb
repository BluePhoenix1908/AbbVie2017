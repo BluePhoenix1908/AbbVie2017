{
 "cells": [
  {
   "cell_type": "markdown",
   "metadata": {},
   "source": [
    "# Topic Models(Twitter)"
   ]
  },
  {
   "cell_type": "markdown",
   "metadata": {},
   "source": [
    "Here, three topic models are tested: **Latent Dirichlet Allocation(LDA), Latent Semantic Indexing(LSI), Hierarchical Dirichlet Process(HDP)**.<br>\n",
    "First, we used the balanced Twitter dataset by down-sampling and up-sampling. After data preprocessing, vocabulary dictionary and document term matrix are built. <br>\n",
    "We then trained the model by specifying different hyperparameter. Number of topics K is selected based on Silhouette score and human interpretation. Other parameters are selected by trial and error in order to get better result."
   ]
  },
  {
   "cell_type": "code",
   "execution_count": 1,
   "metadata": {
    "collapsed": true
   },
   "outputs": [],
   "source": [
    "import pandas as pd\n",
    "import numpy as np\n",
    "import os\n",
    "import re\n",
    "import csv\n",
    "import sys\n",
    "import time\n",
    "import string\n",
    "from IPython.display import Image\n",
    "from IPython.display import display\n",
    "import gensim\n",
    "from gensim import corpora, models, similarities\n",
    "import nltk\n",
    "#from nltk import wordpunct_tokenize\n",
    "from nltk.stem import WordNetLemmatizer\n",
    "from nltk.corpus import stopwords\n",
    "from sklearn.feature_extraction.text import TfidfVectorizer, CountVectorizer"
   ]
  },
  {
   "cell_type": "code",
   "execution_count": 2,
   "metadata": {},
   "outputs": [],
   "source": [
    "# After Data preprocessing, we use R to balanced the dataset by down-sampling and up-sampling\n",
    "# The sample dataset is selected by keywords, where each keyword contains 10000 tweets\n",
    "disease = pd.read_csv('sample_10000.csv', encoding = 'UTF-8', sep = ',', index_col = 0)\n",
    "df = pd.DataFrame(disease, columns = ['id', 'key', 'created_time', 'language', 'message'])\n",
    "df.index = range(len(df))\n",
    "dlang = df\n",
    "stop = set(stopwords.words('english'))\n",
    "exclude = set(string.punctuation)\n",
    "lemma = WordNetLemmatizer()\n",
    "\n",
    "with open(\n",
    "        '10000_preprocessing.csv',\n",
    "        'w',\n",
    "        encoding = 'UTF-8',\n",
    "        newline = '') as csvfile:\n",
    "    column = [[\n",
    "        'id', 'key', 'created_time', 'language', 'message', 're_message'\n",
    "    ]]\n",
    "    writer = csv.writer(csvfile)\n",
    "    writer.writerows(column)\n",
    "for i in range(len(dlang['message'])):\n",
    "    features = []\n",
    "    features.append(str(int(dlang['id'][i])))\n",
    "    features.append(dlang['key'][i])\n",
    "    features.append(dlang['created_time'][i])\n",
    "    features.append(dlang['language'][i])\n",
    "    features.append(dlang['message'][i])\n",
    "    reurl = re.sub(r\"http\\S+\", \"\", str(dlang['message'][i]))\n",
    "    tokens = ' '.join(re.findall(r\"[\\w']+\", reurl)).lower().split()\n",
    "    x = [''.join(c for c in s if c not in string.punctuation) for s in tokens]\n",
    "    x=' '.join(x)\n",
    "    stop_free = \" \".join([i for i in x.lower().split() if i not in stop])\n",
    "    punc_free = ''.join(ch for ch in stop_free if ch not in exclude)\n",
    "    normalized = \" \".join(lemma.lemmatize(word,pos='n') for word in punc_free.split())\n",
    "    normalized = \" \".join(lemma.lemmatize(word,pos='v') for word in normalized.split())\n",
    "    word = \" \".join(word for word in normalized.split() if len(word)>3)\n",
    "    postag = nltk.pos_tag(word.split())\n",
    "    irlist = [',','.',':','#',';','CD','WRB','RB','PRP','...',')','(','-','``','@']\n",
    "    poslist = ['NN','NNP','NNS','RB','RBR','RBS','JJ','JJR','JJS']\n",
    "    wordlist = ['co', 'https', 'http','rt','com','amp','fe0f','www','ve','dont',\"i'm\",\"it's\",'isnt','âźă','âąă','âł_','kf4pdwe64k']\n",
    "    adjandn = [word for word,pos in postag if pos in poslist and word not in wordlist and len(word)>3]\n",
    "    stop = set(stopwords.words('english'))\n",
    "    wordlist = [i for i in adjandn if i not in stop]\n",
    "    features.append(' '.join(wordlist))\n",
    "    with open('10000_preprocessing.csv', 'a', encoding = 'UTF-8', newline = '') as csvfile:\n",
    "        writer = csv.writer(csvfile)\n",
    "        writer.writerows([features])\n",
    "df_postncomment = pd.read_csv('10000_preprocessing.csv', encoding = 'UTF-8', sep = ',')\n",
    "df_rm = df_postncomment.drop_duplicates(subset = ['id', 're_message'])\n",
    "rm_english_na = df_rm.dropna()\n",
    "rm_english_na.index = range(len(rm_english_na))\n",
    "dfinal_tw = pd.DataFrame(\n",
    "    rm_english_na,\n",
    "    columns = ['id', 'key', 'created_time', 'language', 'message', 're_message'])\n",
    "dfinal_tw.to_csv(\n",
    "    '10000_twitter_preprocessing.csv',\n",
    "    encoding = 'UTF-8',\n",
    "    columns = ['id', 'key', 'created_time', 'language', 'message', 're_message'])\n",
    "os.remove('10000_preprocessing.csv')"
   ]
  },
  {
   "cell_type": "code",
   "execution_count": 3,
   "metadata": {},
   "outputs": [
    {
     "data": {
      "text/html": [
       "<div>\n",
       "<table border=\"1\" class=\"dataframe\">\n",
       "  <thead>\n",
       "    <tr style=\"text-align: right;\">\n",
       "      <th></th>\n",
       "      <th>id</th>\n",
       "      <th>key</th>\n",
       "      <th>created_time</th>\n",
       "      <th>language</th>\n",
       "      <th>message</th>\n",
       "      <th>re_message</th>\n",
       "    </tr>\n",
       "  </thead>\n",
       "  <tbody>\n",
       "    <tr>\n",
       "      <th>0</th>\n",
       "      <td>872427340885839872</td>\n",
       "      <td>abbvie</td>\n",
       "      <td>2017-06-07T10:17:41.000Z</td>\n",
       "      <td>en</td>\n",
       "      <td>Synlogic Meets First Discovery Milestone in Pa...</td>\n",
       "      <td>synlogic meet first discovery milestone partne...</td>\n",
       "    </tr>\n",
       "    <tr>\n",
       "      <th>1</th>\n",
       "      <td>862381755352965120</td>\n",
       "      <td>abbvie</td>\n",
       "      <td>2017-05-10T17:00:07.000Z</td>\n",
       "      <td>en</td>\n",
       "      <td>Read these 5 important facts about glioblastom...</td>\n",
       "      <td>read important fact glioblastoma btam</td>\n",
       "    </tr>\n",
       "    <tr>\n",
       "      <th>2</th>\n",
       "      <td>877888425768177664</td>\n",
       "      <td>abbvie</td>\n",
       "      <td>2017-06-22T13:58:05.000Z</td>\n",
       "      <td>en</td>\n",
       "      <td>RT @abbvie: Some kids spend 1/2 the day in fro...</td>\n",
       "      <td>abbvie front screen next week kaboom help</td>\n",
       "    </tr>\n",
       "  </tbody>\n",
       "</table>\n",
       "</div>"
      ],
      "text/plain": [
       "                   id     key              created_time language  \\\n",
       "0  872427340885839872  abbvie  2017-06-07T10:17:41.000Z       en   \n",
       "1  862381755352965120  abbvie  2017-05-10T17:00:07.000Z       en   \n",
       "2  877888425768177664  abbvie  2017-06-22T13:58:05.000Z       en   \n",
       "\n",
       "                                             message  \\\n",
       "0  Synlogic Meets First Discovery Milestone in Pa...   \n",
       "1  Read these 5 important facts about glioblastom...   \n",
       "2  RT @abbvie: Some kids spend 1/2 the day in fro...   \n",
       "\n",
       "                                          re_message  \n",
       "0  synlogic meet first discovery milestone partne...  \n",
       "1              read important fact glioblastoma btam  \n",
       "2          abbvie front screen next week kaboom help  "
      ]
     },
     "metadata": {},
     "output_type": "display_data"
    }
   ],
   "source": [
    "test = pd.read_csv('10000_twitter_preprocessing.csv', encoding = 'UTF-8', sep = ',', index_col = 0)\n",
    "display(test.head(3))"
   ]
  },
  {
   "cell_type": "code",
   "execution_count": 4,
   "metadata": {
    "collapsed": true
   },
   "outputs": [],
   "source": [
    "import pickle\n",
    "import pyLDAvis.gensim as gensimvis\n",
    "import pyLDAvis\n",
    "df_postn = pd.read_csv('10000_twitter_preprocessing.csv', encoding = 'UTF-8', \n",
    "                       sep = ',', index_col = 0)\n",
    "df_postn = df_postn.sort_values(['created_time'])\n",
    "df_postn.index = range(len(df_postn))\n",
    "stop = set(stopwords.words('english'))\n",
    "exclude = set(string.punctuation)\n",
    "lemma = WordNetLemmatizer()\n",
    "def tokenize(doc):\n",
    "    reurl = re.sub(r\"http\\S+\", \"\", str(doc))\n",
    "    tokens = ' '.join(re.findall(r\"[\\w']+\", reurl)).lower().split()\n",
    "    x = [''.join(c for c in s if c not in string.punctuation) for s in tokens]\n",
    "    x = ' '.join(x)\n",
    "    stop_free = \" \".join([i for i in x.lower().split() if i not in stop])\n",
    "    punc_free = ''.join(ch for ch in stop_free if ch not in exclude)\n",
    "    normalized = \" \".join(lemma.lemmatize(word, pos='n') for word in punc_free.split())\n",
    "    normalized = \" \".join(lemma.lemmatize(word, pos='v') for word in normalized.split())\n",
    "    word = \" \".join(word for word in normalized.split() if len(word) > 3)\n",
    "    postag = nltk.pos_tag(word.split())\n",
    "    poslist = ['NN', 'NNP', 'NNS', 'RB', 'RBR', 'RBS', 'JJ', 'JJR', 'JJS']\n",
    "    wordlist = ['co', 'https', 'http', 'rt', 'www', 've', 'dont', \"i'm\", \"it's\",'kf4pdwe64k','co', 'https', 'http', 'rt', 'www', 've', 'dont', \"i'm\", \"it's\",'kf4pdwe64k','nhttps','cant','didnt']\n",
    "    adjandn = [word for word, pos in postag if pos in poslist and word not in wordlist and len(word) > 3]\n",
    "    return ' '.join(adjandn)\n",
    "\n",
    "import datetime\n",
    "import dateutil.relativedelta\n",
    "def dateselect(day):\n",
    "    d = datetime.datetime.strptime(str(datetime.date.today()), \"%Y-%m-%d\")\n",
    "    d2 = d - dateutil.relativedelta.relativedelta(days=day)\n",
    "    df_time = df_postn['created_time']\n",
    "    df_time = pd.to_datetime(df_time)\n",
    "    mask = (df_time > d2) & (df_time <= d)\n",
    "    period = df_postn.loc[mask]\n",
    "    return period\n",
    "\n",
    "corpus = list(df_postn['re_message'])\n",
    "directory = \"doc_clean.txt\"\n",
    "if os.path.exists(directory):\n",
    "    with open(\"doc_clean.txt\", \"rb\") as fp:  # Unpickling\n",
    "        doc_clean = pickle.load(fp)\n",
    "else:\n",
    "    doc_clean = [tokenize(doc).split() for doc in corpus]\n",
    "    with open(\"doc_clean.txt\", \"wb\") as fp:  #Pickling\n",
    "        pickle.dump(doc_clean, fp)\n",
    "directory = \"corpus.dict\"\n",
    "if os.path.exists(directory):\n",
    "    dictionary = corpora.Dictionary.load('corpus.dict')\n",
    "else:\n",
    "    dictionary = corpora.Dictionary(doc_clean)\n",
    "    dictionary.save('corpus.dict')\n",
    "doc_term_matrix = [dictionary.doc2bow(doc) for doc in doc_clean]\n",
    "tfidf = models.TfidfModel(doc_term_matrix)\n",
    "finalcorpus=tfidf[doc_term_matrix]"
   ]
  },
  {
   "cell_type": "markdown",
   "metadata": {},
   "source": [
    "# Latent Dirichlet Allocation(LDA)"
   ]
  },
  {
   "cell_type": "code",
   "execution_count": 5,
   "metadata": {},
   "outputs": [
    {
     "name": "stdout",
     "output_type": "stream",
     "text": [
      "Topic 1 :  ['management', 'stake', 'position', 'share', 'abbv', 'capital', 'myers']\n",
      "Topic 2 :  ['hepatitis', 'infection', 'triple', 'epidemic', 'virus', 'year', 'people']\n",
      "Topic 3 :  ['bristol', 'myers', 'bristolmyerssquibb', 'read', 'collaboration', 'estimate', 'opdivo']\n",
      "Topic 4 :  ['trial', 'drug', 'astrazeneca', 'late', 'stage', 'share', 'fall']\n",
      "Topic 5 :  ['video', 'arthritis', 'rheumatoid', 'heroin', 'arthritisremedies', 'case', 'spike']\n",
      "Topic 6 :  ['fish', 'arthritis', 'progression', 'rheumatoid', 'early', 'today', 'ibrutinib']\n",
      "Topic 7 :  ['application', 'data', 'phase', 'amgen', 'regimen', 'image', 'possible']\n",
      "Topic 8 :  ['amgen', 'quarter', 'revenue', 'earn', 'post', 'profit', 'share']\n",
      "Topic 9 :  ['court', 'supreme', 'worldhepatitisday', 'limit', 'company', 'food', 'administration']\n",
      "Topic 10 :  ['arthritis', 'rheumatoid', 'rheum', 'symptom', 'painful', 'ease', 'psoriasis']\n",
      "Topic 11 :  ['psoriasis', 'suffer', 'skin', 'skincare', 'itchy', 'please', 'eczema']\n",
      "Topic 12 :  ['biogen', 'price', 'insight', 'roche', 'license', 'drug', 'myers']\n",
      "Topic 13 :  ['option', 'myers', 'bristol', 'inhibitor', 'volume', 'colorectal', 'complete']\n",
      "Topic 14 :  ['johnson', 'disease', 'vitamin', 'link', 'arthritis', 'autoimmune', 'risk']\n",
      "Topic 15 :  ['depakote', 'safety', 'efficacy', 'abbvie', 'june', 'quote', 'psoriasis']\n",
      "Topic 16 :  ['transplant', 'dose', 'melanoma', 'hepatitis', 'advice', 'survival', 'ahead']\n",
      "Topic 17 :  ['coherus', 'manage', 'reject', 'drug', 'drop', 'amgen', 'hope']\n",
      "Topic 18 :  ['spondylitis', 'ankylose', 'fast', 'label', 'animal', 'cholesterol', 'benefit']\n",
      "Topic 19 :  ['california', 'tour', 'diagnosis', 'receive', 'step', 'essential', 'stage']\n",
      "Topic 20 :  ['patent', 'diet', 'opioid', 'light', 'blockbuster', 'ptab', 'matter']\n",
      "Topic 21 :  ['psoriasis', 'scalp', 'eczema', 'evenity', 'live', 'arthritis', 'rheumatoid']\n",
      "Topic 22 :  ['raise', 'real', 'complication', 'bank', 'commercial', 'hospital', 'radius']\n",
      "Topic 23 :  ['genetics', 'biopharma', 'array', 'psoriasis', 'travel', 'know', 'propose']\n",
      "Topic 24 :  ['home', 'exercise', 'youtube', 'psoriasis', 'naturally', 'remedy', 'scholarship']\n",
      "Topic 25 :  ['jefferies', 'group', 'full', 'industry', 'amgen', 'approval', 'model']\n",
      "Topic 26 :  ['fail', 'slump', 'jump', 'abbviegivesback', 'stress', 'everyday', 'psoriasis']\n",
      "Topic 27 :  ['order', 'damage', 'abbvie', 'face', 'long', 'nearly', 'trial']\n",
      "Topic 28 :  ['fact', 'decrease', 'arthritis', 'surprise', 'rheumatoid', 'fatigue', 'natural']\n",
      "Topic 29 :  ['young', 'baby', 'hepatitis', 'boomer', 'giant', 'american', 'people']\n",
      "Topic 30 :  ['vaccine', 'tablet', 'mortality', 'shoot', 'humira', 'hepatitis', 'percent']\n",
      "Topic 31 :  ['liable', 'liver', 'trigger', 'cause', 'recent', 'nash', 'androgel']\n",
      "Topic 32 :  ['jury', 'verdict', 'misrepresentation', 'first', 'july', 'abbvie', 'cycle']\n",
      "Topic 33 :  ['eczema', 'psoriasis', 'wish', 'miracle', 'hepatitis', 'skin', 'half']\n",
      "Topic 34 :  ['interest', 'short', 'right', 'comment', 'likely', 'article', 'antibiotic']\n",
      "Topic 35 :  ['amgens', 'asco17', 'gilead', 'dividend', 'abbvie', 'pfizer', 'gene']\n",
      "Topic 36 :  ['vetr', 'severe', 'everydayhealth', 'opinion', 'positive', 'abbvie', 'chmp']\n",
      "Topic 37 :  ['child', 'nice', 'promise', 'plaque', 'psoriasis', 'pediatric', 'chicago']\n",
      "Topic 38 :  ['alternative', 'guidance', 'psoriasis', 'difference', 'arthritis', 'rheumatoid', 'bloomberg']\n",
      "Topic 39 :  ['quarterly', 'pool', 'philip', 'safe', 'nbristol', 'psoriasis', 'presentation']\n",
      "Topic 40 :  ['final', 'strategy', 'uveitis', 'board', 'allergan', 'method', 'goal']\n"
     ]
    }
   ],
   "source": [
    "from gensim.models import CoherenceModel, LdaModel, LsiModel, HdpModel\n",
    "ldamodel = LdaModel(finalcorpus, num_topics = 40, id2word = dictionary, \n",
    "                    update_every = 10, chunksize = 2000, passes = 10, alpha = 0.05)\n",
    "ldamodel.save('lda40.model')\n",
    "import pyLDAvis.gensim as gensimvis\n",
    "import pyLDAvis\n",
    "ldamodel = LdaModel.load('lda40.model')\n",
    "vis_data = gensimvis.prepare(ldamodel, finalcorpus, dictionary)\n",
    "pyLDAvis.save_html(vis_data, 'lda40.html')\n",
    "vistopicid = vis_data[6]\n",
    "idlist = []\n",
    "for j in range(1, len(vistopicid) + 1):\n",
    "    idlist.append([i for i, x in enumerate(vistopicid) if x == j][0])\n",
    "topicwords = {}\n",
    "no = 0\n",
    "for prob in ldamodel.show_topics(40,7):\n",
    "    tokens = ' '.join(re.findall(r\"[\\w']+\", str(prob[1]))).lower().split()\n",
    "    x = [''.join(c for c in s if c not in string.punctuation) for s in tokens]\n",
    "    result = ' '.join([i for i in x if not i.isdigit()])\n",
    "    topicwords[idlist[no]] = result.split()\n",
    "    no += 1\n",
    "for i in range(40):\n",
    "    print(\"Topic\", i+1, \": \", topicwords[i])"
   ]
  },
  {
   "cell_type": "code",
   "execution_count": 6,
   "metadata": {},
   "outputs": [
    {
     "name": "stdout",
     "output_type": "stream",
     "text": [
      "Topic 1 :  ['bristol', 'myers', 'bristolmyerssquibb', 'drug', 'astrazeneca', 'cancer', 'read']\n",
      "Topic 2 :  ['abbv', 'share', 'stake', 'management', 'position', 'abbvie', 'myers']\n",
      "Topic 3 :  ['arthritis', 'rheumatoid', 'spondylitis', 'androgel', 'pain', 'joint', 'ankylose']\n",
      "Topic 4 :  ['hepatitis', 'infection', 'video', 'triple', 'arthritis', 'rheumatoid', 'epidemic']\n",
      "Topic 5 :  ['spondylitis', 'ankylose', 'psoriasis', 'today', 'news', 'medical', 'diet']\n",
      "Topic 6 :  ['california', 'tour', 'stage', 'rheumatoid', 'arthritis', 'race', 'disease']\n",
      "Topic 7 :  ['psoriasis', 'skin', 'testosterone', 'question', 'scalp', 'antiviral', 'wish']\n",
      "Topic 8 :  ['hepatitis', 'suffer', 'active', 'treatment', 'manufacture', 'evenity', 'itchy']\n",
      "Topic 9 :  ['vetr', 'bristol', 'myers', 'abbvie', 'global', 'coverage', 'abbv']\n",
      "Topic 10 :  ['earn', 'amgen', 'target', 'analyst', 'myers', 'bristol', 'animal']\n",
      "Topic 11 :  ['ibrutinib', 'leukemia', 'cell', 'application', 'biologics', 'patient', 'submit']\n",
      "Topic 12 :  ['court', 'supreme', 'fish', 'limit', 'sandoz', 'company', 'case']\n",
      "Topic 13 :  ['johnson', 'verdict', 'approval', 'receive', 'full', 'alternative', 'opinion']\n",
      "Topic 14 :  ['worldhepatitisday', 'european', 'hepatitis', 'commission', 'pregnant', 'interest', 'woman']\n",
      "Topic 15 :  ['heroin', 'hepatitis', 'spike', 'case', 'tablet', 'psoriasis', 'thing']\n",
      "Topic 16 :  ['patent', 'amgen', 'humira', 'coherus', 'hepatitis', 'guidance', 'final']\n",
      "Topic 17 :  ['plaque', 'psoriasis', 'option', 'severe', 'treatment', 'game', 'drug']\n",
      "Topic 18 :  ['child', 'head', 'psoriasis', 'image', 'neck', 'nice', 'humira']\n",
      "Topic 19 :  ['arthritis', 'marijuana', 'rheumatoid', 'pill', 'medical', 'cannabis', 'patient']\n",
      "Topic 20 :  ['second', 'problem', 'higher', 'rate', 'drug', 'world', 'regulatory']\n",
      "Topic 21 :  ['benefit', 'cholesterol', 'label', 'heart', 'fast', 'story', 'review']\n",
      "Topic 22 :  ['bristol', 'myers', 'survival', 'oncology', 'melanoma', 'young', 'immuno']\n",
      "Topic 23 :  ['jefferies', 'group', 'insight', 'drug', 'price', 'nobody', 'competition']\n",
      "Topic 24 :  ['vitamin', 'autoimmune', 'revenue', 'deficiency', 'disease', 'partnership', 'surge']\n",
      "Topic 25 :  ['arthritis', 'rheumatoid', 'gene', 'smoke', 'foundation', 'cook', 'osteoarthritis']\n",
      "Topic 26 :  ['side', 'humira', 'posture', 'overall', 'effect', 'hide', 'psoriasis']\n",
      "Topic 27 :  ['depakote', 'home', 'psoriasis', 'abbvie', 'bloomberg', 'giant', 'naturally']\n",
      "Topic 28 :  ['jury', 'order', 'damage', 'abbvie', 'push', 'trial', 'generic']\n",
      "Topic 29 :  ['liable', 'misrepresentation', 'first', 'genetics', 'promise', 'abbvie', 'file']\n",
      "Topic 30 :  ['fall', 'psoriasis', 'scholarship', 'kyprolis', 'stress', 'american', 'behindthesmile']\n"
     ]
    }
   ],
   "source": [
    "from gensim.models import CoherenceModel, LdaModel, LsiModel, HdpModel\n",
    "# ldamodel = LdaModel(finalcorpus, num_topics = 30, id2word = dictionary, \n",
    "#                     update_every = 10, chunksize = 2000, passes = 10, alpha = 0.05)\n",
    "# ldamodel.save('lda30.model')\n",
    "import pyLDAvis.gensim as gensimvis\n",
    "import pyLDAvis\n",
    "ldamodel = LdaModel.load('lda30.model')\n",
    "vis_data = gensimvis.prepare(ldamodel, finalcorpus, dictionary)\n",
    "pyLDAvis.save_html(vis_data, 'lda30.html')\n",
    "vistopicid = vis_data[6]\n",
    "idlist = []\n",
    "for j in range(1, len(vistopicid) + 1):\n",
    "    idlist.append([i for i, x in enumerate(vistopicid) if x == j][0])\n",
    "topicwords = {}\n",
    "no = 0\n",
    "for prob in ldamodel.show_topics(30,7):\n",
    "    tokens = ' '.join(re.findall(r\"[\\w']+\", str(prob[1]))).lower().split()\n",
    "    x = [''.join(c for c in s if c not in string.punctuation) for s in tokens]\n",
    "    result = ' '.join([i for i in x if not i.isdigit()])\n",
    "    topicwords[idlist[no]] = result.split()\n",
    "    no += 1\n",
    "for i in range(30):\n",
    "    print(\"Topic\", i+1, \": \", topicwords[i])\n",
    "# Save the topic results as a csv file\n",
    "topics = pd.DataFrame.from_dict(topicwords, orient = 'index')\n",
    "topics.sort_index(inplace = True)\n",
    "topics.to_csv('LDA_topics.csv', encoding = 'UTF-8')\n",
    "# k = pd.read_csv('LDA_topics.csv', encoding='UTF-8', sep=',',index_col=0)\n",
    "# df = pd.DataFrame(k)\n",
    "# df.columns=list(range(1,11))\n",
    "# display(df)"
   ]
  },
  {
   "cell_type": "markdown",
   "metadata": {},
   "source": [
    "# Latent Semantic Indexing(LSI)"
   ]
  },
  {
   "cell_type": "code",
   "execution_count": 7,
   "metadata": {},
   "outputs": [
    {
     "name": "stdout",
     "output_type": "stream",
     "text": [
      "Topic 1 :  ['bristol', 'myers', 'drug', 'cancer', 'arthritis', 'share', 'rheumatoid', 'company', 'hepatitis', 'abbvie']\n",
      "Topic 2 :  ['arthritis', 'rheumatoid', 'bristol', 'myers', 'hepatitis', 'treatment', 'psoriasis', 'patient', 'drug', 'video']\n",
      "Topic 3 :  ['hepatitis', 'arthritis', 'rheumatoid', 'infection', 'epidemic', 'drug', 'triple', 'abbvie', 'bristol', 'case']\n",
      "Topic 4 :  ['abbvie', 'hepatitis', 'abbv', 'amgen', 'trial', 'stage', 'late', 'epidemic', 'infection', 'bristol']\n",
      "Topic 5 :  ['psoriasis', 'spondylitis', 'ankylose', 'rheumatoid', 'treatment', 'today', 'arthritis', 'medical', 'drug', 'news']\n",
      "Topic 6 :  ['amgen', 'drug', 'court', 'cancer', 'trial', 'amgn', 'supreme', 'late', 'stage', 'company']\n",
      "Topic 7 :  ['court', 'supreme', 'limit', 'abbvie', 'abbv', 'company', 'drug', 'spondylitis', 'share', 'psoriasis']\n",
      "Topic 8 :  ['spondylitis', 'psoriasis', 'ankylose', 'stage', 'treatment', 'late', 'trial', 'court', 'skin', 'supreme']\n",
      "Topic 9 :  ['amgen', 'abbvie', 'amgn', 'abbv', 'drug', 'court', 'supreme', 'limit', 'company', 'psoriasis']\n",
      "Topic 10 :  ['stage', 'triple', 'hepatitis', 'epidemic', 'infection', 'drug', 'late', 'amgen', 'trial', 'psoriasis']\n",
      "Topic 11 :  ['spike', 'heroin', 'case', 'triple', 'infection', 'year', 'drive', 'nearly', 'drug', 'high']\n",
      "Topic 12 :  ['drug', 'hepatitis', 'stage', 'epidemic', 'psoriasis', 'heroin', 'treatment', 'biogen', 'medical', 'roche']\n",
      "Topic 13 :  ['collaboration', 'share', 'bristolmyerssquibb', 'drug', 'combination', 'cancer', 'read', 'announce', 'abbvie', 'management']\n",
      "Topic 14 :  ['medical', 'news', 'today', 'psoriasis', 'ankylose', 'progression', 'technique', 'image', 'early', 'sign']\n",
      "Topic 15 :  ['biogen', 'cancer', 'roche', 'neck', 'head', 'cost', 'agency', 'license', 'trial', 'jury']\n",
      "Topic 16 :  ['biogen', 'roche', 'jury', 'verdict', 'first', 'misrepresentation', 'liable', 'treatment', 'patient', 'depakote']\n",
      "Topic 17 :  ['patient', 'treatment', 'jury', 'first', 'verdict', 'approval', 'misrepresentation', 'liable', 'quarter', 'profit']\n",
      "Topic 18 :  ['biogen', 'roche', 'cancer', 'approval', 'johnson', 'treatment', 'disease', 'cost', 'neck', 'head']\n",
      "Topic 19 :  ['patient', 'disease', 'treatment', 'humira', 'link', 'second', 'copy', 'fish', 'risk', 'parkinson']\n",
      "Topic 20 :  ['fish', 'medicine', 'pain', 'symptom', 'surprise', 'benefit', 'wellness', 'heart', 'rate', 'problem']\n",
      "Topic 21 :  ['patient', 'fish', 'second', 'disease', 'copy', 'heart', 'humira', 'link', 'problem', 'higher']\n",
      "Topic 22 :  ['nash', 'midstage', 'liver', 'study', 'trial', 'heart', 'problem', 'humira', 'higher', 'copy']\n",
      "Topic 23 :  ['johnson', 'approval', 'fish', 'patient', 'samsung', 'oral', 'disease', 'risk', 'treatment', 'parkinson']\n",
      "Topic 24 :  ['quarter', 'profit', 'jury', 'depakote', 'first', 'cancer', 'cost', 'lower', 'amgn', 'street']\n",
      "Topic 25 :  ['collaboration', 'survival', 'melanoma', 'bioscience', 'nordic', 'share', 'better', 'announce', 'rate', 'drug']\n",
      "Topic 26 :  ['california', 'cost', 'neck', 'tour', 'head', 'agency', 'obesity', 'estimate', 'late', 'heart']\n",
      "Topic 27 :  ['second', 'copy', 'lilly', 'patent', 'biosimilar', 'back', 'world', 'approval', 'estimate', 'incyte']\n",
      "Topic 28 :  ['obesity', 'epidemic', 'case', 'year', 'melanoma', 'test', 'survival', 'cost', 'woman', 'push']\n",
      "Topic 29 :  ['survival', 'melanoma', 'case', 'epidemic', 'estimate', 'johnson', 'help', 'year', 'cancer', 'push']\n",
      "Topic 30 :  ['obesity', 'melanoma', 'survival', 'test', 'facility', 'manufacture', 'lilly', 'biotek', 'oral', 'estimate']\n"
     ]
    }
   ],
   "source": [
    "from gensim.models import CoherenceModel, LdaModel, LsiModel, HdpModel\n",
    "lsimodel = LsiModel(finalcorpus, id2word = dictionary, num_topics = 30,chunksize = 2000)\n",
    "lsimodel.save('lsi30.model')\n",
    "topicwords = {}\n",
    "no = 0\n",
    "for prob in lsimodel.show_topics(30, 10):\n",
    "    tokens = ' '.join(re.findall(r\"[\\w']+\", str(prob[1]))).lower().split()\n",
    "    x = [''.join(c for c in s if c not in string.punctuation) for s in tokens]\n",
    "    result = ' '.join([i for i in x if not i.isdigit()])\n",
    "    topicwords[no] = result.split()\n",
    "    no += 1\n",
    "for i in range(30):\n",
    "    print(\"Topic\", i+1, \": \", topicwords[i])"
   ]
  },
  {
   "cell_type": "markdown",
   "metadata": {},
   "source": [
    "# Hierarchical Dirichlet Process(HDP)"
   ]
  },
  {
   "cell_type": "code",
   "execution_count": 8,
   "metadata": {},
   "outputs": [
    {
     "name": "stdout",
     "output_type": "stream",
     "text": [
      "Topic 1 :  ['efficacy', 'kiranshaw', 'nreuters', 'eclecticv', 'stevehowley1974', 'ogutozgur', 'variation']\n",
      "Topic 2 :  ['biome', 'sensory', 'cookchildrens', 'climate', 'bhivebiotek', 'moriartylab', 'variety']\n",
      "Topic 3 :  ['womb', 'zjemptv', 'airedalenhsft', 'discount', 'thedermeditor', 'parliament', 'sitifat']\n",
      "Topic 4 :  ['bornthisway', 'louis', 'frankleeplain', 'siliconrepublic', 'quashaag', 'arthroplasty', 'adfam']\n",
      "Topic 5 :  ['annavanderbreggen', 'emjdermatology', 'chemorefractoriness', 'carolyn', 'bacterial', 'finale', 'inside']\n",
      "Topic 6 :  ['seatonelementaryschool', 'crocker', 'banknote', 'eyeli', 'bankholiday', 'twittertakeover', 'possibil']\n",
      "Topic 7 :  ['twisted147', 'stopthewait', 'taxpayer', 'pale', 'weekofpossibiliti', 'paudevera', 'stopeatingbees']\n",
      "Topic 8 :  ['sensanders', 'hr17', 'nilveritas', 'degree', 'muhammad', 'nopinions', 'revitol']\n",
      "Topic 9 :  ['quarterback', 'intralinks', 'eeojana', 'eharmony', 'scarymommy', 'aghseagles', 'consumeraffairs']\n",
      "Topic 10 :  ['cauzd', 'teuren', 'grantee', 'rodeo', 'adamridler10', 'aahks', 'igg4']\n",
      "Topic 11 :  ['eightbanal', 'progression', 'thou', 'fred', 'benha', 'bristolmyerssquibb', 'livingproof']\n",
      "Topic 12 :  ['beauti', 'healthevoices', 'veteranshealth', 'carleen', 'county', 'travelwi', 'reallife']\n",
      "Topic 13 :  ['bristol', 'sdfdn', 'iona', 'dickhead', 'tweetbinder', 'lecture', 'blood']\n",
      "Topic 14 :  ['blade', 'rheumatoidisease', 'serctherapy', 'cfda', 'enstilar', 'collaboration', 'dtap']\n",
      "Topic 15 :  ['bruce', 'examiner', 'membs', 'september', 'ginablack24', 'shikar', 'finally']\n",
      "Topic 16 :  ['biindia', 'immobile', 'qldpol', 'huffmans', 'justneem', 'outdoorsy', 'acti']\n",
      "Topic 17 :  ['hibiscushairandbodywash', 'publication', 'littlemsbuffy', 'thotconsultants', 'naturaltreatment', 'breakingnews', 'neimhaille']\n",
      "Topic 18 :  ['rickitt', 'diabeties', 'ptcts', 'rbcrwanda', 'hypocrit', 'creak', 'zipvit']\n",
      "Topic 19 :  ['infuriate', 'mykaleidoscope', 'myspondylitis', 'serviceunites', 'jbbc', 'tahoe', 'kingscollegelon']\n",
      "Topic 20 :  ['payson', 'pahowho', 'constantly', 'jonathan', 'tipps', 'pvickerton', 'leclere']\n",
      "Topic 21 :  ['psoriasis', 'matthewstoller', 'ifraserellis', 'blinkx90', 'livgnews', 'mff181', 'nsymptoms']\n",
      "Topic 22 :  ['spearmint', 'corkscrew', 'shuttle', 'amgensacramento', 'hyperlipidemic', 'defargeknits', 'dulce']\n",
      "Topic 23 :  ['nkeep', 'psoriaticarth', 'debradelai', 'voicesoflife', 'anyone', 'hcorini', 'capacity']\n",
      "Topic 24 :  ['ottoecho', 'instorenow', 'sucker', 'dozen', 'mausmarcela', 'marylynnebahr', 'domain']\n",
      "Topic 25 :  ['delevingne', 'iamhonchosa', 'beautifully', 'gingham', 'globenewswire', 'boswell', 'glecaprevi']\n",
      "Topic 26 :  ['disabilitysk', 'astellas', 'attain', 'gastro', 'mmahistorytoday', 'niubang', 'wtspjenny']\n",
      "Topic 27 :  ['psoriasishu', 'sebastian', 'contra', 'drpixie', 'eyeforpharma', 'medhum', 'saudipharma']\n",
      "Topic 28 :  ['kommunikation', 'millionen', 'hchang316', 'radiajcarr', 'posi', 'tarbox', 'naturecomms']\n",
      "Topic 29 :  ['struggle', 'medivation', 'friendliness', 'hate', 'chogle', 'justinthymehp', 'stormearden']\n",
      "Topic 30 :  ['rayvahey', 'phucmyho', 'tomography', 'rozrunsabit', 'bmjlatest', 'cafsociety', 'bellevuemagz']\n"
     ]
    }
   ],
   "source": [
    "hdpmodel = HdpModel(finalcorpus, id2word = dictionary, T = 30, alpha = 0.05, chunksize = 2000)\n",
    "hdpmodel.save('hdp.model')\n",
    "vis_data = gensimvis.prepare(hdpmodel, finalcorpus, dictionary)\n",
    "#pyLDAvis.display(vis_data)\n",
    "vistopicid = vis_data[6]\n",
    "idlist = []\n",
    "for j in range(1, len(vistopicid) + 1):\n",
    "    idlist.append([i for i, x in enumerate(vistopicid) if x == j][0])\n",
    "topicwords = {}\n",
    "no = 0\n",
    "for prob in hdpmodel.show_topics(30,7):\n",
    "    tokens = ' '.join(re.findall(r\"[\\w']+\", str(prob[1]))).lower().split()\n",
    "    x = [''.join(c for c in s if c not in string.punctuation) for s in tokens]\n",
    "    result = ' '.join([i for i in x if not i.isdigit()])\n",
    "    topicwords[idlist[no]] = result.split()\n",
    "    no += 1\n",
    "for i in range(30):\n",
    "    print(\"Topic\", i+1, \": \", topicwords[i])"
   ]
  },
  {
   "cell_type": "markdown",
   "metadata": {},
   "source": [
    "# Coherence Score"
   ]
  },
  {
   "cell_type": "markdown",
   "metadata": {},
   "source": [
    "Topic models which can come up with topics as a bag of words can be plugged into the **coherence pipeline**. [NMF topic model](https://medium.com/@aneesha/topic-modeling-with-scikit-learn-e80d33668730) created with scikit-learn can also be compared. <br>\n",
    "In this section, coherence score is implemented based on [gensim.models.coherencemodel](https://radimrehurek.com/gensim/models/coherencemodel.html) and [Exploring the Space of Topic Coherence Measures](http://svn.aksw.org/papers/2015/WSDM_Topic_Evaluation/public.pdf).<br>\n",
    "See also: [News classification with topic models in gensim](https://markroxor.github.io/gensim/static/notebooks/gensim_news_classification.html)"
   ]
  },
  {
   "cell_type": "code",
   "execution_count": 9,
   "metadata": {
    "collapsed": true
   },
   "outputs": [],
   "source": [
    "lsitopics = lsimodel.show_topics(30, 10, formatted = False)\n",
    "hdptopics = hdpmodel.show_topics(30, 10, formatted = False)\n",
    "ldatopics = ldamodel.show_topics(30, 10, formatted = False)\n",
    "lsitopic = [[word for word, prob in topic] for topicid, topic in lsitopics]\n",
    "hdptopic = [[word for word, prob in topic] for topicid, topic in hdptopics]\n",
    "ldatopic = [[word for word, prob in topic] for topicid, topic in ldatopics]\n",
    "lsi_coherence = CoherenceModel(topics = lsitopic[:30], texts = doc_clean, dictionary = dictionary, window_size = 10).get_coherence()\n",
    "hdp_coherence = CoherenceModel(topics = hdptopic[:30], texts = doc_clean, dictionary = dictionary, window_size = 10).get_coherence()\n",
    "lda_coherence = CoherenceModel(topics = ldatopic[:30], texts = doc_clean, dictionary = dictionary, window_size = 10).get_coherence()"
   ]
  },
  {
   "cell_type": "code",
   "execution_count": 10,
   "metadata": {
    "collapsed": true
   },
   "outputs": [],
   "source": [
    "# coherences: list of coherence values\n",
    "# indices: indices to be used to mark bars.\n",
    "def evaluate_bar_graph(coherences, indices):\n",
    "    assert len(coherences) == len(indices)\n",
    "    n = len(coherences)\n",
    "    x = np.arange(n)\n",
    "    plt.bar(x, coherences, width = 0.2, tick_label = indices, align = 'center')\n",
    "    plt.xlabel('Models')\n",
    "    plt.ylabel('Coherence Value')\n",
    "    plt.savefig(\"Coherence_tw.png\", dpi = 100)\n",
    "    plt.show()"
   ]
  },
  {
   "cell_type": "code",
   "execution_count": 11,
   "metadata": {
    "scrolled": false
   },
   "outputs": [
    {
     "data": {
      "image/png": "[encoded data removed]",
      "text/plain": [
       "<matplotlib.figure.Figure at 0x11858e9b0>"
      ]
     },
     "metadata": {},
     "output_type": "display_data"
    }
   ],
   "source": [
    "import matplotlib.pyplot as plt\n",
    "fig = plt.figure(figsize = (12,9), dpi = 100)\n",
    "evaluate_bar_graph([lsi_coherence, hdp_coherence, lda_coherence],\n",
    "                   ['LSI', 'HDP', 'LDA'])"
   ]
  }
 ],
 "metadata": {
  "kernelspec": {
   "display_name": "Python 3",
   "language": "python",
   "name": "python3"
  },
  "language_info": {
   "codemirror_mode": {
    "name": "ipython",
    "version": 3
   },
   "file_extension": ".py",
   "mimetype": "text/x-python",
   "name": "python",
   "nbconvert_exporter": "python",
   "pygments_lexer": "ipython3",
   "version": "3.6.0"
  }
 },
 "nbformat": 4,
 "nbformat_minor": 2
}
